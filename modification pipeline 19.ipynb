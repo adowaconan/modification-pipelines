{
 "cells": [
  {
   "cell_type": "code",
   "execution_count": 1,
   "metadata": {
    "collapsed": true
   },
   "outputs": [],
   "source": [
    "import eegPinelineDesign\n",
    "import numpy as np\n",
    "import random\n",
    "import mne\n",
    "import matplotlib.pyplot as plt\n",
    "plt.style.use('ggplot')\n",
    "import warnings\n",
    "warnings.filterwarnings(\"ignore\")\n",
    "import os\n",
    "import pandas as pd\n",
    "import re\n",
    "import json\n",
    "import scipy\n",
    "from sklearn.linear_model import LogisticRegression\n",
    "from sklearn.decomposition import PCA,FastICA\n",
    "from sklearn.pipeline import Pipeline,make_pipeline\n",
    "from sklearn.grid_search import GridSearchCV\n",
    "from sklearn.cross_validation import cross_val_score\n",
    "from scipy.fftpack import fft,ifft\n",
    "import math\n",
    "from sklearn.metrics import classification_report,accuracy_score,confusion_matrix\n",
    "from scipy.signal import spectrogram,find_peaks_cwt,butter, lfilter\n",
    "from mne.preprocessing.ica import ICA\n",
    "from sklearn.metrics import precision_recall_curve\n",
    "from sklearn.metrics import average_precision_score\n",
    "from sklearn.cross_validation import train_test_split,ShuffleSplit\n",
    "from sklearn.preprocessing import label_binarize,scale\n",
    "from sklearn.multiclass import OneVsRestClassifier\n",
    "from sklearn.svm import SVC\n",
    "from sklearn.preprocessing import label_binarize,StandardScaler"
   ]
  },
  {
   "cell_type": "code",
   "execution_count": 2,
   "metadata": {
    "collapsed": true
   },
   "outputs": [],
   "source": [
    "EDFfiles, Annotationfiles = eegPinelineDesign.split_type_of_files()\n",
    "\n",
    "from eegPinelineDesign import CenterAtPeakOfWindow,Threshold_test,spindle_overlapping_test,used_windows_check,cut_segments\n"
   ]
  },
  {
   "cell_type": "code",
   "execution_count": 3,
   "metadata": {
    "collapsed": true
   },
   "outputs": [],
   "source": [
    "import pickle\n",
    "with open('single subject.p','rb') as handle:\n",
    "    result = pickle.load(handle)"
   ]
  },
  {
   "cell_type": "code",
   "execution_count": 4,
   "metadata": {
    "collapsed": false
   },
   "outputs": [
    {
     "data": {
      "text/plain": [
       "dict_keys(['nonspindle time', 'non spindle', 'spindle time', 'spindle'])"
      ]
     },
     "execution_count": 4,
     "metadata": {},
     "output_type": "execute_result"
    }
   ],
   "source": [
    "result.keys()"
   ]
  },
  {
   "cell_type": "code",
   "execution_count": 5,
   "metadata": {
    "collapsed": false
   },
   "outputs": [
    {
     "data": {
      "text/plain": [
       "dict_keys(['suj10_d1final'])"
      ]
     },
     "execution_count": 5,
     "metadata": {},
     "output_type": "execute_result"
    }
   ],
   "source": [
    "result['spindle'].keys()"
   ]
  },
  {
   "cell_type": "code",
   "execution_count": 6,
   "metadata": {
    "collapsed": true
   },
   "outputs": [],
   "source": [
    "fileName=list(result['spindle'].keys())[0]\n",
    "channelList=['F3','F4','C3','C4','O1','O2']\n",
    "X = [];Y=[]\n",
    "for names in channelList:\n",
    "    for item in result['spindle'][fileName][names]:\n",
    "        if item.shape[1] == 3000:\n",
    "\n",
    "            X.append(item[0,:])\n",
    "            Y.append(1)\n",
    "    for item in result['non spindle'][fileName][names]:\n",
    "        if item.shape[1] == 3000:\n",
    "            X.append(item[0,:])\n",
    "            Y.append(0)\n",
    "\n",
    "X=np.array(X);Y=np.array(Y)"
   ]
  },
  {
   "cell_type": "code",
   "execution_count": 7,
   "metadata": {
    "collapsed": false
   },
   "outputs": [
    {
     "data": {
      "text/plain": [
       "((1451, 3000), (1451,))"
      ]
     },
     "execution_count": 7,
     "metadata": {},
     "output_type": "execute_result"
    }
   ],
   "source": [
    "X.shape,Y.shape"
   ]
  },
  {
   "cell_type": "code",
   "execution_count": 8,
   "metadata": {
    "collapsed": false
   },
   "outputs": [
    {
     "name": "stdout",
     "output_type": "stream",
     "text": [
      "logistic,1 fold, 80/20 train/test slipt\n",
      "             precision    recall  f1-score   support\n",
      "\n",
      "          0       0.91      0.94      0.93       148\n",
      "          1       0.94      0.91      0.92       143\n",
      "\n",
      "avg / total       0.92      0.92      0.92       291\n",
      "\n",
      "within training data set 0.927586206897\n"
     ]
    }
   ],
   "source": [
    "idx=np.arange(X.shape[0])\n",
    "GG=np.random.choice(tuple(idx),len(idx),replace=False)\n",
    "def shuffle(x):\n",
    "    return sorted(x, key=lambda k: random.random())\n",
    "GG = shuffle(shuffle(shuffle(shuffle(GG))))\n",
    "XX=[];YY=[]\n",
    "for idxx in GG:\n",
    "    XX.append(X[idxx])\n",
    "    YY.append(Y[idxx])\n",
    "\n",
    "from sklearn.preprocessing import normalize\n",
    "normal_X = normalize(XX)\n",
    "X_train, X_test, y_train, y_test = train_test_split(normal_X, YY, test_size=0.20)\n",
    "\n",
    "#print(y_train)\n",
    "\n",
    "clf =LogisticRegression(penalty='l2',C=.1,tol=10e-9,fit_intercept=True,solver='liblinear',\n",
    "                                             max_iter=10e7,multi_class='ovr',n_jobs=-1)\n",
    "\n",
    "\n",
    "\n",
    "clf.fit(X_train,y_train)\n",
    "print('logistic,1 fold, 80/20 train/test slipt')\n",
    "print(classification_report(clf.predict(X_test),y_test))\n",
    "print('within training data set',clf.score(X_train,y_train))"
   ]
  },
  {
   "cell_type": "code",
   "execution_count": 15,
   "metadata": {
    "collapsed": false,
    "scrolled": true
   },
   "outputs": [
    {
     "name": "stdout",
     "output_type": "stream",
     "text": [
      "Extracting edf Parameters from suj10_d1final.edf...\n",
      "Setting channel info structure...\n",
      "Creating Raw.info structure...\n",
      "Reading 0 ... 3601999  =      0.000 ...  3601.999 secs...\n",
      "[done]\n",
      "Ready.\n",
      "Fitting ICA to data using 8 channels. \n",
      "Please be patient, this may take some time\n",
      "Inferring max_pca_components from picks.\n",
      "Using all PCA components: 8\n",
      "    Searching for artifacts...\n",
      "    found 2 artifacts by EOG 00\n",
      "    found 1 artifact by skewness\n",
      "    found 1 artifact by kurtosis\n",
      "    found 1 artifact by variance\n",
      "Artifact indices found:\n",
      "    2, 7, 4, 4, 2\n",
      "    Removing duplicate indices...\n",
      "Ready.\n",
      "Transforming to ICA space (8 components)\n",
      "Zeroing out 3 ICA components\n",
      "Inverse transforming to PCA space\n",
      "Reconstructing sensor space signals from 8 PCA components\n",
      "Band-pass filtering from 11 - 16 Hz\n",
      "Extracting edf Parameters from suj10_d1final.edf...\n",
      "Setting channel info structure...\n",
      "Creating Raw.info structure...\n",
      "Reading 0 ... 3601999  =      0.000 ...  3601.999 secs...\n",
      "[done]\n",
      "Ready.\n",
      "Fitting ICA to data using 8 channels. \n",
      "Please be patient, this may take some time\n",
      "Inferring max_pca_components from picks.\n",
      "Using all PCA components: 8\n",
      "    Searching for artifacts...\n",
      "    found 2 artifacts by EOG 00\n",
      "    found 1 artifact by skewness\n",
      "    found 1 artifact by kurtosis\n",
      "    found 1 artifact by variance\n",
      "Artifact indices found:\n",
      "    2, 7, 4, 4, 2\n",
      "    Removing duplicate indices...\n",
      "Ready.\n",
      "Transforming to ICA space (8 components)\n",
      "Zeroing out 3 ICA components\n",
      "Inverse transforming to PCA space\n",
      "Reconstructing sensor space signals from 8 PCA components\n",
      "Band-pass filtering from 8 - 12 Hz\n",
      "Extracting edf Parameters from suj10_d1final.edf...\n",
      "Setting channel info structure...\n",
      "Creating Raw.info structure...\n",
      "Reading 0 ... 3601999  =      0.000 ...  3601.999 secs...\n",
      "[done]\n",
      "Ready.\n",
      "Fitting ICA to data using 8 channels. \n",
      "Please be patient, this may take some time\n",
      "Inferring max_pca_components from picks.\n",
      "Using all PCA components: 8\n",
      "    Searching for artifacts...\n",
      "    found 2 artifacts by EOG 00\n",
      "    found 1 artifact by skewness\n",
      "    found 1 artifact by kurtosis\n",
      "    found 1 artifact by variance\n",
      "Artifact indices found:\n",
      "    2, 7, 4, 4, 2\n",
      "    Removing duplicate indices...\n",
      "Ready.\n",
      "Transforming to ICA space (8 components)\n",
      "Zeroing out 3 ICA components\n",
      "Inverse transforming to PCA space\n",
      "Reconstructing sensor space signals from 8 PCA components\n",
      "Band-pass filtering from 11 - 16 Hz\n",
      "Extracting edf Parameters from suj10_d1final.edf...\n",
      "Setting channel info structure...\n",
      "Creating Raw.info structure...\n",
      "Reading 0 ... 3601999  =      0.000 ...  3601.999 secs...\n",
      "[done]\n",
      "Ready.\n",
      "Fitting ICA to data using 8 channels. \n",
      "Please be patient, this may take some time\n",
      "Inferring max_pca_components from picks.\n",
      "Using all PCA components: 8\n",
      "    Searching for artifacts...\n",
      "    found 2 artifacts by EOG 00\n",
      "    found 1 artifact by skewness\n",
      "    found 1 artifact by kurtosis\n",
      "    found 1 artifact by variance\n",
      "Artifact indices found:\n",
      "    2, 7, 4, 4, 2\n",
      "    Removing duplicate indices...\n",
      "Ready.\n",
      "Transforming to ICA space (8 components)\n",
      "Zeroing out 3 ICA components\n",
      "Inverse transforming to PCA space\n",
      "Reconstructing sensor space signals from 8 PCA components\n",
      "Band-pass filtering from 30 - 40 Hz\n"
     ]
    },
    {
     "data": {
      "text/plain": [
       "<RawEDF  |  n_channels x n_times : 6 x 3602000>"
      ]
     },
     "execution_count": 15,
     "metadata": {},
     "output_type": "execute_result"
    }
   ],
   "source": [
    "num=2\n",
    "file_to_read,fileName=eegPinelineDesign.pick_sample_file(EDFfiles,n=num)\n",
    "channelList = ['F3','F4','C3','C4','O1','O2','ROC','LOC']\n",
    "raw_filter = eegPinelineDesign.load_data(file_to_read,channelList,11, 16)#spindle pass\n",
    "raw_alpha=eegPinelineDesign.load_data(file_to_read,channelList,8, 12)#alpha pass\n",
    "raw_spindle=eegPinelineDesign.load_data(file_to_read,channelList,11, 16)#spindle pass\n",
    "raw_muscle=eegPinelineDesign.load_data(file_to_read,channelList,30, 40)#\n",
    "channelList = ['F3','F4','C3','C4','O1','O2']\n",
    "raw_filter.pick_channels(channelList)"
   ]
  },
  {
   "cell_type": "code",
   "execution_count": 16,
   "metadata": {
    "collapsed": true
   },
   "outputs": [],
   "source": [
    "time_label={};resolution = 0.02\n",
    "for names in channelList:\n",
    "    time_label[names]=[]"
   ]
  },
  {
   "cell_type": "code",
   "execution_count": null,
   "metadata": {
    "collapsed": false,
    "scrolled": true
   },
   "outputs": [
    {
     "name": "stdout",
     "output_type": "stream",
     "text": [
      "5\n",
      "14.999999999999787\n",
      "24.999999999999574\n",
      "34.99999999999989\n",
      "45.00000000000146\n",
      "55.00000000000302\n",
      "65.00000000000422\n",
      "75.00000000000223\n",
      "85.00000000000024\n",
      "94.99999999999825\n",
      "104.99999999999626\n",
      "114.99999999999427\n",
      "124.99999999999228\n",
      "134.99999999999525\n",
      "145.00000000000037\n",
      "155.00000000000549\n",
      "165.0000000000106\n",
      "175.00000000001572\n",
      "185.00000000002083\n",
      "195.00000000002595\n",
      "205.00000000003106\n",
      "215.00000000003618\n",
      "225.0000000000413\n",
      "235.0000000000464\n",
      "245.00000000005153\n",
      "255.00000000005664\n",
      "265.00000000004894\n",
      "275.00000000003985\n",
      "285.00000000003075\n",
      "295.00000000002166\n",
      "305.00000000001256\n",
      "315.00000000000347\n",
      "324.9999999999944\n",
      "334.9999999999853\n",
      "344.9999999999762\n",
      "354.9999999999671\n",
      "364.999999999958\n",
      "374.9999999999489\n",
      "384.9999999999398\n",
      "394.9999999999307\n",
      "404.9999999999216\n",
      "414.9999999999125\n",
      "424.9999999999034\n",
      "434.9999999998943\n",
      "444.99999999988523\n",
      "454.99999999987614\n",
      "464.99999999986704\n",
      "474.99999999985795\n",
      "484.99999999984885\n",
      "494.99999999983976"
     ]
    }
   ],
   "source": [
    "centerPoint = 0+5;cnt = 0\n",
    "while raw_filter.last_samp/1000 - centerPoint > 1.5:\n",
    "    if (cnt % 500) == 0:\n",
    "        print(centerPoint)\n",
    "    for ii,names in enumerate(channelList):\n",
    "    \n",
    "        if Threshold_test(centerPoint,raw_alpha,raw_spindle,raw_muscle,ii):\n",
    "            tempSegment,timeSpan=cut_segments(raw_filter,centerPoint,ii,windowsize = 1.5)\n",
    "            predictedLabel = clf.predict(tempSegment[0,:3000])\n",
    "            time_label[names].append([centerPoint,predictedLabel])\n",
    "        else:\n",
    "            time_label[names].append([centerPoint,0])\n",
    "\n",
    "    centerPoint += resolution;cnt += 1\n",
    "print('done')"
   ]
  }
 ],
 "metadata": {
  "kernelspec": {
   "display_name": "Python 3",
   "language": "python",
   "name": "python3"
  },
  "language_info": {
   "codemirror_mode": {
    "name": "ipython",
    "version": 3
   },
   "file_extension": ".py",
   "mimetype": "text/x-python",
   "name": "python",
   "nbconvert_exporter": "python",
   "pygments_lexer": "ipython3",
   "version": "3.5.1"
  }
 },
 "nbformat": 4,
 "nbformat_minor": 0
}
