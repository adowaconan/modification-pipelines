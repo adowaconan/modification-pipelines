{
 "cells": [
  {
   "cell_type": "code",
   "execution_count": 2,
   "metadata": {
    "collapsed": true
   },
   "outputs": [],
   "source": [
    "import numpy as np"
   ]
  },
  {
   "cell_type": "code",
   "execution_count": 22,
   "metadata": {
    "collapsed": false,
    "scrolled": true
   },
   "outputs": [
    {
     "name": "stdout",
     "output_type": "stream",
     "text": [
      "(2, 2, 1)\n",
      "[array([[ 0.02634416,  0.07927795, -0.09796164],\n",
      "       [-0.11855981,  0.00565045, -0.0538474 ]]), array([[ 0.18195193,  0.04031587,  0.0425824 ]])]\n",
      "Iteration 0\tError: 0.816\n",
      "Iteration 2500\tError: 0.810\n",
      "Iteration 5000\tError: 0.810\n",
      "Iteration 7500\tError: 0.810\n",
      "Iteration 10000\tError: 0.810\n",
      "Iteration 12500\tError: 0.810\n",
      "Iteration 15000\tError: 0.810\n",
      "Iteration 17500\tError: 0.810\n",
      "Iteration 20000\tError: 0.810\n",
      "Iteration 22500\tError: 0.810\n",
      "Iteration 25000\tError: 0.810\n",
      "Iteration 27500\tError: 0.810\n",
      "Iteration 30000\tError: 0.810\n",
      "Iteration 32500\tError: 0.810\n",
      "Iteration 35000\tError: 0.810\n",
      "Iteration 37500\tError: 0.810\n",
      "Iteration 40000\tError: 0.810\n",
      "Iteration 42500\tError: 0.810\n",
      "Iteration 45000\tError: 0.810\n",
      "Iteration 47500\tError: 0.810\n",
      "Iteration 50000\tError: 0.810\n",
      "Iteration 52500\tError: 0.810\n",
      "Iteration 55000\tError: 0.810\n",
      "Iteration 57500\tError: 0.810\n",
      "Iteration 60000\tError: 0.810\n",
      "Iteration 62500\tError: 0.810\n",
      "Iteration 65000\tError: 0.810\n",
      "Iteration 67500\tError: 0.810\n",
      "Iteration 70000\tError: 0.810\n",
      "Iteration 72500\tError: 0.810\n",
      "Iteration 75000\tError: 0.810\n",
      "Iteration 77500\tError: 0.810\n",
      "Iteration 80000\tError: 0.809\n",
      "Iteration 82500\tError: 0.391\n",
      "Iteration 85000\tError: 0.004\n",
      "Iteration 87500\tError: 0.001\n",
      "Iteration 90000\tError: 0.000\n",
      "Iteration 92500\tError: 0.000\n",
      "Iteration 95000\tError: 0.000\n",
      "Iteration 97500\tError: 0.000\n",
      "Desired error reached. Iter: 98652\n",
      "Input: [[0 0]\n",
      " [1 1]\n",
      " [0 1]\n",
      " [1 0]]\n",
      "Output: [[ 0.05197464]\n",
      " [ 0.05063833]\n",
      " [ 0.94889364]\n",
      " [ 0.94788745]]\n"
     ]
    }
   ],
   "source": [
    "class BackPropagationNetwork:\n",
    "    \"\"\"A back-propagation Network\"\"\"\n",
    "    \n",
    "    #\n",
    "    # Class members\n",
    "    #\n",
    "    layerCount = 0\n",
    "    shape = None\n",
    "    weights=[]\n",
    "    \n",
    "    #\n",
    "    # Class methods\n",
    "    #\n",
    "    def __init__(self, layerSize):\n",
    "        \"\"\" Initialize the network\"\"\"\n",
    "        \n",
    "        # layer info\n",
    "        self.layerCount = len(layerSize) -1\n",
    "        self.shape = layerSize\n",
    "        \n",
    "        # Input/Output data from last Run\n",
    "        self._layerInput = []\n",
    "        self._layerOutput = []\n",
    "        \n",
    "        # Create the weight arrays\n",
    "        for (l1,l2) in zip(layerSize[:-1],layerSize[1:]):\n",
    "            self.weights.append(np.random.normal(scale = 0.1,size=(l2,l1+1)))\n",
    "            \n",
    "\n",
    "            \n",
    "    #\n",
    "    # Run method\n",
    "    #\n",
    "    def Run(self,input):\n",
    "        \"\"\"Run the network based on the input data\"\"\"\n",
    "        \n",
    "        lnCases = input.shape[0]\n",
    "        \n",
    "        # Clear out the previous intermediate value lists\n",
    "        self._layerInput=[]\n",
    "        self._layerOutput=[]\n",
    "        \n",
    "        # Run it!\n",
    "        for index in range(self.layerCount):\n",
    "            # Determine layer input\n",
    "            if index ==0:\n",
    "                layerInput = self.weights[0].dot(np.vstack([input.T,np.ones([1,lnCases])]))\n",
    "            else:\n",
    "                layerInput = self.weights[index].dot(np.vstack([self._layerOutput[-1],np.ones([1,lnCases])]))\n",
    "                \n",
    "            self._layerInput.append(layerInput)\n",
    "            self._layerOutput.append(self.sgm(layerInput))\n",
    "        return self._layerOutput[-1].T\n",
    "    \n",
    "    #\n",
    "    # TrainEpoch method\n",
    "    #\n",
    "    def TrainEpoch(self, input,target, trainingRate = 0.2):\n",
    "        \"\"\"This method trains the network for one epoch\"\"\"\n",
    "        \n",
    "        delta = []\n",
    "        lnCases = input.shape[0]\n",
    "        \n",
    "        # First run the network\n",
    "        self.Run(input)\n",
    "        \n",
    "        # Calculate our deltas\n",
    "        for index in reversed(range(self.layerCount)):\n",
    "            if index == self.layerCount -1:\n",
    "                # compare to the target values\n",
    "                output_delta = self._layerOutput[index] - target.T\n",
    "                error = np.sum(output_delta**2)\n",
    "                delta.append(output_delta * self.sgm(self._layerInput[index],True))\n",
    "            else:\n",
    "                #Compare to the following layer's delta\n",
    "                delta_pullback = self.weights[index + 1].T.dot(delta[-1])\n",
    "                delta.append(delta_pullback[:-1,:] * self.sgm(self._layerInput[index],True))\n",
    "                \n",
    "            \n",
    "        # Compute weight deltas\n",
    "        for index in range(self.layerCount):\n",
    "            delta_index = self.layerCount - 1 - index\n",
    "            \n",
    "            if index == 0:\n",
    "                layerOutput = np.vstack([input.T, np.ones([1,lnCases])])\n",
    "            else:\n",
    "                layerOutput = np.vstack([self._layerOutput[index -1],np.ones([1,self._layerOutput[index-1].shape[1]])])\n",
    "                \n",
    "            weightDelta = np.sum(\\\n",
    "                                layerOutput[None,:,:].transpose(2,0,1) * delta[delta_index][None,:,:].transpose(2,1,0)\\\n",
    "                                ,axis = 0)\n",
    "                \n",
    "            self.weights[index] -= trainingRate * weightDelta\n",
    "            \n",
    "        return error\n",
    "    \n",
    "    # Transfer functions\n",
    "    def sgm(self,x,Derivative = False):\n",
    "        if not Derivative:\n",
    "            return 1 / (1+np.exp(-x))\n",
    "        else:\n",
    "            out = self.sgm(x)\n",
    "            return out*(1-out)\n",
    "            \n",
    "#\n",
    "# if run as a script, create a test object\n",
    "#\n",
    "if __name__ == \"__main__\":\n",
    "    bpn = BackPropagationNetwork((2,2,1))\n",
    "    print(bpn.shape)\n",
    "    print(bpn.weights)\n",
    "    \n",
    "    lvInput = np.array([[0,0],[1,1],[0,1],[1,0]])\n",
    "    lvTarget = np.array([[0.05],[0.05],[0.95],[0.95]])\n",
    "    \n",
    "    lnMax = 100000\n",
    "    lnErr = 1e-5\n",
    "    for i in range(lnMax+1):\n",
    "        err = bpn.TrainEpoch(lvInput, lvTarget)\n",
    "        if i % 2500 == 0:\n",
    "            print(\"Iteration {a}\\tError: {b:0.6f}\".format(a=i, b=err))\n",
    "        if err <= lnErr:\n",
    "            print(\"Desired error reached. Iter: {0}\".format(i))\n",
    "            break\n",
    "    # Display output\n",
    "    lvOutput = bpn.Run(lvInput)\n",
    "    \n",
    "    print(\"Input: {0}\\nOutput: {1}\".format(lvInput,lvOutput))"
   ]
  },
  {
   "cell_type": "code",
   "execution_count": 4,
   "metadata": {
    "collapsed": true
   },
   "outputs": [],
   "source": [
    "A = np.array([[1,1],[2,2]]).T"
   ]
  },
  {
   "cell_type": "code",
   "execution_count": 5,
   "metadata": {
    "collapsed": false
   },
   "outputs": [
    {
     "data": {
      "text/plain": [
       "array([[[1, 2],\n",
       "        [1, 2]]])"
      ]
     },
     "execution_count": 5,
     "metadata": {},
     "output_type": "execute_result"
    }
   ],
   "source": [
    "A[None,:,:]"
   ]
  },
  {
   "cell_type": "code",
   "execution_count": 6,
   "metadata": {
    "collapsed": false
   },
   "outputs": [
    {
     "data": {
      "text/plain": [
       "array([[[1],\n",
       "        [1]],\n",
       "\n",
       "       [[2],\n",
       "        [2]]])"
      ]
     },
     "execution_count": 6,
     "metadata": {},
     "output_type": "execute_result"
    }
   ],
   "source": [
    "A[None,:,:].transpose()"
   ]
  },
  {
   "cell_type": "code",
   "execution_count": 8,
   "metadata": {
    "collapsed": false
   },
   "outputs": [
    {
     "data": {
      "text/plain": [
       "array([[[1, 1]],\n",
       "\n",
       "       [[2, 2]]])"
      ]
     },
     "execution_count": 8,
     "metadata": {},
     "output_type": "execute_result"
    }
   ],
   "source": [
    "A[None,:,:].transpose(2,0,1)"
   ]
  },
  {
   "cell_type": "code",
   "execution_count": 9,
   "metadata": {
    "collapsed": false
   },
   "outputs": [
    {
     "data": {
      "text/plain": [
       "array([[[1],\n",
       "        [1]],\n",
       "\n",
       "       [[2],\n",
       "        [2]]])"
      ]
     },
     "execution_count": 9,
     "metadata": {},
     "output_type": "execute_result"
    }
   ],
   "source": [
    "A[None,:,:].transpose(2,1,0)"
   ]
  },
  {
   "cell_type": "code",
   "execution_count": null,
   "metadata": {
    "collapsed": true
   },
   "outputs": [],
   "source": []
  }
 ],
 "metadata": {
  "kernelspec": {
   "display_name": "Python 3",
   "language": "python",
   "name": "python3"
  },
  "language_info": {
   "codemirror_mode": {
    "name": "ipython",
    "version": 3
   },
   "file_extension": ".py",
   "mimetype": "text/x-python",
   "name": "python",
   "nbconvert_exporter": "python",
   "pygments_lexer": "ipython3",
   "version": "3.5.1"
  }
 },
 "nbformat": 4,
 "nbformat_minor": 0
}
