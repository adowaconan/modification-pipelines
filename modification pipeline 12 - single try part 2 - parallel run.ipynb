{
 "cells": [
  {
   "cell_type": "code",
   "execution_count": 1,
   "metadata": {
    "collapsed": false
   },
   "outputs": [
    {
     "ename": "ImportError",
     "evalue": "No module named 'nitime'",
     "output_type": "error",
     "traceback": [
      "\u001b[1;31m---------------------------------------------------------------------------\u001b[0m",
      "\u001b[1;31mImportError\u001b[0m                               Traceback (most recent call last)",
      "\u001b[1;32m<ipython-input-1-c3bd2701d955>\u001b[0m in \u001b[0;36m<module>\u001b[1;34m()\u001b[0m\n\u001b[0;32m     28\u001b[0m \u001b[1;32mfrom\u001b[0m \u001b[0msklearn\u001b[0m\u001b[1;33m.\u001b[0m\u001b[0msvm\u001b[0m \u001b[1;32mimport\u001b[0m \u001b[0mSVC\u001b[0m\u001b[1;33m\u001b[0m\u001b[0m\n\u001b[0;32m     29\u001b[0m \u001b[1;32mfrom\u001b[0m \u001b[0msklearn\u001b[0m\u001b[1;33m.\u001b[0m\u001b[0mpreprocessing\u001b[0m \u001b[1;32mimport\u001b[0m \u001b[0mlabel_binarize\u001b[0m\u001b[1;33m,\u001b[0m\u001b[0mStandardScaler\u001b[0m\u001b[1;33m\u001b[0m\u001b[0m\n\u001b[1;32m---> 30\u001b[1;33m \u001b[1;32mfrom\u001b[0m \u001b[0mnitime\u001b[0m \u001b[1;32mimport\u001b[0m \u001b[0malgorithms\u001b[0m \u001b[1;32mas\u001b[0m \u001b[0malg\u001b[0m\u001b[1;33m\u001b[0m\u001b[0m\n\u001b[0m\u001b[0;32m     31\u001b[0m \u001b[0meegPinelineDesign\u001b[0m\u001b[1;33m.\u001b[0m\u001b[0mchange_file_directory\u001b[0m\u001b[1;33m(\u001b[0m\u001b[1;34m'C:/Users/ning/Downloads/training set'\u001b[0m\u001b[1;33m)\u001b[0m\u001b[1;33m\u001b[0m\u001b[0m\n\u001b[0;32m     32\u001b[0m \u001b[0mEDFfiles\u001b[0m\u001b[1;33m,\u001b[0m \u001b[0mAnnotationfiles\u001b[0m \u001b[1;33m=\u001b[0m \u001b[0meegPinelineDesign\u001b[0m\u001b[1;33m.\u001b[0m\u001b[0msplit_type_of_files\u001b[0m\u001b[1;33m(\u001b[0m\u001b[1;33m)\u001b[0m\u001b[1;33m\u001b[0m\u001b[0m\n",
      "\u001b[1;31mImportError\u001b[0m: No module named 'nitime'"
     ]
    }
   ],
   "source": [
    "import eegPinelineDesign\n",
    "import numpy as np\n",
    "import random\n",
    "import mne\n",
    "import matplotlib.pyplot as plt\n",
    "%matplotlib inline\n",
    "plt.style.use('ggplot') \n",
    "import os\n",
    "import pandas as pd\n",
    "import re\n",
    "import json\n",
    "import scipy\n",
    "from sklearn.linear_model import LogisticRegression\n",
    "from sklearn.decomposition import PCA,FastICA\n",
    "from sklearn.pipeline import Pipeline,make_pipeline\n",
    "from sklearn.grid_search import GridSearchCV\n",
    "from sklearn.cross_validation import cross_val_score\n",
    "from scipy.fftpack import fft,ifft\n",
    "import math\n",
    "from sklearn.metrics import classification_report,accuracy_score,confusion_matrix\n",
    "from scipy.signal import spectrogram,find_peaks_cwt\n",
    "from mne.preprocessing.ica import ICA\n",
    "from sklearn.metrics import precision_recall_curve\n",
    "from sklearn.metrics import average_precision_score\n",
    "from sklearn.cross_validation import train_test_split,ShuffleSplit\n",
    "from sklearn.preprocessing import label_binarize,scale\n",
    "from sklearn.multiclass import OneVsRestClassifier\n",
    "from sklearn.svm import SVC\n",
    "from sklearn.preprocessing import label_binarize,StandardScaler\n",
    "from nitime import algorithms as alg\n",
    "eegPinelineDesign.change_file_directory('C:/Users/ning/Downloads/training set')\n",
    "EDFfiles, Annotationfiles = eegPinelineDesign.split_type_of_files()"
   ]
  },
  {
   "cell_type": "code",
   "execution_count": 2,
   "metadata": {
    "collapsed": false
   },
   "outputs": [
    {
     "name": "stderr",
     "output_type": "stream",
     "text": [
      "C:\\Anaconda3\\lib\\site-packages\\IPython\\core\\formatters.py:92: DeprecationWarning: DisplayFormatter._ipython_display_formatter_default is deprecated: use @default decorator instead.\n",
      "  def _ipython_display_formatter_default(self):\n",
      "C:\\Anaconda3\\lib\\site-packages\\IPython\\core\\formatters.py:669: DeprecationWarning: PlainTextFormatter._singleton_printers_default is deprecated: use @default decorator instead.\n",
      "  def _singleton_printers_default(self):\n"
     ]
    },
    {
     "data": {
      "text/plain": [
       "['s5d2_final.edf',\n",
       " 's6n2_final.edf',\n",
       " 'suj10_d1final.edf',\n",
       " 'suj10_d2final.edf',\n",
       " 'suj13_l2nap_day2 edited.edf',\n",
       " 'suj13_l2nap_day2 edited1.edf',\n",
       " 'suj5_d1final.edf',\n",
       " 'suj6_d1final.edf',\n",
       " 'suj8_d1final.edf',\n",
       " 'suj8_d2final.edf',\n",
       " 'suj9_d1final.edf',\n",
       " 'suj9_d2final.edf']"
      ]
     },
     "execution_count": 2,
     "metadata": {},
     "output_type": "execute_result"
    }
   ],
   "source": [
    "EDFfiles"
   ]
  },
  {
   "cell_type": "code",
   "execution_count": 3,
   "metadata": {
    "collapsed": false
   },
   "outputs": [
    {
     "name": "stdout",
     "output_type": "stream",
     "text": [
      "Extracting edf Parameters from suj9_d2final.edf...\n",
      "Setting channel info structure...\n",
      "Creating Raw.info structure...\n",
      "Reading 0 ... 2589999  =      0.000 ...  2589.999 secs...\n",
      "[done]\n",
      "Ready.\n",
      "Fitting ICA to data using 8 channels. \n",
      "Please be patient, this may take some time\n",
      "Inferring max_pca_components from picks.\n",
      "Using all PCA components: 8\n",
      "    Searching for artifacts...\n",
      "    found 1 artifact by EOG 00\n",
      "    found 1 artifact by skewness\n",
      "    found 1 artifact by kurtosis\n",
      "    found 1 artifact by variance\n",
      "Artifact indices found:\n",
      "    6, 3, 3, 6\n",
      "    Removing duplicate indices...\n",
      "Ready.\n",
      "Transforming to ICA space (8 components)\n",
      "Zeroing out 2 ICA components\n",
      "Inverse transforming to PCA space\n",
      "Reconstructing sensor space signals from 8 PCA components\n",
      "Low-pass filtering at 5e+02 Hz\n",
      "Low-pass filtering at 1e+02 Hz\n"
     ]
    }
   ],
   "source": [
    "file_to_read,fileName=eegPinelineDesign.pick_sample_file(EDFfiles,n=-1)\n",
    "# channel list for artifact(eyemovement or chewing) removal - ROC and/or LOC\n",
    "channelList = ['F3','F4','C3','C4','O1','O2','ROC','LOC']\n",
    "raw = eegPinelineDesign.load_data(file_to_read,channelList,None, 100)# low pass\n",
    "annotation_to_read = [x for x in Annotationfiles if fileName in x]\n",
    "file = pd.read_csv(annotation_to_read[0])\n",
    "labelFind = re.compile('spindle',eegPinelineDesign.re.IGNORECASE)\n",
    "spindles=[]\n",
    "for row in file.iterrows():\n",
    "    currentEvent = row[1][-1]\n",
    "    if labelFind.search(currentEvent):\n",
    "        spindles.append(row[1][0])\n",
    "        \n",
    "sleep_annotation=[]\n",
    "searchLabel = re.compile('Markon: 2',re.IGNORECASE)\n",
    "for rows in file.iterrows():\n",
    "    currentEvent = rows[-1][-1]\n",
    "    if searchLabel.search(currentEvent):\n",
    "        sleep_annotation.append([rows[1][0],rows[1][0]+30])"
   ]
  },
  {
   "cell_type": "code",
   "execution_count": 4,
   "metadata": {
    "collapsed": false
   },
   "outputs": [
    {
     "name": "stderr",
     "output_type": "stream",
     "text": [
      "C:\\Anaconda3\\lib\\site-packages\\mne\\filter.py:333: UserWarning: Attenuation at stop frequency 7.5Hz is only 18.1dB.\n",
      "  '%0.1fdB.' % (att_freq, att_db))\n",
      "C:\\Anaconda3\\lib\\site-packages\\mne\\filter.py:333: UserWarning: Attenuation at stop frequency 17.0Hz is only 17.9dB.\n",
      "  '%0.1fdB.' % (att_freq, att_db))\n",
      "C:\\Anaconda3\\lib\\site-packages\\mne\\filter.py:333: UserWarning: Attenuation at stop frequency 29.5Hz is only 17.9dB.\n",
      "  '%0.1fdB.' % (att_freq, att_db))\n"
     ]
    }
   ],
   "source": [
    "# threshold test\n",
    "channelList=['F3','F4','C3','C4','O1','O2']\n",
    "windowsize = 5;ratio_index={};muscle_index={};sample_ind={};resolution = 1\n",
    "for ii, names in enumerate(channelList):\n",
    "    endPoint = windowsize;startPoint=endPoint-windowsize\n",
    "    distance_to_end = raw.last_samp/1000 - endPoint\n",
    "    ratio_index[names] =[];muscle_index[names]=[];sample_ind[names]=[];\n",
    "    \n",
    "    while distance_to_end > windowsize:\n",
    "        start,stop = raw.time_as_index([startPoint,endPoint])\n",
    "        tempSegment,time = raw[ii,start:stop]\n",
    "        \n",
    "        \n",
    "        filter_alpha=mne.filter.band_pass_filter(tempSegment[0,:],1000,8,12.5)\n",
    "        RMS_alpha=np.sqrt(sum(filter_alpha**2)/len(filter_alpha))\n",
    "        \n",
    "        filter_spindle=mne.filter.band_pass_filter(tempSegment[0,:],1000,11,16.5)\n",
    "        RMS_spindle=np.sqrt(sum(filter_spindle**2)/len(filter_spindle))\n",
    "        \n",
    "        filter_muscle=mne.filter.band_pass_filter(tempSegment[0,:],1000,30,40.5)\n",
    "        RMS_muscle=np.sqrt(sum(filter_muscle**2)/len(filter_muscle))\n",
    "        \n",
    "        point=[0,0]\n",
    "        if RMS_alpha/RMS_spindle <1.2:\n",
    "            point[0] += 2\n",
    "            ratio_index[names].append(2)\n",
    "        else:\n",
    "            point[0] += -1\n",
    "            ratio_index[names].append(-1)\n",
    "            \n",
    "        if RMS_muscle > 5*10e-4:\n",
    "            point[1] += -1\n",
    "            muscle_index[names].append(-1)\n",
    "        else:\n",
    "            point[1] += 1\n",
    "            muscle_index[names].append(1)\n",
    "            \n",
    "        sample_ind[names].append(sum(point))\n",
    "        \n",
    "        endPoint += resolution\n",
    "        startPoint = endPoint - windowsize\n",
    "        distance_to_end = raw.last_samp/1000 - endPoint\n",
    "    sample_ind[names].append(0)\n",
    "general_result = pd.DataFrame(sample_ind)"
   ]
  },
  {
   "cell_type": "code",
   "execution_count": 5,
   "metadata": {
    "collapsed": false
   },
   "outputs": [],
   "source": [
    "mark_pairs={};indicator={}\n",
    "for ii, names in enumerate(channelList):\n",
    "    mark_pairs[names]=[];indicator[names]=[]\n",
    "    for pos,item in enumerate(general_result[names]):\n",
    "        \n",
    "        if pos == len(general_result[names])-1:\n",
    "            pass\n",
    "        else:\n",
    "            indicator[names].append(general_result[names][pos+1]-general_result[names][pos])\n",
    "            \n",
    "            if indicator[names][pos] == -3:\n",
    "                endPoint = pos * resolution\n",
    "                initial_position = pos; position_idx = pos\n",
    "                try:\n",
    "                    while indicator[names][initial_position] != 3:\n",
    "                        position_idx -= 1\n",
    "                        initial_position = position_idx\n",
    "                    startPoint = position_idx * resolution\n",
    "                    \n",
    "                    if endPoint - startPoint >= 1:\n",
    "                        mark_pairs[names].append((startPoint,endPoint))\n",
    "                except:\n",
    "                    pass"
   ]
  },
  {
   "cell_type": "code",
   "execution_count": null,
   "metadata": {
    "collapsed": false,
    "scrolled": true
   },
   "outputs": [],
   "source": [
    "plt.figure(figsize=(20,20))\n",
    "for ii, names in enumerate(channelList):\n",
    "    for item in mark_pairs[names]:\n",
    "        plt.hlines(ii,item[0],item[1])\n",
    "        \n",
    "plt.yticks(np.arange(6),channelList)\n",
    "plt.ylim([-1,6])"
   ]
  },
  {
   "cell_type": "code",
   "execution_count": 149,
   "metadata": {
    "collapsed": false
   },
   "outputs": [
    {
     "data": {
      "text/plain": [
       "140"
      ]
     },
     "execution_count": 149,
     "metadata": {},
     "output_type": "execute_result"
    }
   ],
   "source": [
    "spindle_overlapping=[]\n",
    "\n",
    "for items in spindles:\n",
    "    spindle_overlapping_temp=[]\n",
    "    for names in channelList:\n",
    "        if any(lower < items < upper for (lower,upper) in mark_pairs[names]):\n",
    "            spindle_overlapping_temp.append(items)\n",
    "    spindle_overlapping.append(list(set(spindle_overlapping_temp)))\n",
    "    \n",
    "    \n",
    "len(spindle_overlapping)"
   ]
  },
  {
   "cell_type": "code",
   "execution_count": 6,
   "metadata": {
    "collapsed": false,
    "scrolled": true
   },
   "outputs": [],
   "source": [
    "# whether two intervals overlap\n",
    "def getOverlap(a,b):\n",
    "    return max(0,min(a[1],b[1]) - max(a[0],b[0]))"
   ]
  },
  {
   "cell_type": "code",
   "execution_count": null,
   "metadata": {
    "collapsed": false
   },
   "outputs": [],
   "source": [
    "sleeping_overlapping ={}\n",
    "for names in channelList:\n",
    "    sleeping_overlapping[names]=[]\n",
    "    for items in sleep_annotation:\n",
    "        for intervals in mark_pairs[names]:\n",
    "            #print(names,list(intervals),items,getOverlap(list(intervals),items))\n",
    "            if getOverlap(list(intervals),items) is not 0:\n",
    "                sleeping_overlapping[names].append(list(intervals))\n",
    "                print(names,sleeping_overlapping[names])"
   ]
  },
  {
   "cell_type": "code",
   "execution_count": null,
   "metadata": {
    "collapsed": false,
    "scrolled": true
   },
   "outputs": [],
   "source": [
    "print(sleeping_overlapping)"
   ]
  },
  {
   "cell_type": "code",
   "execution_count": null,
   "metadata": {
    "collapsed": false
   },
   "outputs": [],
   "source": [
    "plt.figure(figsize=(20,20))\n",
    "for ii, names in enumerate(channelList):\n",
    "    for item in sleeping_overlapping[names]:\n",
    "        plt.hlines(ii,item[0],item[1])\n",
    "        \n",
    "plt.yticks(np.arange(6),channelList)\n",
    "plt.ylim([-1,6])"
   ]
  },
  {
   "cell_type": "code",
   "execution_count": null,
   "metadata": {
    "collapsed": false
   },
   "outputs": [],
   "source": [
    "\n",
    "TimeWindows={}\n",
    "for names in channelList:\n",
    "    TimePoint = 0\n",
    "    distance_to_end=raw.last_samp/1000 - TimePoint\n",
    "    resolution =1\n",
    "    TimeWindows[names] = []\n",
    "    while distance_to_end > resolution:\n",
    "        TimeWindows_temp=[]\n",
    "        for items in sleeping_overlapping[names]:\n",
    "            if items[0]<TimePoint<items[1]:\n",
    "                TimeWindows_temp.append(1)\n",
    "            else:\n",
    "                TimeWindows_temp.append(0)\n",
    "        if 1 in TimeWindows_temp:\n",
    "            TimeWindows[names].append(1)\n",
    "        else:\n",
    "            TimeWindows[names].append(0)\n",
    "        TimePoint += resolution\n",
    "        distance_to_end = raw.last_samp/1000 - TimePoint"
   ]
  },
  {
   "cell_type": "code",
   "execution_count": null,
   "metadata": {
    "collapsed": false
   },
   "outputs": [],
   "source": [
    "for keys in TimeWindows.keys():\n",
    "    print(sum(TimeWindows[keys]))"
   ]
  },
  {
   "cell_type": "code",
   "execution_count": null,
   "metadata": {
    "collapsed": false
   },
   "outputs": [],
   "source": [
    "for ii, keys in enumerate(TimeWindows.keys()):\n",
    "    if ii == 0:\n",
    "        tempData = np.array(TimeWindows[keys])\n",
    "    else:\n",
    "        tempData = np.array(TimeWindows[keys])"
   ]
  },
  {
   "cell_type": "code",
   "execution_count": null,
   "metadata": {
    "collapsed": false
   },
   "outputs": [],
   "source": [
    "f=plt.figure(figsize=(20,20))\n",
    "ax=f.add_subplot(111)\n",
    "ax.bar(np.arange(4),[len(spindles),len(spindle_overlapping),len(np.nonzero(tempData)[0]),len(sleeping_overlapping)],.8,align='center')\n",
    "ax.set_xticks(np.arange(4))\n",
    "ax.set_xticklabels(['man mark spindles','spindle X threshold','just threshold','sleeping X threshold'])"
   ]
  },
  {
   "cell_type": "code",
   "execution_count": null,
   "metadata": {
    "collapsed": false,
    "scrolled": true
   },
   "outputs": [],
   "source": [
    "TrainingLabel=[]\n",
    "TrainingData = []\n",
    "totoal_lenght = 0\n",
    "Fs=1000\n",
    "\n",
    "channelList = ['F3','F4','C3','C4','O1','O2','ROC','LOC']\n",
    "raw = eegPinelineDesign.load_data(file_to_read,channelList,None, None)# no pass\n",
    "annotation_to_read = [x for x in Annotationfiles if fileName in x]\n",
    "file = pd.read_csv(annotation_to_read[0]);labelFind = re.compile('Markon',re.IGNORECASE)\n",
    "# get window sample and window start:end\n",
    "for row in file.iterrows():\n",
    "    currentEvent = row[1][-1]\n",
    "    if labelFind.search(currentEvent):\n",
    "        items = currentEvent[-1]\n",
    "        \n",
    "    if items not in ['w','1','2','3']:\n",
    "        print('not putting in')\n",
    "    else:\n",
    "                \n",
    "        if items == 'w':\n",
    "            TrainingLabel.append(0)\n",
    "                \n",
    "        elif items == '1':\n",
    "            TrainingLabel.append(1)\n",
    "                \n",
    "        elif items == '2':\n",
    "            TrainingLabel.append(2)\n",
    "                \n",
    "        elif items == '3':\n",
    "            TrainingLabel.append(3)\n",
    "        #print('done labeling')\n",
    "        startPoint = row[1][0];endPoint = startPoint+30\n",
    "        start,stop = raw.time_as_index([startPoint,endPoint])\n",
    "        tempDataSet = []\n",
    "        for index,chan_names in enumerate(['F3','F4','C3','C4','O1','O2']):\n",
    "            # put the training instance to traning data set and make sure they are the same length\n",
    "            tempSegment,time = raw[ii,start:stop]\n",
    "            tempDataSet.append(tempSegment)\n",
    "                        \n",
    "        TrainingData.append(np.array(tempDataSet).flatten())"
   ]
  },
  {
   "cell_type": "code",
   "execution_count": 7,
   "metadata": {
    "collapsed": false
   },
   "outputs": [],
   "source": [
    "# find all spindle windows\n",
    "spindle_training_data=[]\n",
    "for instance in spindles:\n",
    "    \n",
    "    tempData=[]\n",
    "    for ii,names in enumerate(['F3','F4','C3','C4','O1','O2']):\n",
    "        startPoint = instance-2.5;endPoint = instance+2.5\n",
    "        start,stop=raw.time_as_index([startPoint,endPoint])\n",
    "        tempSegment,timeSpan = raw[ii,start:stop]\n",
    "        centerxval = timeSpan[np.argmax(abs(tempSegment[0,:]))]\n",
    "        startPoint=centerxval-1.5;endPoint=centerxval+1.5\n",
    "        start,stop = raw.time_as_index([startPoint,endPoint])\n",
    "        tempSegment, time = raw[ii,start:stop]\n",
    "        tempData = np.append(tempData,tempSegment)\n",
    "    spindle_training_data.append(tempData)"
   ]
  },
  {
   "cell_type": "code",
   "execution_count": 14,
   "metadata": {
    "collapsed": false
   },
   "outputs": [
    {
     "data": {
      "text/plain": [
       "(37, 18000)"
      ]
     },
     "execution_count": 14,
     "metadata": {},
     "output_type": "execute_result"
    }
   ],
   "source": [
    "np.array(spindle_training_data).shape"
   ]
  },
  {
   "cell_type": "code",
   "execution_count": 25,
   "metadata": {
    "collapsed": false,
    "scrolled": true
   },
   "outputs": [
    {
     "name": "stdout",
     "output_type": "stream",
     "text": [
      "[False, False, False, False, False, False, True, True]\n",
      "[False, True, False, True, False, False, True, True]\n",
      "[True, True, True, True, True, True, True, True]\n",
      "1 0\n",
      "[True, False, False, False, False, False, True, False]\n",
      "[False, False, False, False, False, False, True, False]\n",
      "[True, True, True, True, True, True, True, False]\n",
      "2 1\n",
      "[True, True, True, True, True, True, True, False]\n",
      "3 2\n",
      "[True, True, True, False, True, False, True, False]\n",
      "[False, False, False, False, False, False, True, False]\n",
      "[True, True, True, True, True, True, True, False]\n",
      "4 3\n",
      "[True, True, True, True, True, False, True, False]\n",
      "[True, True, True, True, True, True, True, False]\n",
      "5 4\n",
      "[True, True, True, True, True, True, True, False]\n",
      "6 5\n",
      "[True, True, True, True, True, True, True, False]\n",
      "7 6\n",
      "[True, True, True, True, True, True, True, False]\n",
      "8 7\n",
      "[False, False, False, False, False, False, True, False]\n",
      "[True, True, True, True, True, True, False, False]\n",
      "[True, True, True, True, True, True, True, False]\n",
      "9 8\n",
      "[True, True, True, True, True, True, True, False]\n",
      "10 9\n",
      "[True, False, False, False, False, True, True, False]\n",
      "[True, True, True, False, False, False, True, False]\n",
      "[True, True, True, True, True, True, True, False]\n",
      "11 10\n",
      "[True, True, True, True, True, True, True, False]\n",
      "12 11\n",
      "[True, True, True, True, True, True, True, False]\n",
      "13 12\n",
      "[False, True, True, True, False, False, True, False]\n",
      "[True, False, False, False, False, True, True, False]\n",
      "[True, True, True, True, True, True, True, False]\n",
      "14 13\n",
      "[False, False, False, False, False, False, True, False]\n",
      "[True, True, True, True, False, False, False, False]\n",
      "[True, True, True, True, True, True, True, False]\n",
      "15 14\n",
      "[False, False, False, False, False, False, True, False]\n",
      "[False, False, False, False, False, False, True, False]\n",
      "[False, False, False, False, False, False, True, False]\n",
      "[True, True, True, True, True, True, True, False]\n",
      "16 15\n",
      "[True, True, True, True, True, True, True, False]\n",
      "17 16\n",
      "[False, False, False, False, False, True, True, False]\n",
      "[False, False, False, True, False, True, True, False]\n",
      "[True, True, True, True, True, True, True, False]\n",
      "18 17\n",
      "[False, False, False, False, False, False, True, False]\n",
      "[True, True, True, True, True, True, True, False]\n",
      "19 18\n",
      "[False, False, False, False, False, False, True, False]\n",
      "[True, False, False, False, False, False, True, False]\n",
      "[True, True, True, True, True, True, True, False]\n",
      "20 19\n",
      "[True, True, True, True, True, True, False, False]\n",
      "[True, True, False, False, False, False, True, False]\n",
      "[True, False, False, True, False, False, True, False]\n",
      "[True, True, True, True, True, True, False, False]\n",
      "[True, True, True, True, True, False, True, False]\n",
      "[False, False, False, False, False, False, True, False]\n",
      "[True, True, True, True, True, True, True, False]\n",
      "21 20\n",
      "[True, True, True, True, True, True, False, False]\n",
      "[False, False, False, False, False, False, True, False]\n",
      "[True, True, True, True, False, True, True, False]\n",
      "[True, True, True, True, True, True, False, False]\n",
      "[True, True, True, True, True, True, True, False]\n",
      "22 21\n",
      "[True, True, True, True, True, True, False, False]\n",
      "[False, False, False, False, False, False, True, False]\n",
      "[False, False, False, False, False, False, True, False]\n",
      "[True, True, True, True, True, True, True, False]\n",
      "23 22\n",
      "[False, False, False, False, False, False, True, False]\n",
      "[True, True, True, True, True, True, True, False]\n",
      "24 23\n",
      "[True, True, True, True, True, True, True, False]\n",
      "25 24\n",
      "[False, False, False, False, False, False, True, False]\n",
      "[True, True, True, True, True, True, True, False]\n",
      "26 25\n",
      "[True, True, True, True, True, True, True, False]\n",
      "27 26\n",
      "[False, False, False, False, False, False, True, False]\n",
      "[True, True, True, True, True, True, True, False]\n",
      "28 27\n",
      "[False, False, False, True, False, False, True, False]\n",
      "[True, True, True, True, False, False, True, False]\n",
      "[True, True, True, True, True, True, True, False]\n",
      "29 28\n",
      "[True, True, True, True, True, True, True, False]\n",
      "30 29\n",
      "[True, True, True, True, True, True, True, False]\n",
      "31 30\n",
      "[True, True, True, True, True, True, True, False]\n",
      "32 31\n",
      "[True, True, True, True, True, True, True, False]\n",
      "33 32\n",
      "[True, False, False, False, False, False, True, False]\n",
      "[True, True, True, True, True, True, True, False]\n",
      "34 33\n",
      "[True, True, True, True, True, True, False, False]\n",
      "[True, True, True, True, True, True, True, False]\n",
      "35 34\n",
      "[True, True, True, True, True, True, True, False]\n",
      "36 35\n",
      "[True, True, True, True, True, True, True, False]\n",
      "37 36\n"
     ]
    },
    {
     "name": "stderr",
     "output_type": "stream",
     "text": [
      "C:\\Anaconda3\\lib\\site-packages\\mne\\io\\base.py:544: DeprecationWarning: converting an array with ndim > 0 to an index will result in an error in the future\n",
      "  data = self._data[sel, start:stop]\n",
      "C:\\Anaconda3\\lib\\site-packages\\mne\\io\\base.py:549: DeprecationWarning: converting an array with ndim > 0 to an index will result in an error in the future\n",
      "  times = self.times[start:stop]\n"
     ]
    }
   ],
   "source": [
    "# find all non spindle windows  \n",
    "\n",
    "non_spindle_window=[]\n",
    "used_time_windows=[]\n",
    "#instance = np.random.choice(np.arange(raw.last_samp/1000),1)\n",
    "#startPoint = instance - 1; endPoint = instance + 1\n",
    "# theshold check:\n",
    "for ii in range(len(spindle_training_data)):\n",
    "    Chan = [False,False,False,False,False,False,False,False]\n",
    "    while sum(np.array(Chan).astype(int)) < 7:\n",
    "        instance = np.random.choice(np.arange(raw.last_samp/1000),1)\n",
    "        startPoint = instance - 1; endPoint = instance + 1\n",
    "        \n",
    "        for idx,names in enumerate(['F3','F4','C3','C4','O1','O2']):\n",
    "            Chan[idx]=any(getOverlap([instance -1,instance + 1],[lower,upper]) !=0 for (lower,upper) in mark_pairs[names])\n",
    "        Chan[6] = all(getOverlap([startPoint,endPoint],[instance-1.5,instance+1.5])==0 for instance in spindles)\n",
    "        Chan[7] = all(getOverlap([startPoint,endPoint],[lower,upper])!=0  for (lower,upper) in used_time_windows)\n",
    "        print(Chan)\n",
    "    used_time_windows.append([startPoint,endPoint])\n",
    "    tempData=[]\n",
    "    for idxx,names in enumerate(['F3','F4','C3','C4','O1','O2']):\n",
    "        startPoint = instance-1.5;endPoint = instance+1.5\n",
    "        start,stop = raw.time_as_index([startPoint,endPoint])\n",
    "        tempSegment, time = raw[idxx,start:stop]\n",
    "        tempData = np.append(tempData,tempSegment)\n",
    "    non_spindle_window.append(tempData)\n",
    "    print(len(non_spindle_window),ii)\n",
    "    "
   ]
  },
  {
   "cell_type": "code",
   "execution_count": 26,
   "metadata": {
    "collapsed": false
   },
   "outputs": [
    {
     "data": {
      "text/plain": [
       "(37, 18000)"
      ]
     },
     "execution_count": 26,
     "metadata": {},
     "output_type": "execute_result"
    }
   ],
   "source": [
    "np.array(non_spindle_window).shape"
   ]
  },
  {
   "cell_type": "code",
   "execution_count": 27,
   "metadata": {
    "collapsed": false
   },
   "outputs": [
    {
     "data": {
      "text/plain": [
       "[<matplotlib.lines.Line2D at 0x2358174a7b8>]"
      ]
     },
     "execution_count": 27,
     "metadata": {},
     "output_type": "execute_result"
    },
    {
     "data": {
      "image/png": "[encoded data removed]",
      "text/plain": [
       "<matplotlib.figure.Figure at 0x2358171bf98>"
      ]
     },
     "metadata": {},
     "output_type": "display_data"
    }
   ],
   "source": [
    "plt.plot(non_spindle_window[0])"
   ]
  },
  {
   "cell_type": "code",
   "execution_count": null,
   "metadata": {
    "collapsed": true
   },
   "outputs": [],
   "source": []
  }
 ],
 "metadata": {
  "kernelspec": {
   "display_name": "Python 3",
   "language": "python",
   "name": "python3"
  },
  "language_info": {
   "codemirror_mode": {
    "name": "ipython",
    "version": 3
   },
   "file_extension": ".py",
   "mimetype": "text/x-python",
   "name": "python",
   "nbconvert_exporter": "python",
   "pygments_lexer": "ipython3",
   "version": "3.5.1"
  }
 },
 "nbformat": 4,
 "nbformat_minor": 0
}
