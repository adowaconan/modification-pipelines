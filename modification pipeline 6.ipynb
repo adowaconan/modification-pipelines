{
 "cells": [
  {
   "cell_type": "code",
   "execution_count": 2,
   "metadata": {
    "collapsed": false
   },
   "outputs": [],
   "source": [
    "import eegPinelineDesign\n",
    "import numpy as np\n",
    "import random\n",
    "import mne\n",
    "import matplotlib.pyplot as plt\n",
    "%matplotlib inline\n",
    "import os\n",
    "import pandas as pd\n",
    "import re\n",
    "import json\n",
    "import scipy\n",
    "from sklearn.linear_model import LogisticRegression\n",
    "from sklearn.decomposition import PCA,FastICA\n",
    "from sklearn.pipeline import Pipeline\n",
    "from sklearn.grid_search import GridSearchCV\n",
    "from sklearn.cross_validation import cross_val_score\n",
    "from scipy.fftpack import fft,ifft\n",
    "import math\n",
    "from sklearn.metrics import classification_report,accuracy_score,confusion_matrix\n",
    "from scipy.signal import spectrogram,find_peaks_cwt\n",
    "from mne.preprocessing.ica import ICA\n",
    "from sklearn.metrics import precision_recall_curve\n",
    "from sklearn.metrics import average_precision_score\n",
    "from sklearn.cross_validation import train_test_split\n",
    "from sklearn.preprocessing import label_binarize\n",
    "from sklearn.multiclass import OneVsRestClassifier\n",
    "from sklearn.svm import SVC\n",
    "from sklearn.preprocessing import label_binarize\n",
    "import itertools"
   ]
  },
  {
   "cell_type": "code",
   "execution_count": 3,
   "metadata": {
    "collapsed": false
   },
   "outputs": [
    {
     "name": "stdout",
     "output_type": "stream",
     "text": [
      "['64chlocs.elp', 'label_extraction.npy', 'label_extraction.pkl', 's5d2_final.edf', 's5d2_final_annotations.txt', 's6n2_final.edf', 's6n2_final_annotations.txt', 'Sleep Stage Scoring Criteria.docx', 'suj10_d1final.edf', 'suj10_d1final_annotations.txt', 'suj10_d2final.edf', 'suj10_d2final_annotations.txt', 'suj13_l2nap_day2 edited.edf', 'suj13_l2nap_day2 edited1.edf', 'suj13_l2nap_day2 edited1_annotations.txt', 'suj13_l2nap_day2 edited_annotations.txt', 'suj13_l2nap_day2 edited_C3.txt', 'suj13_l2nap_day2 edited_C4.txt', 'suj13_l2nap_day2 edited_F3.txt', 'suj13_l2nap_day2 edited_F4.txt', 'suj13_l2nap_day2 edited_O1.txt', 'suj13_l2nap_day2 edited_O2.txt', 'suj5_d1final.edf', 'suj5_d1final_annotations.txt', 'suj6_d1final.edf', 'suj6_d1final_annotations.txt', 'suj8_d1final.edf', 'suj8_d1final_annotations.txt', 'suj8_d2final.edf', 'suj8_d2final_annotations.txt', 'suj9_d1final.edf', 'suj9_d1final_annotations.txt', 'suj9_d2final.edf', 'suj9_d2final_annotations.txt', 'testing-montage-2.mtg', 'Training Data Frame']\n"
     ]
    }
   ],
   "source": [
    "eegPinelineDesign.change_file_directory('C:/Users/ning/Downloads/training set')\n",
    "EDFfiles, Annotationfiles = eegPinelineDesign.split_type_of_files()"
   ]
  },
  {
   "cell_type": "code",
   "execution_count": 6,
   "metadata": {
    "collapsed": false
   },
   "outputs": [
    {
     "name": "stdout",
     "output_type": "stream",
     "text": [
      "Extracting edf Parameters from suj10_d1final.edf...\n",
      "Setting channel info structure...\n",
      "Creating Raw.info structure...\n",
      "Reading 0 ... 3601999  =      0.000 ...  3601.999 secs...\n",
      "[done]\n",
      "Ready.\n",
      "Fitting ICA to data using 8 channels. \n",
      "Please be patient, this may take some time\n",
      "Inferring max_pca_components from picks.\n",
      "Using all PCA components: 8\n",
      "    Searching for artifacts...\n",
      "    found 2 artifacts by EOG 00\n",
      "    found 1 artifact by skewness\n",
      "    found 1 artifact by kurtosis\n",
      "    found 1 artifact by variance\n",
      "Artifact indices found:\n",
      "    2, 7, 4, 4, 2\n",
      "    Removing duplicate indices...\n",
      "Ready.\n",
      "Transforming to ICA space (8 components)\n",
      "Zeroing out 3 ICA components\n",
      "Inverse transforming to PCA space\n",
      "Reconstructing sensor space signals from 8 PCA components\n",
      "Low-pass filtering at 5e+02 Hz\n",
      "Low-pass filtering at 5e+02 Hz\n"
     ]
    }
   ],
   "source": [
    "channelList = ['F3','F4','C3','C4','O1','O2','ROC','LOC']\n",
    "file_to_read, fileName = eegPinelineDesign.pick_sample_file(EDFfiles,n=2)\n",
    "raw = eegPinelineDesign.load_data(file_to_read,channelList,None, 499)\n",
    "annotation_to_read = [x for x in Annotationfiles if fileName in x]\n",
    "file = pd.read_csv(annotation_to_read[0])"
   ]
  },
  {
   "cell_type": "code",
   "execution_count": 9,
   "metadata": {
    "collapsed": false
   },
   "outputs": [],
   "source": [
    "labelFind = re.compile('spindle',re.IGNORECASE)\n",
    "spindles=[]\n",
    "for row in file.iterrows():\n",
    "    currentEvent = row[1][-1]\n",
    "    if labelFind.search(currentEvent):\n",
    "        spindles.append(row[1][0])"
   ]
  },
  {
   "cell_type": "code",
   "execution_count": 11,
   "metadata": {
    "collapsed": false
   },
   "outputs": [
    {
     "name": "stderr",
     "output_type": "stream",
     "text": [
      "c:\\anaconda3\\lib\\site-packages\\mne\\filter.py:333: UserWarning: Attenuation at stop frequency 7.5Hz is only 9.0dB.\n",
      "  '%0.1fdB.' % (att_freq, att_db))\n",
      "c:\\anaconda3\\lib\\site-packages\\mne\\filter.py:333: UserWarning: Attenuation at stop frequency 16.5Hz is only 8.9dB.\n",
      "  '%0.1fdB.' % (att_freq, att_db))\n",
      "c:\\anaconda3\\lib\\site-packages\\mne\\filter.py:333: UserWarning: Attenuation at stop frequency 29.5Hz is only 9.1dB.\n",
      "  '%0.1fdB.' % (att_freq, att_db))\n"
     ]
    }
   ],
   "source": [
    "ratio_index={}\n",
    "muscle_index={}\n",
    "sample_ind={}\n",
    "for ii,names in enumerate(channelList):\n",
    "    if names == 'ROC' or names == 'LOC':\n",
    "        pass\n",
    "    else:\n",
    "        windowsize=2;ratio_index[names]=[];muscle_index[names]=[];sample_ind[names]=[]\n",
    "        endPoint = 2;startPoint=endPoint-windowsize\n",
    "        distance_to_end = raw.last_samp/1000 - endPoint\n",
    "        while distance_to_end >0:\n",
    "            start,stop = raw.time_as_index([startPoint,endPoint])\n",
    "            segment, time = raw[ii,start:stop];\n",
    "            filter_alpha = mne.filter.band_pass_filter(segment,1000,8,12);\n",
    "            RMS_alpha = np.sqrt(sum(filter_alpha[0]**2)/len(filter_alpha))\n",
    "            filter_spindle = mne.filter.band_pass_filter(segment,1000,11.5,16)\n",
    "            RMS_spindle = np.sqrt(sum(filter_spindle[0]**2))/len(filter_spindle)\n",
    "            filter_muscle = mne.filter.band_pass_filter(segment,1000,30,40)\n",
    "            RMS_muscle = np.sqrt(sum(filter_muscle[0]**2)/len(filter_muscle))\n",
    "            #print(RMS_alpha,RMS_spindle,RMS_muscle)\n",
    "            point = 0\n",
    "            if RMS_alpha/RMS_spindle < 1.2:\n",
    "                point +=1\n",
    "                ratio_index[names].append(1e-1)\n",
    "            else:\n",
    "                ratio_index[names].append(-1e-1)\n",
    "            if RMS_muscle >5*10e-4:\n",
    "                point -=1\n",
    "                muscle_index[names].append(-1e-1)\n",
    "            else:\n",
    "                muscle_index[names].append(-1e-1)\n",
    "            if point ==1:\n",
    "                sample_ind[names].append(1e-1)\n",
    "            elif point ==0:\n",
    "                sample_ind[names].append(1/6*1e-1)\n",
    "            else:\n",
    "                sample_ind[names].append(-1e-1)\n",
    "            \n",
    "            \n",
    "            endPoint += windowsize/2#determine step size\n",
    "            startPoint=endPoint-windowsize\n",
    "            distance_to_end = raw.last_samp/1000 - endPoint "
   ]
  },
  {
   "cell_type": "code",
   "execution_count": null,
   "metadata": {
    "collapsed": true
   },
   "outputs": [],
   "source": []
  }
 ],
 "metadata": {
  "kernelspec": {
   "display_name": "Python 3",
   "language": "python",
   "name": "python3"
  },
  "language_info": {
   "codemirror_mode": {
    "name": "ipython",
    "version": 3
   },
   "file_extension": ".py",
   "mimetype": "text/x-python",
   "name": "python",
   "nbconvert_exporter": "python",
   "pygments_lexer": "ipython3",
   "version": "3.5.1"
  }
 },
 "nbformat": 4,
 "nbformat_minor": 0
}
