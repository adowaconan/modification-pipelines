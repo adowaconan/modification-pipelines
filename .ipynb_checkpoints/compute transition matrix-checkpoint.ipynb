{
 "cells": [
  {
   "cell_type": "code",
   "execution_count": 1,
   "metadata": {
    "collapsed": false,
    "scrolled": true
   },
   "outputs": [],
   "source": [
    "import numpy as np\n",
    "from collections import Counter\n",
    "import os\n",
    "import pickle\n",
    "import re\n",
    "import pandas as pd\n",
    "import matplotlib.pyplot as plt\n",
    "%matplotlib inline\n",
    "os.chdir('C:\\\\Users\\\\ning\\\\OneDrive\\\\python works\\\\modification-pipelines')\n",
    "import eegPinelineDesign\n",
    "results = pickle.load(open('sleep annotation.p','rb'))\n",
    "temp=[]\n",
    "for name in results.keys():\n",
    "    sub=results[name]\n",
    "    result=sub['result']\n",
    "    temp.append(result['my ASI'])"
   ]
  },
  {
   "cell_type": "code",
   "execution_count": 2,
   "metadata": {
    "collapsed": false
   },
   "outputs": [],
   "source": [
    "temp=np.concatenate(temp)"
   ]
  },
  {
   "cell_type": "code",
   "execution_count": 3,
   "metadata": {
    "collapsed": true
   },
   "outputs": [],
   "source": [
    "Ncat=6"
   ]
  },
  {
   "cell_type": "code",
   "execution_count": 4,
   "metadata": {
    "collapsed": false
   },
   "outputs": [],
   "source": [
    "_,bins=pd.cut(temp,Ncat,labels=False,retbins=True)"
   ]
  },
  {
   "cell_type": "code",
   "execution_count": 5,
   "metadata": {
    "collapsed": false
   },
   "outputs": [
    {
     "name": "stdout",
     "output_type": "stream",
     "text": [
      "error\n",
      "error\n",
      "error\n",
      "error\n",
      "error\n",
      "error\n",
      "error\n",
      "error\n",
      "error\n",
      "error\n",
      "error\n",
      "error\n",
      "error\n",
      "error\n",
      "error\n",
      "error\n",
      "error\n",
      "error\n",
      "error\n",
      "error\n",
      "error\n",
      "error\n",
      "error\n",
      "error\n",
      "error\n",
      "error\n",
      "error\n",
      "error\n"
     ]
    },
    {
     "ename": "IndexError",
     "evalue": "index -9223372036854775808 is out of bounds for axis 0 with size 30",
     "output_type": "error",
     "traceback": [
      "\u001b[1;31m---------------------------------------------------------------------------\u001b[0m",
      "\u001b[1;31mIndexError\u001b[0m                                Traceback (most recent call last)",
      "\u001b[1;32m<ipython-input-5-39c3521a3a60>\u001b[0m in \u001b[0;36m<module>\u001b[1;34m()\u001b[0m\n\u001b[0;32m     26\u001b[0m     \u001b[0mtranMat\u001b[0m \u001b[1;33m=\u001b[0m \u001b[0mnp\u001b[0m\u001b[1;33m.\u001b[0m\u001b[0mzeros\u001b[0m\u001b[1;33m(\u001b[0m\u001b[1;33m(\u001b[0m\u001b[0mNstate\u001b[0m\u001b[1;33m,\u001b[0m\u001b[0mNstate\u001b[0m\u001b[1;33m)\u001b[0m\u001b[1;33m)\u001b[0m\u001b[1;33m\u001b[0m\u001b[0m\n\u001b[0;32m     27\u001b[0m     \u001b[1;32mfor\u001b[0m \u001b[1;33m(\u001b[0m\u001b[0mx\u001b[0m\u001b[1;33m,\u001b[0m\u001b[0my\u001b[0m\u001b[1;33m)\u001b[0m\u001b[1;33m,\u001b[0m \u001b[0mc\u001b[0m \u001b[1;32min\u001b[0m \u001b[0mCounter\u001b[0m\u001b[1;33m(\u001b[0m\u001b[0mzip\u001b[0m\u001b[1;33m(\u001b[0m\u001b[0ma\u001b[0m\u001b[1;33m,\u001b[0m \u001b[0ma\u001b[0m\u001b[1;33m[\u001b[0m\u001b[1;36m1\u001b[0m\u001b[1;33m:\u001b[0m\u001b[1;33m]\u001b[0m\u001b[1;33m)\u001b[0m\u001b[1;33m)\u001b[0m\u001b[1;33m.\u001b[0m\u001b[0mitems\u001b[0m\u001b[1;33m(\u001b[0m\u001b[1;33m)\u001b[0m\u001b[1;33m:\u001b[0m\u001b[1;33m\u001b[0m\u001b[0m\n\u001b[1;32m---> 28\u001b[1;33m         \u001b[0mtranMat\u001b[0m\u001b[1;33m[\u001b[0m\u001b[0mx\u001b[0m\u001b[1;33m]\u001b[0m\u001b[1;33m[\u001b[0m\u001b[0my\u001b[0m\u001b[1;33m]\u001b[0m \u001b[1;33m=\u001b[0m \u001b[0mc\u001b[0m\u001b[1;33m\u001b[0m\u001b[0m\n\u001b[0m\u001b[0;32m     29\u001b[0m     \u001b[0mtranMat\u001b[0m \u001b[1;33m=\u001b[0m \u001b[0mtranMat\u001b[0m \u001b[1;33m/\u001b[0m \u001b[0mtranMat\u001b[0m\u001b[1;33m.\u001b[0m\u001b[0msum\u001b[0m\u001b[1;33m(\u001b[0m\u001b[0maxis\u001b[0m\u001b[1;33m=\u001b[0m\u001b[1;36m1\u001b[0m\u001b[1;33m,\u001b[0m \u001b[0mkeepdims\u001b[0m\u001b[1;33m=\u001b[0m\u001b[1;32mTrue\u001b[0m\u001b[1;33m)\u001b[0m\u001b[1;33m\u001b[0m\u001b[0m\n\u001b[0;32m     30\u001b[0m     \u001b[0mprint\u001b[0m\u001b[1;33m(\u001b[0m\u001b[1;34m'transisition matrix\\n\\n'\u001b[0m\u001b[1;33m,\u001b[0m\u001b[0mname\u001b[0m\u001b[1;33m,\u001b[0m\u001b[1;34m'\\n\\n'\u001b[0m\u001b[1;33m,\u001b[0m \u001b[0mtranMat\u001b[0m\u001b[1;33m)\u001b[0m\u001b[1;33m\u001b[0m\u001b[0m\n",
      "\u001b[1;31mIndexError\u001b[0m: index -9223372036854775808 is out of bounds for axis 0 with size 30"
     ]
    },
    {
     "data": {
      "text/plain": [
       "<matplotlib.figure.Figure at 0x223e2aab470>"
      ]
     },
     "metadata": {},
     "output_type": "display_data"
    }
   ],
   "source": [
    "fig=plt.figure(figsize=(30,15));cnt=1\n",
    "for name in results.keys():\n",
    "    sub=results[name]\n",
    "    annotation=sub['annotation']\n",
    "    key=re.compile('Marker',re.IGNORECASE)\n",
    "    temp=[]\n",
    "    for row in enumerate(annotation.iterrows()):\n",
    "        #print(row[1][-1])\n",
    "        if key.search(row[1][-1][-1]):\n",
    "            temp.append([row[1][-1][-2],row[1][-1][-1]])\n",
    "    temp = pd.DataFrame(temp,columns=['Onset','annotation'])\n",
    "    \n",
    "    temp['annotation']=temp.annotation.apply(eegPinelineDesign.recode_annotation)\n",
    "    #ax=temp.plot(x='Onset',y='annotation',style='.-',yticks=[0,1,2,3],xticks=temp.Onset.values[::10])\n",
    "    #_=ax.set(yticklabels=['w','1','2','SWS'],title=name,xlabel='time (sec)',ylabel='stage',\n",
    "    #         xlim=(-2,1900))\n",
    "    a=temp['annotation'].values\n",
    "    state = np.vstack((a,a,a))\n",
    "    state = state.T.reshape((3*len(a)))\n",
    "    state = state[:-1]\n",
    "    Nstate=len(np.unique(temp['annotation'].values))\n",
    "    if Nstate == 4:\n",
    "        yticklabels=['SWS','2','1','w']\n",
    "    else:\n",
    "        yticklabels=['2','1','w']\n",
    "    tranMat = np.zeros((Nstate,Nstate))\n",
    "    for (x,y), c in Counter(zip(a, a[1:])).items():\n",
    "        tranMat[x][y] = c\n",
    "    tranMat = tranMat / tranMat.sum(axis=1, keepdims=True)\n",
    "    print('transisition matrix\\n\\n',name,'\\n\\n', tranMat)\n",
    "    ax1=fig.add_subplot(2,5,cnt)\n",
    "    ax1.pcolor(np.flipud(tranMat),cmap=plt.cm.Blues)\n",
    "    ax1.xaxis.tick_top()\n",
    "    ax1.set(xticks=np.arange(Nstate)+0.5,yticks=np.arange(Nstate)+0.5,\n",
    "            xticklabels=['w','1','2','SWS'],yticklabels=yticklabels)\n",
    "    plt.title(name,y=1.08)\n",
    "    for x in range(tranMat.shape[0]):\n",
    "        for y in range(tranMat.shape[1]):\n",
    "            print(np.flipud(tranMat)[x,y])\n",
    "            ax1.annotate('%.4f'%np.fliplr(tranMat.T)[x,y],xy=(x+0.3,y+0.5))\n",
    "    if cnt == 1:\n",
    "        ax1.set(xlabel='stage',ylabel='stage')\n",
    "    \n",
    "    \n",
    "    Obs = results[name]['result']['my ASI']\n",
    "    Obs = pd.DataFrame({'Obs':pd.cut(Obs,bins,labels=False)})\n",
    "    #ax=Obs.plot(style='.-',yticks=np.arange(Ncat))\n",
    "    #_=ax.set(title=name,yticklabels=np.arange(Ncat)+1)\n",
    "    EmissionMat = np.zeros((Nstate,Ncat))\n",
    "    for (x,y),c in Counter(zip(state,Obs['Obs'].values)).items():\n",
    "        EmissionMat[x-1][y-1] = c\n",
    "    EmissionMat = EmissionMat / EmissionMat.sum(axis=1, keepdims=True)\n",
    "    print('emissin matrix\\n\\n',name,'\\n\\n',EmissionMat)\n",
    "    ax2=fig.add_subplot(2,5,cnt+5)\n",
    "    ax2.pcolor(EmissionMat,cmap=plt.cm.Blues)\n",
    "    ax2.xaxis.tick_top()\n",
    "    ax2.set(yticks=np.arange(Nstate)+0.5,xticks=np.arange(Ncat)+0.5,\n",
    "            yticklabels=yticklabels,xticklabels=np.arange(Ncat)+1)\n",
    "    for x in range(EmissionMat.shape[0]):\n",
    "        for y in range(EmissionMat.shape[1]):\n",
    "            ax2.annotate('%.4f'%EmissionMat[x,y],xy=(y+0.1,x+0.5))\n",
    "    if cnt == 1:\n",
    "        ax2.set(xlabel='observation',ylabel='stage')\n",
    "    cnt +=1"
   ]
  },
  {
   "cell_type": "markdown",
   "metadata": {
    "collapsed": false
   },
   "source": [
    "from yahmm import *\n",
    "model = Model(name='sleep')\n",
    "\n",
    "# define distribution for observation categories\n",
    "Unique_obs = DiscreteDistribution({str(i): 1/Ncat for i in np.arange(Ncat)+1})\n",
    "Unique_obs\n",
    "\n",
    "# create the insert states (stages?)\n",
    "i0 = State(Unique_obs,name=\"I0\")\n",
    "i1 = State(Unique_obs,name=\"I1\")\n",
    "i2 = State(Unique_obs,name=\"I2\")\n",
    "i3 = State(Unique_obs,name=\"I3\")\n",
    "i4 = State(Unique_obs,name=\"I4\")\n",
    "i5 = State(Unique_obs,name=\"I5\")\n",
    "\n",
    "EmissionMat\n",
    "\n",
    "# create the match states\n",
    "m0 = State(DiscreteDistribution({str(i):v for i,v in zip(np.arange(Ncat),EmissionMat[0,:])}))\n",
    "m1 = State(DiscreteDistribution({str(i):v for i,v in zip(np.arange(Ncat),EmissionMat[1,:])}))\n",
    "m2 = State(DiscreteDistribution({str(i):v for i,v in zip(np.arange(Ncat),EmissionMat[2,:])}))\n",
    "m3 = State(DiscreteDistribution({str(i):v for i,v in zip(np.arange(Ncat),EmissionMat[3,:])}))\n",
    "\n",
    "# add all the states to the model\n",
    "model.add_states([i0,i1,i2,i3,i4,i5,m0,m1,m2,m3])\n",
    "\n",
    "# transition for match states\n",
    "model.add_transitions(m0,[m0,m1,m2,m3],tranMat[0,:])\n",
    "model.add_transitions(m1,[m0,m1,m2,m3],tranMat[1,:])\n",
    "model.add_transitions(m2,[m0,m1,m2,m3],tranMat[2,:])\n",
    "model.add_transitions(m3,[m0,m1,m2,m3],tranMat[3,:])\n",
    "\n",
    "# emission matrix\n",
    "model.add_transitions(m0,[i0,i1,i2,i3,i4,i5],EmissionMat[0,:])\n",
    "model.add_transitions(m1,[i0,i1,i2,i3,i4,i5],EmissionMat[1,:])\n",
    "model.add_transitions(m2,[i0,i1,i2,i3,i4,i5],EmissionMat[2,:])\n",
    "model.add_transitions(m3,[i0,i1,i2,i3,i4,i5],EmissionMat[3,:])\n",
    "\n",
    "model.bake()"
   ]
  },
  {
   "cell_type": "code",
   "execution_count": 7,
   "metadata": {
    "collapsed": true
   },
   "outputs": [],
   "source": [
    "from hmmlearn import hmm"
   ]
  },
  {
   "cell_type": "code",
   "execution_count": 34,
   "metadata": {
    "collapsed": true
   },
   "outputs": [],
   "source": [
    "X = np.column_stack([Obs['Obs'].values[:len(state)],state])"
   ]
  },
  {
   "cell_type": "code",
   "execution_count": 38,
   "metadata": {
    "collapsed": true
   },
   "outputs": [],
   "source": [
    "model = hmm.GaussianHMM(n_components=4,covariance_type='diag',n_iter=1000).fit(X)"
   ]
  },
  {
   "cell_type": "code",
   "execution_count": 39,
   "metadata": {
    "collapsed": false
   },
   "outputs": [],
   "source": [
    "hidden_states = model.predict(X)"
   ]
  },
  {
   "cell_type": "code",
   "execution_count": 42,
   "metadata": {
    "collapsed": false
   },
   "outputs": [
    {
     "name": "stdout",
     "output_type": "stream",
     "text": [
      "0th hidden state\n",
      "mean =  [ 2.  2.]\n",
      "var =   [ 0.00010204  0.00010204]\n",
      "1th hidden state\n",
      "mean =  [ 0.93487553  2.        ]\n",
      "var =   [  6.09643285e-02   7.24703067e-05]\n",
      "2th hidden state\n",
      "mean =  [ 0.84785426  0.82630685]\n",
      "var =   [ 0.14211326  0.14404363]\n",
      "3th hidden state\n",
      "mean =  [ 2.08325834  0.77035616]\n",
      "var =   [ 0.07812969  0.21914639]\n"
     ]
    }
   ],
   "source": [
    "for ii in range(model.n_components):\n",
    "    print('%dth hidden state'%ii)\n",
    "    print('mean = ', model.means_[ii])\n",
    "    print('var =  ', np.diag(model.covars_[ii]))"
   ]
  },
  {
   "cell_type": "code",
   "execution_count": 43,
   "metadata": {
    "collapsed": false
   },
   "outputs": [
    {
     "data": {
      "image/png": "[encoded data removed]",
      "text/plain": [
       "<matplotlib.figure.Figure at 0x24b47b756a0>"
      ]
     },
     "metadata": {},
     "output_type": "display_data"
    }
   ],
   "source": [
    "fig,axs = plt.subplots(model.n_components,sharex=True,sharey=True)\n",
    "colours = plt.cm.rainbow(np.linspace(0,1,model.n_components))\n",
    "for ii, (ax,colour) in enumerate(zip(axs,colours)):\n",
    "    mask = hidden_states == ii\n",
    "    ax.plot(Obs['Obs'].values[:len(state)][mask],'.-',c=colour)"
   ]
  },
  {
   "cell_type": "code",
   "execution_count": null,
   "metadata": {
    "collapsed": true
   },
   "outputs": [],
   "source": []
  }
 ],
 "metadata": {
  "anaconda-cloud": {},
  "kernelspec": {
   "display_name": "Python [Root]",
   "language": "python",
   "name": "Python [Root]"
  },
  "language_info": {
   "codemirror_mode": {
    "name": "ipython",
    "version": 3
   },
   "file_extension": ".py",
   "mimetype": "text/x-python",
   "name": "python",
   "nbconvert_exporter": "python",
   "pygments_lexer": "ipython3",
   "version": "3.5.1"
  }
 },
 "nbformat": 4,
 "nbformat_minor": 0
}
