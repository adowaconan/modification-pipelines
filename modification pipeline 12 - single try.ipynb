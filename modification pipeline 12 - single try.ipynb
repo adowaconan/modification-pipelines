{
 "cells": [
  {
   "cell_type": "code",
   "execution_count": 1,
   "metadata": {
    "collapsed": false
   },
   "outputs": [
    {
     "name": "stderr",
     "output_type": "stream",
     "text": [
      "C:\\Anaconda3\\lib\\site-packages\\pandas\\__init__.py:7: DeprecationWarning: bad escape \\s\n",
      "  from pandas import hashtable, tslib, lib\n",
      "C:\\Anaconda3\\lib\\importlib\\_bootstrap.py:222: RuntimeWarning: numpy.dtype size changed, may indicate binary incompatibility\n",
      "  return f(*args, **kwds)\n",
      "C:\\Anaconda3\\lib\\importlib\\_bootstrap.py:222: RuntimeWarning: numpy.dtype size changed, may indicate binary incompatibility\n",
      "  return f(*args, **kwds)\n",
      "C:\\Anaconda3\\lib\\site-packages\\ipykernel\\pylab\\config.py:66: DeprecationWarning: metadata {'config': True} was set from the constructor.  Metadata should be set using the .tag() method, e.g., Int().tag(key1='value1', key2='value2')\n",
      "  inline backend.\"\"\"\n",
      "C:\\Anaconda3\\lib\\site-packages\\ipykernel\\pylab\\config.py:71: DeprecationWarning: metadata {'config': True} was set from the constructor.  Metadata should be set using the .tag() method, e.g., Int().tag(key1='value1', key2='value2')\n",
      "  'retina', 'jpeg', 'svg', 'pdf'.\"\"\")\n",
      "C:\\Anaconda3\\lib\\site-packages\\ipykernel\\pylab\\config.py:85: DeprecationWarning: metadata {'config': True} was set from the constructor.  Metadata should be set using the .tag() method, e.g., Int().tag(key1='value1', key2='value2')\n",
      "  use `figure_formats` instead)\"\"\")\n",
      "C:\\Anaconda3\\lib\\site-packages\\ipykernel\\pylab\\config.py:95: DeprecationWarning: metadata {'config': True} was set from the constructor.  Metadata should be set using the .tag() method, e.g., Int().tag(key1='value1', key2='value2')\n",
      "  \"\"\"\n",
      "C:\\Anaconda3\\lib\\site-packages\\ipykernel\\pylab\\config.py:114: DeprecationWarning: metadata {'config': True} was set from the constructor.  Metadata should be set using the .tag() method, e.g., Int().tag(key1='value1', key2='value2')\n",
      "  \"\"\")\n",
      "C:\\Anaconda3\\lib\\site-packages\\ipykernel\\pylab\\config.py:44: DeprecationWarning: InlineBackend._config_changed is deprecated: use @observe and @unobserve instead.\n",
      "  def _config_changed(self, name, old, new):\n",
      "C:\\Anaconda3\\lib\\site-packages\\traitlets\\traitlets.py:770: DeprecationWarning: A parent of InlineBackend._config_changed has adopted the new @observe(change) API\n",
      "  clsname, change_or_name), DeprecationWarning)\n",
      "C:\\Anaconda3\\lib\\site-packages\\IPython\\core\\formatters.py:98: DeprecationWarning: DisplayFormatter._formatters_default is deprecated: use @default decorator instead.\n",
      "  def _formatters_default(self):\n",
      "C:\\Anaconda3\\lib\\site-packages\\IPython\\core\\formatters.py:677: DeprecationWarning: PlainTextFormatter._deferred_printers_default is deprecated: use @default decorator instead.\n",
      "  def _deferred_printers_default(self):\n",
      "C:\\Anaconda3\\lib\\site-packages\\IPython\\core\\formatters.py:669: DeprecationWarning: PlainTextFormatter._singleton_printers_default is deprecated: use @default decorator instead.\n",
      "  def _singleton_printers_default(self):\n",
      "C:\\Anaconda3\\lib\\site-packages\\IPython\\core\\formatters.py:672: DeprecationWarning: PlainTextFormatter._type_printers_default is deprecated: use @default decorator instead.\n",
      "  def _type_printers_default(self):\n",
      "C:\\Anaconda3\\lib\\site-packages\\IPython\\core\\formatters.py:672: DeprecationWarning: PlainTextFormatter._type_printers_default is deprecated: use @default decorator instead.\n",
      "  def _type_printers_default(self):\n",
      "C:\\Anaconda3\\lib\\site-packages\\IPython\\core\\formatters.py:677: DeprecationWarning: PlainTextFormatter._deferred_printers_default is deprecated: use @default decorator instead.\n",
      "  def _deferred_printers_default(self):\n"
     ]
    }
   ],
   "source": [
    "import eegPinelineDesign\n",
    "import numpy as np\n",
    "import random\n",
    "import mne\n",
    "import matplotlib.pyplot as plt\n",
    "%matplotlib inline\n",
    "plt.style.use('ggplot') \n",
    "import os\n",
    "import pandas as pd\n",
    "import re\n",
    "import json\n",
    "import scipy\n",
    "from sklearn.linear_model import LogisticRegression\n",
    "from sklearn.decomposition import PCA,FastICA\n",
    "from sklearn.pipeline import Pipeline,make_pipeline\n",
    "from sklearn.grid_search import GridSearchCV\n",
    "from sklearn.cross_validation import cross_val_score\n",
    "from scipy.fftpack import fft,ifft\n",
    "import math\n",
    "from sklearn.metrics import classification_report,accuracy_score,confusion_matrix\n",
    "from scipy.signal import spectrogram,find_peaks_cwt\n",
    "from mne.preprocessing.ica import ICA\n",
    "from sklearn.metrics import precision_recall_curve\n",
    "from sklearn.metrics import average_precision_score\n",
    "from sklearn.cross_validation import train_test_split,ShuffleSplit\n",
    "from sklearn.preprocessing import label_binarize,scale\n",
    "from sklearn.multiclass import OneVsRestClassifier\n",
    "from sklearn.svm import SVC\n",
    "from sklearn.preprocessing import label_binarize,StandardScaler\n",
    "from nitime import algorithms as alg\n"
   ]
  },
  {
   "cell_type": "code",
   "execution_count": 2,
   "metadata": {
    "collapsed": false
   },
   "outputs": [
    {
     "name": "stdout",
     "output_type": "stream",
     "text": [
      "['64chlocs.elp', 'label_extraction.npy', 'label_extraction.pkl', 'pipe line 10', 'pipe line 10.csv', 's5d2_final.edf', 's5d2_final_annotations.txt', 's6n2_final.edf', 's6n2_final_annotations.txt', 'Sleep Stage Scoring Criteria.docx', 'suj10_d1final.edf', 'suj10_d1final_annotations.txt', 'suj10_d2final.edf', 'suj10_d2final_annotations.txt', 'suj13_l2nap_day2 edited.edf', 'suj13_l2nap_day2 edited1.edf', 'suj13_l2nap_day2 edited1_annotations.txt', 'suj13_l2nap_day2 edited_annotations.txt', 'suj13_l2nap_day2 edited_C3.txt', 'suj13_l2nap_day2 edited_C4.txt', 'suj13_l2nap_day2 edited_F3.txt', 'suj13_l2nap_day2 edited_F4.txt', 'suj13_l2nap_day2 edited_O1.txt', 'suj13_l2nap_day2 edited_O2.txt', 'suj5_d1final.edf', 'suj5_d1final_annotations.txt', 'suj6_d1final.edf', 'suj6_d1final_annotations.txt', 'suj8_d1final.edf', 'suj8_d1final_annotations.txt', 'suj8_d2final.edf', 'suj8_d2final_annotations.txt', 'suj9_d1final.edf', 'suj9_d1final_annotations.txt', 'suj9_d2final.edf', 'suj9_d2final_annotations.txt', 'testing-montage-2.mtg', 'Training Data Frame']\n"
     ]
    }
   ],
   "source": [
    "eegPinelineDesign.change_file_directory('C:/Users/ning/Downloads/training set')\n",
    "EDFfiles, Annotationfiles = eegPinelineDesign.split_type_of_files()"
   ]
  },
  {
   "cell_type": "code",
   "execution_count": 3,
   "metadata": {
    "collapsed": false
   },
   "outputs": [
    {
     "name": "stdout",
     "output_type": "stream",
     "text": [
      "Extracting edf Parameters from suj10_d1final.edf...\n",
      "Setting channel info structure...\n",
      "Creating Raw.info structure...\n",
      "Reading 0 ... 3601999  =      0.000 ...  3601.999 secs...\n",
      "[done]\n",
      "Ready.\n",
      "Fitting ICA to data using 8 channels. \n",
      "Please be patient, this may take some time\n",
      "Inferring max_pca_components from picks.\n",
      "Using all PCA components: 8\n",
      "    Searching for artifacts...\n",
      "    found 2 artifacts by EOG 00\n",
      "    found 1 artifact by skewness\n",
      "    found 1 artifact by kurtosis\n",
      "    found 1 artifact by variance\n",
      "Artifact indices found:\n",
      "    2, 7, 4, 4, 2\n",
      "    Removing duplicate indices...\n",
      "Ready.\n",
      "Transforming to ICA space (8 components)\n",
      "Zeroing out 3 ICA components\n",
      "Inverse transforming to PCA space\n",
      "Reconstructing sensor space signals from 8 PCA components\n",
      "Low-pass filtering at 5e+02 Hz\n",
      "Low-pass filtering at 1e+02 Hz\n"
     ]
    }
   ],
   "source": [
    "file_to_read,fileName=eegPinelineDesign.pick_sample_file(EDFfiles,n=2)\n",
    "# channel list for artifact(eyemovement or chewing) removal - ROC and/or LOC\n",
    "channelList = ['F3','F4','C3','C4','O1','O2','ROC','LOC']\n",
    "raw = eegPinelineDesign.load_data(file_to_read,channelList,None, 100)# low pass\n",
    "annotation_to_read = [x for x in Annotationfiles if fileName in x]\n",
    "file = pd.read_csv(annotation_to_read[0])\n",
    "labelFind = re.compile('spindle',eegPinelineDesign.re.IGNORECASE)\n",
    "spindles=[]\n",
    "for row in file.iterrows():\n",
    "    currentEvent = row[1][-1]\n",
    "    if labelFind.search(currentEvent):\n",
    "        spindles.append(row[1][0])"
   ]
  },
  {
   "cell_type": "code",
   "execution_count": 4,
   "metadata": {
    "collapsed": false
   },
   "outputs": [
    {
     "name": "stderr",
     "output_type": "stream",
     "text": [
      "C:\\Anaconda3\\lib\\site-packages\\mne\\filter.py:333: UserWarning: Attenuation at stop frequency 12.5Hz is only 18.0dB.\n",
      "  '%0.1fdB.' % (att_freq, att_db))\n",
      "C:\\Anaconda3\\lib\\site-packages\\mne\\filter.py:333: UserWarning: Attenuation at stop frequency 16.5Hz is only 18.0dB.\n",
      "  '%0.1fdB.' % (att_freq, att_db))\n",
      "C:\\Anaconda3\\lib\\site-packages\\mne\\filter.py:333: UserWarning: Attenuation at stop frequency 40.5Hz is only 17.9dB.\n",
      "  '%0.1fdB.' % (att_freq, att_db))\n"
     ]
    }
   ],
   "source": [
    "ratio_index={}\n",
    "muscle_index={}\n",
    "sample_ind={}\n",
    "for ii,names in enumerate(channelList):\n",
    "    if names == 'ROC' or names == 'LOC':\n",
    "        pass\n",
    "    else:\n",
    "        windowsize=5;ratio_index[names]=[];muscle_index[names]=[];sample_ind[names]=[]\n",
    "        endPoint = 5;startPoint=endPoint-windowsize\n",
    "        distance_to_end = raw.last_samp/1000 - endPoint\n",
    "        while distance_to_end >0:\n",
    "            start,stop = raw.time_as_index([startPoint,endPoint])\n",
    "            segment, time = raw[ii,start:stop];\n",
    "            filter_alpha = mne.filter.band_pass_filter(segment,1000,8,12);\n",
    "            RMS_alpha = np.sqrt(sum(filter_alpha[0]**2)/len(filter_alpha))\n",
    "            filter_spindle = mne.filter.band_pass_filter(segment,1000,11.5,16)\n",
    "            RMS_spindle = np.sqrt(sum(filter_spindle[0]**2))/len(filter_spindle)\n",
    "            filter_muscle = mne.filter.band_pass_filter(segment,1000,30,40)\n",
    "            RMS_muscle = np.sqrt(sum(filter_muscle[0]**2)/len(filter_muscle))\n",
    "            #print(RMS_alpha,RMS_spindle,RMS_muscle)\n",
    "            point = [0,0]\n",
    "            if RMS_alpha/RMS_spindle < 1.2:\n",
    "                point[0] +=2\n",
    "                ratio_index[names].append(2)\n",
    "            else:\n",
    "                point[0] -= 1\n",
    "                ratio_index[names].append(-1)\n",
    "            if RMS_muscle >5*10e-4:\n",
    "                point[1] -=1\n",
    "                muscle_index[names].append(-1)\n",
    "            else:\n",
    "                muscle_index[names].append(0)\n",
    "            sample_ind[names].append(sum(point))\n",
    "            \n",
    "            \n",
    "            endPoint += 1#determine step size, the smaller, the high sampling rate\n",
    "            startPoint=endPoint-windowsize\n",
    "            distance_to_end = raw.last_samp/1000 - endPoint    "
   ]
  },
  {
   "cell_type": "code",
   "execution_count": null,
   "metadata": {
    "collapsed": true
   },
   "outputs": [],
   "source": [
    "# add one more data point for backward search algorithm!!"
   ]
  },
  {
   "cell_type": "code",
   "execution_count": 5,
   "metadata": {
    "collapsed": false
   },
   "outputs": [],
   "source": [
    "general_result = pd.DataFrame(sample_ind)"
   ]
  },
  {
   "cell_type": "code",
   "execution_count": 8,
   "metadata": {
    "collapsed": false
   },
   "outputs": [],
   "source": [
    "mark_pairs={};indicator={};resolution = 1\n",
    "channelList=['F3','F4','C3','C4','O1','O2']\n",
    "for ii, names in enumerate(channelList):\n",
    "    mark_pairs[names]=[];indicator[names]=[]\n",
    "    for cells in range(len(general_result[names])):\n",
    "        if cells == len(general_result[names]) -1:\n",
    "            pass\n",
    "        else:\n",
    "            indicator[names].append(general_result[names][cells+1]-general_result[names][cells])\n",
    "            \n",
    "            if indicator[names][cells] == -3:\n",
    "                endPoint = cells * resolution\n",
    "                initial_position = cells;position_idx = cells\n",
    "                try:\n",
    "                    while indicator[names][initial_position] != 3:\n",
    "                        position_idx -= 1 # backward search\n",
    "                        initial_position = position_idx\n",
    "                    startPoint = position_idx * resolution\n",
    "                    \n",
    "                    if endPoint - startPoint >= 1:\n",
    "                        mark_pairs[names].append([startPoint, endPoint])\n",
    "                        \n",
    "                except:\n",
    "                    pass\n",
    "                "
   ]
  },
  {
   "cell_type": "code",
   "execution_count": 50,
   "metadata": {
    "collapsed": false
   },
   "outputs": [
    {
     "data": {
      "text/plain": [
       "(-1, 7)"
      ]
     },
     "execution_count": 50,
     "metadata": {},
     "output_type": "execute_result"
    },
    {
     "data": {
      "image/png": "[encoded data removed]",
      "text/plain": [
       "<matplotlib.figure.Figure at 0x26f9a91c048>"
      ]
     },
     "metadata": {},
     "output_type": "display_data"
    }
   ],
   "source": [
    "plt.figure(figsize=(10,10))\n",
    "for ii, names in enumerate(channelList):\n",
    "    for item in mark_pairs[names]:\n",
    "        plt.hlines(ii,item[0],item[1])\n",
    "        \n",
    "plt.yticks(np.arange(6),channelList)\n",
    "plt.ylim([-1,7])"
   ]
  },
  {
   "cell_type": "code",
   "execution_count": 51,
   "metadata": {
    "collapsed": false
   },
   "outputs": [
    {
     "name": "stdout",
     "output_type": "stream",
     "text": [
      "{'C3': [[112, 3602], [114, 3602], [132, 3602], [176, 3602], [197, 3602], [202, 3602], [224, 3602], [235, 3602], [249, 3602], [259, 3602], [271, 3602], [273, 3602], [278, 3602], [291, 3602], [298, 3602], [316, 3602], [342, 3602], [363, 3602], [382, 3602], [396, 3602], [399, 3602], [410, 3602], [418, 3602], [421, 3602], [424, 3602], [431, 3602], [439, 3602], [471, 3602], [479, 3602], [483, 3602], [498, 3602], [500, 3602], [509, 3602], [511, 3602], [518, 3602], [522, 3602], [537, 3602], [539, 3602], [553, 3602], [557, 3602], [579, 3602], [586, 3602], [596, 3602], [603, 3602], [611, 3602], [619, 3602], [639, 3602], [646, 3602], [651, 3602], [661, 3602], [669, 3602], [691, 3602], [706, 3602], [728, 3602], [736, 3602], [746, 3602], [750, 3602], [755, 3602], [776, 3602], [803, 3602], [812, 3602], [820, 3602], [825, 3602], [835, 3602], [845, 3602], [863, 3602], [867, 3602], [879, 3602], [884, 3602], [893, 3602], [901, 3602], [911, 3602], [938, 3602], [947, 3602], [955, 3602], [959, 3602], [975, 3602], [985, 3602], [1003, 3602], [1008, 3602], [1014, 3602], [1028, 3602], [1030, 3602], [1048, 3602], [1051, 3602], [1076, 3602], [1089, 3602], [1097, 3602], [1104, 3602], [1108, 3602], [1113, 3602], [1115, 3602], [1119, 3602], [1127, 3602], [1136, 3602], [1150, 3602], [1154, 3602], [1169, 3602], [1171, 3602], [1209, 3602], [1216, 3602], [1224, 3602], [1226, 3602], [1267, 3602], [1290, 3602], [1320, 3602], [1327, 3602], [1342, 3602], [1345, 3602], [1354, 3602], [1385, 3602], [1390, 3602], [1392, 3602], [1446, 3602], [1454, 3602], [1459, 3602], [1469, 3602], [1476, 3602], [1501, 3602], [1503, 3602], [1505, 3602], [1515, 3602], [1543, 3602], [1546, 3602], [1559, 3602], [1562, 3602], [1565, 3602], [1575, 3602], [1597, 3602], [1599, 3602], [1612, 3602], [1641, 3602], [1680, 3602], [1700, 3602], [1714, 3602], [1727, 3602], [1730, 3602], [1738, 3602], [1744, 3602], [1754, 3602], [1760, 3602], [1780, 3602], [1784, 3602], [1795, 3602], [1822, 3602], [1824, 3602], [1831, 3602], [1845, 3602], [1853, 3602], [1853, 3602], [1862, 3602], [1881, 3602], [1884, 3602], [1888, 3602], [1892, 3602], [1896, 3602], [1903, 3602], [1917, 3602], [1931, 3602], [1935, 3602], [1942, 3602], [1951, 3602], [1981, 3602], [1998, 3602], [2005, 3602], [2010, 3602], [2034, 3602], [2069, 3602], [2076, 3602], [2087, 3602], [2089, 3602], [2099, 3602], [2109, 3602], [2112, 3602], [2117, 3602], [2134, 3602], [2151, 3602], [2166, 3602], [2171, 3602], [2176, 3602], [2178, 3602], [2210, 3602], [2221, 3602], [2234, 3602], [2238, 3602], [2247, 3602], [2250, 3602], [2269, 3602], [2281, 3602], [2298, 3602], [2305, 3602], [2308, 3602], [2315, 3602], [2328, 3602], [2346, 3602], [2356, 3602], [2360, 3602], [2374, 3602], [2425, 3602], [2540, 3602], [2554, 3602], [2559, 3602], [2603, 3602], [2638, 3602], [2640, 3602], [2646, 3602], [2656, 3602], [2661, 3602], [2682, 3602], [2684, 3602], [2695, 3602], [2816, 3602], [2971, 3602], [2974, 3602], [2976, 3602], [2978, 3602], [2982, 3602], [2996, 3602], [3013, 3602], [3020, 3602], [3031, 3602], [3036, 3602], [3043, 3602], [3058, 3602], [3078, 3602], [3088, 3602], [3091, 3602], [3098, 3602], [3130, 3602], [3135, 3602], [3167, 3602], [3182, 3602], [3189, 3602], [3193, 3602], [3199, 3602], [3209, 3602], [3211, 3602], [3221, 3602], [3223, 3602], [3231, 3602], [3237, 3602], [3249, 3602], [3263, 3602], [3277, 3602], [3283, 3602], [3288, 3602], [3290, 3602], [3295, 3602], [3300, 3602], [3335, 3602], [3342, 3602], [3353, 3602], [3355, 3602], [3371, 3602], [3379, 3602], [3391, 3602], [3416, 3602], [3425, 3602], [3453, 3602], [3459, 3602], [3467, 3602], [3478, 3602], [3489, 3602], [3503, 3602], [3517, 3602], [3520, 3602], [3536, 3602], [3544, 3602], [3547, 3602], [3554, 3602], [3565, 3602], [3568, 3602], [3585, 3602]], 'F4': [[6, 3602], [8, 3602], [15, 3602], [104, 3602], [111, 3602], [114, 3602], [117, 3602], [128, 3602], [171, 3602], [180, 3602], [192, 3602], [194, 3602], [202, 3602], [216, 3602], [224, 3602], [235, 3602], [240, 3602], [260, 3602], [262, 3602], [266, 3602], [270, 3602], [285, 3602], [292, 3602], [310, 3602], [335, 3602], [338, 3602], [352, 3602], [357, 3602], [367, 3602], [375, 3602], [386, 3602], [397, 3602], [414, 3602], [416, 3602], [418, 3602], [426, 3602], [433, 3602], [452, 3602], [476, 3602], [509, 3602], [511, 3602], [517, 3602], [524, 3602], [531, 3602], [534, 3602], [563, 3602], [585, 3602], [591, 3602], [594, 3602], [600, 3602], [602, 3602], [618, 3602], [625, 3602], [636, 3602], [639, 3602], [645, 3602], [651, 3602], [661, 3602], [668, 3602], [681, 3602], [692, 3602], [724, 3602], [738, 3602], [744, 3602], [748, 3602], [751, 3602], [753, 3602], [755, 3602], [767, 3602], [792, 3602], [811, 3602], [815, 3602], [819, 3602], [821, 3602], [824, 3602], [835, 3602], [848, 3602], [871, 3602], [876, 3602], [881, 3602], [885, 3602], [887, 3602], [891, 3602], [904, 3602], [911, 3602], [924, 3602], [946, 3602], [953, 3602], [969, 3602], [972, 3602], [974, 3602], [982, 3602], [989, 3602], [993, 3602], [997, 3602], [1018, 3602], [1024, 3602], [1037, 3602], [1042, 3602], [1053, 3602], [1073, 3602], [1091, 3602], [1108, 3602], [1110, 3602], [1115, 3602], [1125, 3602], [1127, 3602], [1138, 3602], [1146, 3602], [1154, 3602], [1164, 3602], [1167, 3602], [1176, 3602], [1179, 3602], [1189, 3602], [1207, 3602], [1221, 3602], [1223, 3602], [1226, 3602], [1243, 3602], [1264, 3602], [1268, 3602], [1282, 3602], [1291, 3602], [1305, 3602], [1320, 3602], [1336, 3602], [1344, 3602], [1372, 3602], [1381, 3602], [1390, 3602], [1393, 3602], [1417, 3602], [1435, 3602], [1446, 3602], [1449, 3602], [1458, 3602], [1470, 3602], [1515, 3602], [1519, 3602], [1556, 3602], [1563, 3602], [1565, 3602], [1568, 3602], [1590, 3602], [1594, 3602], [1607, 3602], [1629, 3602], [1635, 3602], [1650, 3602], [1680, 3602], [1700, 3602], [1705, 3602], [1733, 3602], [1740, 3602], [1754, 3602], [1756, 3602], [1780, 3602], [1796, 3602], [1808, 3602], [1812, 3602], [1824, 3602], [1827, 3602], [1831, 3602], [1845, 3602], [1853, 3602], [1862, 3602], [1872, 3602], [1876, 3602], [1885, 3602], [1894, 3602], [1902, 3602], [1907, 3602], [1915, 3602], [1923, 3602], [1933, 3602], [1942, 3602], [1945, 3602], [1961, 3602], [1963, 3602], [1972, 3602], [1995, 3602], [1997, 3602], [2004, 3602], [2022, 3602], [2032, 3602], [2037, 3602], [2040, 3602], [2049, 3602], [2052, 3602], [2074, 3602], [2076, 3602], [2086, 3602], [2103, 3602], [2118, 3602], [2124, 3602], [2130, 3602], [2139, 3602], [2146, 3602], [2152, 3602], [2172, 3602], [2179, 3602], [2204, 3602], [2211, 3602], [2221, 3602], [2225, 3602], [2230, 3602], [2248, 3602], [2267, 3602], [2275, 3602], [2306, 3602], [2321, 3602], [2327, 3602], [2333, 3602], [2349, 3602], [2367, 3602], [2375, 3602], [2425, 3602], [2445, 3602], [2482, 3602], [2500, 3602], [2533, 3602], [2547, 3602], [2556, 3602], [2562, 3602], [2564, 3602], [2577, 3602], [2584, 3602], [2599, 3602], [2604, 3602], [2637, 3602], [2645, 3602], [2666, 3602], [2681, 3602], [2685, 3602], [2695, 3602], [2745, 3602], [2753, 3602], [2762, 3602], [2764, 3602], [2777, 3602], [2782, 3602], [2784, 3602], [2806, 3602], [2810, 3602], [2816, 3602], [2823, 3602], [2830, 3602], [2868, 3602], [2877, 3602], [2879, 3602], [2887, 3602], [2913, 3602], [2955, 3602], [2961, 3602], [2966, 3602], [2979, 3602], [2983, 3602], [2990, 3602], [3004, 3602], [3029, 3602], [3033, 3602], [3045, 3602], [3048, 3602], [3058, 3602], [3077, 3602], [3081, 3602], [3088, 3602], [3098, 3602], [3131, 3602], [3139, 3602], [3165, 3602], [3169, 3602], [3177, 3602], [3183, 3602], [3192, 3602], [3204, 3602], [3206, 3602], [3211, 3602], [3215, 3602], [3233, 3602], [3248, 3602], [3274, 3602], [3281, 3602], [3283, 3602], [3286, 3602], [3317, 3602], [3321, 3602], [3324, 3602], [3330, 3602], [3333, 3602], [3341, 3602], [3352, 3602], [3356, 3602], [3369, 3602], [3372, 3602], [3375, 3602], [3391, 3602], [3419, 3602], [3437, 3602], [3442, 3602], [3448, 3602], [3453, 3602], [3474, 3602], [3491, 3602], [3506, 3602], [3511, 3602], [3520, 3602], [3534, 3602], [3543, 3602], [3557, 3602], [3592, 3602]], 'F3': [[88, 3602], [113, 3602], [176, 3602], [193, 3602], [203, 3602], [224, 3602], [234, 3602], [239, 3602], [245, 3602], [247, 3602], [258, 3602], [271, 3602], [291, 3602], [298, 3602], [316, 3602], [332, 3602], [342, 3602], [346, 3602], [362, 3602], [371, 3602], [375, 3602], [382, 3602], [395, 3602], [421, 3602], [424, 3602], [431, 3602], [434, 3602], [439, 3602], [452, 3602], [467, 3602], [471, 3602], [482, 3602], [498, 3602], [500, 3602], [503, 3602], [512, 3602], [520, 3602], [522, 3602], [524, 3602], [526, 3602], [537, 3602], [539, 3602], [557, 3602], [582, 3602], [586, 3602], [588, 3602], [591, 3602], [596, 3602], [604, 3602], [607, 3602], [617, 3602], [619, 3602], [639, 3602], [646, 3602], [651, 3602], [662, 3602], [671, 3602], [680, 3602], [692, 3602], [708, 3602], [728, 3602], [736, 3602], [756, 3602], [776, 3602], [799, 3602], [811, 3602], [821, 3602], [825, 3602], [828, 3602], [835, 3602], [845, 3602], [867, 3602], [886, 3602], [893, 3602], [901, 3602], [911, 3602], [938, 3602], [940, 3602], [947, 3602], [960, 3602], [975, 3602], [981, 3602], [983, 3602], [1007, 3602], [1014, 3602], [1032, 3602], [1049, 3602], [1058, 3602], [1076, 3602], [1090, 3602], [1107, 3602], [1120, 3602], [1127, 3602], [1136, 3602], [1154, 3602], [1163, 3602], [1165, 3602], [1209, 3602], [1212, 3602], [1215, 3602], [1227, 3602], [1237, 3602], [1251, 3602], [1268, 3602], [1285, 3602], [1289, 3602], [1293, 3602], [1320, 3602], [1324, 3602], [1329, 3602], [1350, 3602], [1354, 3602], [1385, 3602], [1392, 3602], [1417, 3602], [1436, 3602], [1446, 3602], [1458, 3602], [1471, 3602], [1476, 3602], [1479, 3602], [1492, 3602], [1505, 3602], [1515, 3602], [1546, 3602], [1559, 3602], [1561, 3602], [1575, 3602], [1582, 3602], [1590, 3602], [1595, 3602], [1597, 3602], [1601, 3602], [1612, 3602], [1642, 3602], [1667, 3602], [1680, 3602], [1700, 3602], [1714, 3602], [1727, 3602], [1730, 3602], [1733, 3602], [1738, 3602], [1754, 3602], [1760, 3602], [1780, 3602], [1795, 3602], [1824, 3602], [1831, 3602], [1841, 3602], [1845, 3602], [1853, 3602], [1859, 3602], [1862, 3602], [1872, 3602], [1876, 3602], [1884, 3602], [1892, 3602], [1896, 3602], [1905, 3602], [1917, 3602], [1932, 3602], [1942, 3602], [1951, 3602], [1976, 3602], [1981, 3602], [1998, 3602], [2005, 3602], [2008, 3602], [2033, 3602], [2052, 3602], [2069, 3602], [2080, 3602], [2090, 3602], [2096, 3602], [2109, 3602], [2112, 3602], [2117, 3602], [2134, 3602], [2151, 3602], [2171, 3602], [2178, 3602], [2180, 3602], [2221, 3602], [2234, 3602], [2238, 3602], [2251, 3602], [2269, 3602], [2281, 3602], [2296, 3602], [2305, 3602], [2315, 3602], [2327, 3602], [2331, 3602], [2348, 3602], [2357, 3602], [2360, 3602], [2370, 3602], [2425, 3602], [2428, 3602], [2540, 3602], [2561, 3602], [2567, 3602], [2580, 3602], [2582, 3602], [2595, 3602], [2602, 3602], [2640, 3602], [2642, 3602], [2646, 3602], [2657, 3602], [2680, 3602], [2689, 3602], [2698, 3602], [2816, 3602], [2971, 3602], [2978, 3602], [2981, 3602], [2999, 3602], [3012, 3602], [3014, 3602], [3020, 3602], [3036, 3602], [3045, 3602], [3053, 3602], [3055, 3602], [3058, 3602], [3088, 3602], [3091, 3602], [3099, 3602], [3130, 3602], [3137, 3602], [3182, 3602], [3186, 3602], [3189, 3602], [3193, 3602], [3199, 3602], [3205, 3602], [3209, 3602], [3211, 3602], [3215, 3602], [3223, 3602], [3237, 3602], [3250, 3602], [3256, 3602], [3263, 3602], [3265, 3602], [3276, 3602], [3284, 3602], [3290, 3602], [3295, 3602], [3300, 3602], [3311, 3602], [3319, 3602], [3335, 3602], [3345, 3602], [3355, 3602], [3366, 3602], [3371, 3602], [3384, 3602], [3391, 3602], [3399, 3602], [3404, 3602], [3416, 3602], [3425, 3602], [3453, 3602], [3491, 3602], [3520, 3602], [3527, 3602], [3536, 3602], [3547, 3602], [3553, 3602], [3571, 3602], [3584, 3602]], 'C4': [[0, 3602], [2, 3602], [6, 3602], [8, 3602], [15, 3602], [104, 3602], [111, 3602], [114, 3602], [117, 3602], [127, 3602], [130, 3602], [171, 3602], [180, 3602], [192, 3602], [194, 3602], [202, 3602], [216, 3602], [224, 3602], [235, 3602], [240, 3602], [260, 3602], [262, 3602], [266, 3602], [270, 3602], [285, 3602], [292, 3602], [310, 3602], [335, 3602], [338, 3602], [356, 3602], [367, 3602], [375, 3602], [386, 3602], [397, 3602], [411, 3602], [414, 3602], [419, 3602], [426, 3602], [433, 3602], [438, 3602], [452, 3602], [472, 3602], [476, 3602], [487, 3602], [495, 3602], [509, 3602], [511, 3602], [517, 3602], [524, 3602], [531, 3602], [534, 3602], [563, 3602], [585, 3602], [591, 3602], [594, 3602], [600, 3602], [602, 3602], [618, 3602], [639, 3602], [645, 3602], [651, 3602], [661, 3602], [668, 3602], [681, 3602], [692, 3602], [717, 3602], [723, 3602], [738, 3602], [744, 3602], [748, 3602], [751, 3602], [753, 3602], [755, 3602], [767, 3602], [793, 3602], [811, 3602], [815, 3602], [817, 3602], [819, 3602], [821, 3602], [824, 3602], [835, 3602], [871, 3602], [885, 3602], [887, 3602], [891, 3602], [904, 3602], [911, 3602], [924, 3602], [946, 3602], [953, 3602], [968, 3602], [972, 3602], [974, 3602], [978, 3602], [983, 3602], [993, 3602], [997, 3602], [1018, 3602], [1024, 3602], [1037, 3602], [1042, 3602], [1053, 3602], [1090, 3602], [1108, 3602], [1110, 3602], [1115, 3602], [1127, 3602], [1138, 3602], [1146, 3602], [1154, 3602], [1165, 3602], [1167, 3602], [1176, 3602], [1179, 3602], [1185, 3602], [1189, 3602], [1205, 3602], [1207, 3602], [1221, 3602], [1223, 3602], [1226, 3602], [1264, 3602], [1266, 3602], [1269, 3602], [1282, 3602], [1291, 3602], [1305, 3602], [1320, 3602], [1336, 3602], [1344, 3602], [1372, 3602], [1382, 3602], [1390, 3602], [1417, 3602], [1435, 3602], [1445, 3602], [1449, 3602], [1459, 3602], [1470, 3602], [1515, 3602], [1556, 3602], [1563, 3602], [1565, 3602], [1567, 3602], [1590, 3602], [1607, 3602], [1615, 3602], [1629, 3602], [1632, 3602], [1635, 3602], [1650, 3602], [1709, 3602], [1711, 3602], [1713, 3602], [1719, 3602], [1723, 3602], [1734, 3602], [1752, 3602], [1760, 3602], [1762, 3602], [1780, 3602], [1796, 3602], [1808, 3602], [1810, 3602], [1812, 3602], [1831, 3602], [1840, 3602], [1845, 3602], [1862, 3602], [1870, 3602], [1872, 3602], [1876, 3602], [1885, 3602], [1894, 3602], [1902, 3602], [1908, 3602], [1915, 3602], [1923, 3602], [1942, 3602], [1945, 3602], [1951, 3602], [1963, 3602], [1972, 3602], [1995, 3602], [2004, 3602], [2022, 3602], [2032, 3602], [2037, 3602], [2040, 3602], [2048, 3602], [2063, 3602], [2074, 3602], [2076, 3602], [2086, 3602], [2103, 3602], [2118, 3602], [2124, 3602], [2130, 3602], [2139, 3602], [2146, 3602], [2153, 3602], [2155, 3602], [2172, 3602], [2179, 3602], [2211, 3602], [2221, 3602], [2230, 3602], [2248, 3602], [2267, 3602], [2275, 3602], [2300, 3602], [2308, 3602], [2321, 3602], [2325, 3602], [2327, 3602], [2330, 3602], [2333, 3602], [2342, 3602], [2349, 3602], [2367, 3602], [2375, 3602], [2425, 3602], [2445, 3602], [2478, 3602], [2482, 3602], [2500, 3602], [2533, 3602], [2547, 3602], [2556, 3602], [2564, 3602], [2584, 3602], [2597, 3602], [2599, 3602], [2604, 3602], [2636, 3602], [2643, 3602], [2645, 3602], [2666, 3602], [2681, 3602], [2685, 3602], [2692, 3602], [2695, 3602], [2745, 3602], [2753, 3602], [2762, 3602], [2777, 3602], [2782, 3602], [2784, 3602], [2806, 3602], [2810, 3602], [2823, 3602], [2828, 3602], [2839, 3602], [2868, 3602], [2877, 3602], [2879, 3602], [2887, 3602], [2911, 3602], [2913, 3602], [2955, 3602], [2961, 3602], [2966, 3602], [2979, 3602], [2983, 3602], [2989, 3602], [3004, 3602], [3029, 3602], [3033, 3602], [3045, 3602], [3048, 3602], [3058, 3602], [3077, 3602], [3081, 3602], [3088, 3602], [3098, 3602], [3131, 3602], [3139, 3602], [3165, 3602], [3169, 3602], [3176, 3602], [3183, 3602], [3192, 3602], [3204, 3602], [3206, 3602], [3211, 3602], [3215, 3602], [3233, 3602], [3248, 3602], [3274, 3602], [3279, 3602], [3283, 3602], [3317, 3602], [3321, 3602], [3324, 3602], [3330, 3602], [3333, 3602], [3352, 3602], [3356, 3602], [3369, 3602], [3372, 3602], [3375, 3602], [3391, 3602], [3407, 3602], [3420, 3602], [3437, 3602], [3448, 3602], [3453, 3602], [3474, 3602], [3491, 3602], [3506, 3602], [3511, 3602], [3514, 3602], [3520, 3602], [3534, 3602], [3542, 3602], [3557, 3602], [3592, 3602]], 'O2': [[15, 3602], [61, 3602], [76, 3602], [88, 3602], [101, 3602], [104, 3602], [118, 3602], [121, 3602], [175, 3602], [177, 3602], [182, 3602], [187, 3602], [195, 3602], [202, 3602], [214, 3602], [224, 3602], [227, 3602], [229, 3602], [235, 3602], [240, 3602], [242, 3602], [249, 3602], [251, 3602], [253, 3602], [259, 3602], [270, 3602], [287, 3602], [289, 3602], [291, 3602], [298, 3602], [338, 3602], [353, 3602], [359, 3602], [364, 3602], [366, 3602], [379, 3602], [382, 3602], [385, 3602], [396, 3602], [401, 3602], [404, 3602], [412, 3602], [415, 3602], [424, 3602], [433, 3602], [440, 3602], [445, 3602], [490, 3602], [501, 3602], [503, 3602], [506, 3602], [509, 3602], [514, 3602], [517, 3602], [528, 3602], [533, 3602], [537, 3602], [548, 3602], [581, 3602], [585, 3602], [591, 3602], [594, 3602], [602, 3602], [613, 3602], [615, 3602], [638, 3602], [646, 3602], [648, 3602], [651, 3602], [660, 3602], [666, 3602], [676, 3602], [692, 3602], [706, 3602], [733, 3602], [736, 3602], [738, 3602], [751, 3602], [755, 3602], [801, 3602], [809, 3602], [820, 3602], [833, 3602], [835, 3602], [855, 3602], [880, 3602], [882, 3602], [893, 3602], [907, 3602], [922, 3602], [940, 3602], [943, 3602], [946, 3602], [951, 3602], [953, 3602], [969, 3602], [978, 3602], [981, 3602], [990, 3602], [1002, 3602], [1004, 3602], [1006, 3602], [1011, 3602], [1013, 3602], [1020, 3602], [1024, 3602], [1027, 3602], [1031, 3602], [1051, 3602], [1053, 3602], [1059, 3602], [1062, 3602], [1065, 3602], [1076, 3602], [1091, 3602], [1094, 3602], [1099, 3602], [1102, 3602], [1104, 3602], [1106, 3602], [1115, 3602], [1120, 3602], [1124, 3602], [1133, 3602], [1140, 3602], [1149, 3602], [1165, 3602], [1171, 3602], [1180, 3602], [1195, 3602], [1202, 3602], [1204, 3602], [1210, 3602], [1213, 3602], [1216, 3602], [1219, 3602], [1222, 3602], [1262, 3602], [1268, 3602], [1282, 3602], [1305, 3602], [1320, 3602], [1324, 3602], [1334, 3602], [1338, 3602], [1343, 3602], [1345, 3602], [1349, 3602], [1367, 3602], [1387, 3602], [1395, 3602], [1435, 3602], [1438, 3602], [1442, 3602], [1448, 3602], [1461, 3602], [1474, 3602], [1477, 3602], [1511, 3602], [1513, 3602], [1538, 3602], [1559, 3602], [1568, 3602], [1586, 3602], [1590, 3602], [1594, 3602], [1596, 3602], [1598, 3602], [1605, 3602], [1611, 3602], [1628, 3602], [1631, 3602], [1638, 3602], [1643, 3602], [1664, 3602], [1673, 3602], [1676, 3602], [1680, 3602], [1700, 3602], [1714, 3602], [1727, 3602], [1733, 3602], [1739, 3602], [1745, 3602], [1751, 3602], [1757, 3602], [1760, 3602], [1777, 3602], [1787, 3602], [1789, 3602], [1791, 3602], [1801, 3602], [1810, 3602], [1812, 3602], [1822, 3602], [1831, 3602], [1841, 3602], [1845, 3602], [1853, 3602], [1860, 3602], [1862, 3602], [1877, 3602], [1879, 3602], [1885, 3602], [1888, 3602], [1896, 3602], [1898, 3602], [1902, 3602], [1917, 3602], [1933, 3602], [1937, 3602], [1942, 3602], [1946, 3602], [1955, 3602], [1957, 3602], [1973, 3602], [1987, 3602], [1991, 3602], [1995, 3602], [1999, 3602], [2010, 3602], [2033, 3602], [2044, 3602], [2052, 3602], [2069, 3602], [2074, 3602], [2076, 3602], [2082, 3602], [2090, 3602], [2107, 3602], [2110, 3602], [2113, 3602], [2129, 3602], [2134, 3602], [2146, 3602], [2172, 3602], [2178, 3602], [2205, 3602], [2213, 3602], [2218, 3602], [2227, 3602], [2231, 3602], [2251, 3602], [2257, 3602], [2261, 3602], [2264, 3602], [2267, 3602], [2281, 3602], [2294, 3602], [2301, 3602], [2303, 3602], [2331, 3602], [2335, 3602], [2338, 3602], [2341, 3602], [2350, 3602], [2420, 3602], [2433, 3602], [2439, 3602], [2468, 3602], [2470, 3602], [2474, 3602], [2477, 3602], [2484, 3602], [2537, 3602], [2539, 3602], [2547, 3602], [2550, 3602], [2561, 3602], [2576, 3602], [2583, 3602], [2585, 3602], [2590, 3602], [2597, 3602], [2599, 3602], [2631, 3602], [2635, 3602], [2639, 3602], [2643, 3602], [2646, 3602], [2652, 3602], [2654, 3602], [2659, 3602], [2661, 3602], [2666, 3602], [2675, 3602], [2678, 3602], [2680, 3602], [2688, 3602], [2691, 3602], [2698, 3602], [2716, 3602], [2755, 3602], [2812, 3602], [2815, 3602], [2818, 3602], [2911, 3602], [2929, 3602], [2944, 3602], [2965, 3602], [2967, 3602], [2980, 3602], [2996, 3602], [3002, 3602], [3004, 3602], [3010, 3602], [3014, 3602], [3021, 3602], [3033, 3602], [3035, 3602], [3044, 3602], [3048, 3602], [3052, 3602], [3055, 3602], [3075, 3602], [3081, 3602], [3087, 3602], [3096, 3602], [3098, 3602], [3102, 3602], [3131, 3602], [3136, 3602], [3140, 3602], [3176, 3602], [3184, 3602], [3197, 3602], [3212, 3602], [3214, 3602], [3227, 3602], [3237, 3602], [3239, 3602], [3242, 3602], [3248, 3602], [3258, 3602], [3262, 3602], [3265, 3602], [3271, 3602], [3277, 3602], [3287, 3602], [3298, 3602], [3311, 3602], [3319, 3602], [3326, 3602], [3333, 3602], [3341, 3602], [3354, 3602], [3356, 3602], [3368, 3602], [3371, 3602], [3376, 3602], [3382, 3602], [3391, 3602], [3416, 3602], [3421, 3602], [3430, 3602], [3435, 3602], [3447, 3602], [3457, 3602], [3471, 3602], [3475, 3602], [3477, 3602], [3491, 3602], [3498, 3602], [3506, 3602], [3511, 3602], [3519, 3602], [3535, 3602], [3547, 3602], [3556, 3602], [3569, 3602], [3592, 3602]], 'O1': [[0, 3602], [2, 3602], [5, 3602], [15, 3602], [25, 3602], [79, 3602], [105, 3602], [114, 3602], [118, 3602], [131, 3602], [172, 3602], [180, 3602], [192, 3602], [194, 3602], [198, 3602], [202, 3602], [216, 3602], [225, 3602], [235, 3602], [240, 3602], [257, 3602], [260, 3602], [262, 3602], [266, 3602], [268, 3602], [270, 3602], [285, 3602], [291, 3602], [310, 3602], [356, 3602], [367, 3602], [375, 3602], [382, 3602], [397, 3602], [409, 3602], [411, 3602], [426, 3602], [433, 3602], [493, 3602], [495, 3602], [506, 3602], [508, 3602], [517, 3602], [524, 3602], [531, 3602], [533, 3602], [564, 3602], [573, 3602], [583, 3602], [585, 3602], [591, 3602], [594, 3602], [602, 3602], [643, 3602], [651, 3602], [658, 3602], [661, 3602], [666, 3602], [668, 3602], [680, 3602], [692, 3602], [706, 3602], [717, 3602], [724, 3602], [736, 3602], [751, 3602], [755, 3602], [767, 3602], [784, 3602], [788, 3602], [792, 3602], [811, 3602], [817, 3602], [821, 3602], [824, 3602], [836, 3602], [871, 3602], [876, 3602], [884, 3602], [891, 3602], [905, 3602], [911, 3602], [946, 3602], [953, 3602], [962, 3602], [969, 3602], [972, 3602], [976, 3602], [978, 3602], [982, 3602], [993, 3602], [996, 3602], [1004, 3602], [1006, 3602], [1011, 3602], [1018, 3602], [1024, 3602], [1037, 3602], [1042, 3602], [1044, 3602], [1053, 3602], [1070, 3602], [1073, 3602], [1091, 3602], [1108, 3602], [1115, 3602], [1119, 3602], [1127, 3602], [1138, 3602], [1141, 3602], [1146, 3602], [1150, 3602], [1154, 3602], [1168, 3602], [1180, 3602], [1188, 3602], [1196, 3602], [1205, 3602], [1221, 3602], [1223, 3602], [1226, 3602], [1243, 3602], [1249, 3602], [1252, 3602], [1266, 3602], [1268, 3602], [1282, 3602], [1291, 3602], [1305, 3602], [1320, 3602], [1336, 3602], [1338, 3602], [1340, 3602], [1344, 3602], [1350, 3602], [1382, 3602], [1416, 3602], [1425, 3602], [1442, 3602], [1444, 3602], [1460, 3602], [1470, 3602], [1520, 3602], [1556, 3602], [1563, 3602], [1565, 3602], [1567, 3602], [1590, 3602], [1606, 3602], [1613, 3602], [1630, 3602], [1633, 3602], [1635, 3602], [1650, 3602], [1652, 3602], [1700, 3602], [1705, 3602], [1716, 3602], [1733, 3602], [1751, 3602], [1754, 3602], [1770, 3602], [1774, 3602], [1779, 3602], [1785, 3602], [1797, 3602], [1824, 3602], [1831, 3602], [1845, 3602], [1853, 3602], [1862, 3602], [1872, 3602], [1876, 3602], [1885, 3602], [1894, 3602], [1902, 3602], [1916, 3602], [1923, 3602], [1933, 3602], [1941, 3602], [1944, 3602], [1961, 3602], [1972, 3602], [1995, 3602], [2004, 3602], [2008, 3602], [2021, 3602], [2032, 3602], [2040, 3602], [2046, 3602], [2074, 3602], [2076, 3602], [2086, 3602], [2103, 3602], [2117, 3602], [2124, 3602], [2130, 3602], [2137, 3602], [2139, 3602], [2146, 3602], [2150, 3602], [2172, 3602], [2179, 3602], [2211, 3602], [2219, 3602], [2225, 3602], [2248, 3602], [2266, 3602], [2275, 3602], [2300, 3602], [2305, 3602], [2324, 3602], [2327, 3602], [2331, 3602], [2333, 3602], [2342, 3602], [2349, 3602], [2367, 3602], [2375, 3602], [2402, 3602], [2425, 3602], [2445, 3602], [2483, 3602], [2500, 3602], [2533, 3602], [2537, 3602], [2547, 3602], [2554, 3602], [2556, 3602], [2564, 3602], [2584, 3602], [2596, 3602], [2604, 3602], [2637, 3602], [2643, 3602], [2645, 3602], [2666, 3602], [2669, 3602], [2688, 3602], [2691, 3602], [2731, 3602], [2745, 3602], [2753, 3602], [2762, 3602], [2768, 3602], [2776, 3602], [2788, 3602], [2806, 3602], [2810, 3602], [2823, 3602], [2828, 3602], [2870, 3602], [2877, 3602], [2879, 3602], [2886, 3602], [2911, 3602], [2913, 3602], [2929, 3602], [2961, 3602], [2966, 3602], [2969, 3602], [2979, 3602], [2983, 3602], [2986, 3602], [2989, 3602], [3004, 3602], [3029, 3602], [3033, 3602], [3043, 3602], [3045, 3602], [3048, 3602], [3051, 3602], [3057, 3602], [3060, 3602], [3069, 3602], [3071, 3602], [3074, 3602], [3077, 3602], [3081, 3602], [3088, 3602], [3097, 3602], [3110, 3602], [3131, 3602], [3139, 3602], [3157, 3602], [3165, 3602], [3169, 3602], [3176, 3602], [3183, 3602], [3204, 3602], [3206, 3602], [3211, 3602], [3233, 3602], [3249, 3602], [3271, 3602], [3274, 3602], [3283, 3602], [3286, 3602], [3324, 3602], [3333, 3602], [3341, 3602], [3368, 3602], [3372, 3602], [3374, 3602], [3392, 3602], [3420, 3602], [3437, 3602], [3444, 3602], [3446, 3602], [3448, 3602], [3469, 3602], [3475, 3602], [3491, 3602], [3506, 3602], [3519, 3602], [3533, 3602], [3542, 3602], [3558, 3602], [3573, 3602], [3592, 3602]]}\n"
     ]
    }
   ],
   "source": [
    "print(mark_pairs)"
   ]
  },
  {
   "cell_type": "code",
   "execution_count": 15,
   "metadata": {
    "collapsed": false
   },
   "outputs": [],
   "source": [
    "spindle_overlapping = {}\n",
    "for ii, names in enumerate(channelList):\n",
    "    spindle_overlapping[names]=[]\n",
    "    for items in spindles:\n",
    "        \n",
    "        for rows in mark_pairs[names]:\n",
    "            if (abs(rows[0]-items)<2) or (abs(rows[1]-items)<2):\n",
    "                spindle_overlapping[names].append(1)\n",
    "            else:\n",
    "                spindle_overlapping[names].append(0)\n",
    "            "
   ]
  },
  {
   "cell_type": "code",
   "execution_count": 25,
   "metadata": {
    "collapsed": false
   },
   "outputs": [
    {
     "name": "stdout",
     "output_type": "stream",
     "text": [
      "31 140\n",
      "31 140\n",
      "37 140\n",
      "25 140\n",
      "48 140\n",
      "27 140\n"
     ]
    }
   ],
   "source": [
    "for keys in spindle_overlapping.keys():\n",
    "    print(sum(spindle_overlapping[keys]),len(spindles))"
   ]
  },
  {
   "cell_type": "code",
   "execution_count": 26,
   "metadata": {
    "collapsed": true
   },
   "outputs": [],
   "source": [
    "sleep_annotation=[]\n",
    "searchLabel = re.compile('Markon: 2',re.IGNORECASE)\n",
    "for rows in file.iterrows():\n",
    "    currentEvent = rows[-1][-1]\n",
    "    if searchLabel.search(currentEvent):\n",
    "        sleep_annotation.append([rows[1][0],rows[1][0]+30])\n",
    "        "
   ]
  },
  {
   "cell_type": "code",
   "execution_count": 41,
   "metadata": {
    "collapsed": false,
    "scrolled": true
   },
   "outputs": [
    {
     "data": {
      "text/plain": [
       "{'C3': array([[  0.      ,   0.      ,   0.      ,   0.      ,   0.      ,\n",
       "           0.      ,   0.      ,   0.      ,   0.      ,   0.      ,\n",
       "           0.      ,   0.      ,   0.      ,   0.      ,   0.      ,\n",
       "           0.      ,   0.      ,   0.      ,   0.      ,   0.      ,\n",
       "           0.      ,   0.      ,   0.      ,   0.      ,   0.      ,\n",
       "           0.      ,   0.      ,   0.      ,   0.      ,   0.      ,\n",
       "           0.      ,   0.      ,   0.      ,   0.      ,   0.      ,\n",
       "           0.      ,   0.      ,   0.      ,   0.      ,  15.431291]]),\n",
       " 'C4': array([[ 0.      ,  0.      ,  0.      ,  0.      ,  0.      ,  0.      ,\n",
       "          0.      ,  0.      ,  0.      ,  0.      ,  0.      ,  0.      ,\n",
       "          0.      ,  0.      ,  0.      ,  0.      ,  0.      ,  0.      ,\n",
       "          0.      ,  0.      ,  0.      ,  0.      ,  0.      ,  0.      ,\n",
       "          0.      ,  0.      ,  0.      ,  0.      ,  0.      ,  0.      ,\n",
       "          0.      ,  0.      ,  0.      ,  0.      ,  0.      ,  0.      ,\n",
       "          0.      ,  0.      ,  0.      ,  8.431291]]),\n",
       " 'F3': array([[  0.      ,   0.      ,   0.      ,   0.      ,   0.      ,\n",
       "           0.      ,   0.      ,   0.      ,   0.      ,   0.      ,\n",
       "           0.      ,   0.      ,   0.      ,   0.      ,   0.      ,\n",
       "           0.      ,   0.      ,   0.      ,   0.      ,   0.      ,\n",
       "           0.      ,   0.      ,   0.      ,   0.      ,   0.      ,\n",
       "           0.      ,   0.      ,   0.      ,   0.      ,   0.      ,\n",
       "           0.      ,   0.      ,   0.      ,   0.      ,   0.      ,\n",
       "           0.      ,   0.      ,   0.      ,   0.      ,  16.431291]]),\n",
       " 'F4': array([[ 0.      ,  0.      ,  0.      ,  0.      ,  0.      ,  0.      ,\n",
       "          0.      ,  0.      ,  0.      ,  0.      ,  0.      ,  0.      ,\n",
       "          0.      ,  0.      ,  0.      ,  0.      ,  0.      ,  0.      ,\n",
       "          0.      ,  0.      ,  0.      ,  0.      ,  0.      ,  0.      ,\n",
       "          0.      ,  0.      ,  0.      ,  0.      ,  0.      ,  0.      ,\n",
       "          0.      ,  0.      ,  0.      ,  0.      ,  0.      ,  0.      ,\n",
       "          0.      ,  0.      ,  0.      ,  8.431291]]),\n",
       " 'O1': array([[ 0.      ,  0.      ,  0.      ,  0.      ,  0.      ,  0.      ,\n",
       "          0.      ,  0.      ,  0.      ,  0.      ,  0.      ,  0.      ,\n",
       "          0.      ,  0.      ,  0.      ,  0.      ,  0.      ,  0.      ,\n",
       "          0.      ,  0.      ,  0.      ,  0.      ,  0.      ,  0.      ,\n",
       "          0.      ,  0.      ,  0.      ,  0.      ,  0.      ,  0.      ,\n",
       "          0.      ,  0.      ,  0.      ,  0.      ,  0.      ,  0.      ,\n",
       "          0.      ,  0.      ,  0.      ,  8.431291]]),\n",
       " 'O2': array([[ 0.      ,  0.      ,  0.      ,  0.      ,  0.      ,  0.      ,\n",
       "          0.      ,  0.      ,  0.      ,  0.      ,  0.      ,  0.      ,\n",
       "          0.      ,  0.      ,  0.      ,  0.      ,  0.      ,  0.      ,\n",
       "          0.      ,  0.      ,  0.      ,  0.      ,  0.      ,  0.      ,\n",
       "          0.      ,  0.      ,  0.      ,  0.      ,  0.      ,  0.      ,\n",
       "          0.      ,  0.      ,  0.      ,  0.      ,  0.      ,  0.      ,\n",
       "          0.      ,  0.      ,  0.      ,  8.431291]])}"
      ]
     },
     "execution_count": 41,
     "metadata": {},
     "output_type": "execute_result"
    }
   ],
   "source": [
    "overlapping_index"
   ]
  },
  {
   "cell_type": "code",
   "execution_count": 27,
   "metadata": {
    "collapsed": true
   },
   "outputs": [],
   "source": [
    "# whether two intervals overlap\n",
    "def getOverlap(a,b):\n",
    "    return max(0,min(a[1],b[1]) - max(a[0],b[0]))"
   ]
  },
  {
   "cell_type": "code",
   "execution_count": 30,
   "metadata": {
    "collapsed": false
   },
   "outputs": [],
   "source": [
    "overlapping_index={}\n",
    "for ii,names in enumerate(channelList):\n",
    "    for rows in mark_pairs[names]:\n",
    "        over_lapping = [];overlapping_index[names]=[]\n",
    "        for items in sleep_annotation:\n",
    "            over_lapping.append(getOverlap(rows,items))\n",
    "        overlapping_index[names].append(over_lapping)"
   ]
  },
  {
   "cell_type": "code",
   "execution_count": 35,
   "metadata": {
    "collapsed": false
   },
   "outputs": [],
   "source": [
    "overlappingIndex={}\n",
    "for ii, names in enumerate(channelList):\n",
    "    overlapping_index[names]=np.array(overlapping_index[names]);\n",
    "    overlapping_index[names][overlapping_index[names] < 1.]=0\n",
    "    overlappingIndex[names]=[]\n",
    "    for idxes,lines in enumerate(overlapping_index[names]):\n",
    "        if sum((lines == 0).astype(int)-1) !=0:\n",
    "            overlappingIndex[names].append(idxes)"
   ]
  },
  {
   "cell_type": "code",
   "execution_count": 37,
   "metadata": {
    "collapsed": false
   },
   "outputs": [
    {
     "data": {
      "text/plain": [
       "{'C3': array([[  0.      ,   0.      ,   0.      ,   0.      ,   0.      ,\n",
       "           0.      ,   0.      ,   0.      ,   0.      ,   0.      ,\n",
       "           0.      ,   0.      ,   0.      ,   0.      ,   0.      ,\n",
       "           0.      ,   0.      ,   0.      ,   0.      ,   0.      ,\n",
       "           0.      ,   0.      ,   0.      ,   0.      ,   0.      ,\n",
       "           0.      ,   0.      ,   0.      ,   0.      ,   0.      ,\n",
       "           0.      ,   0.      ,   0.      ,   0.      ,   0.      ,\n",
       "           0.      ,   0.      ,   0.      ,   0.      ,  15.431291]]),\n",
       " 'C4': array([[ 0.      ,  0.      ,  0.      ,  0.      ,  0.      ,  0.      ,\n",
       "          0.      ,  0.      ,  0.      ,  0.      ,  0.      ,  0.      ,\n",
       "          0.      ,  0.      ,  0.      ,  0.      ,  0.      ,  0.      ,\n",
       "          0.      ,  0.      ,  0.      ,  0.      ,  0.      ,  0.      ,\n",
       "          0.      ,  0.      ,  0.      ,  0.      ,  0.      ,  0.      ,\n",
       "          0.      ,  0.      ,  0.      ,  0.      ,  0.      ,  0.      ,\n",
       "          0.      ,  0.      ,  0.      ,  8.431291]]),\n",
       " 'F3': array([[  0.      ,   0.      ,   0.      ,   0.      ,   0.      ,\n",
       "           0.      ,   0.      ,   0.      ,   0.      ,   0.      ,\n",
       "           0.      ,   0.      ,   0.      ,   0.      ,   0.      ,\n",
       "           0.      ,   0.      ,   0.      ,   0.      ,   0.      ,\n",
       "           0.      ,   0.      ,   0.      ,   0.      ,   0.      ,\n",
       "           0.      ,   0.      ,   0.      ,   0.      ,   0.      ,\n",
       "           0.      ,   0.      ,   0.      ,   0.      ,   0.      ,\n",
       "           0.      ,   0.      ,   0.      ,   0.      ,  16.431291]]),\n",
       " 'F4': array([[ 0.      ,  0.      ,  0.      ,  0.      ,  0.      ,  0.      ,\n",
       "          0.      ,  0.      ,  0.      ,  0.      ,  0.      ,  0.      ,\n",
       "          0.      ,  0.      ,  0.      ,  0.      ,  0.      ,  0.      ,\n",
       "          0.      ,  0.      ,  0.      ,  0.      ,  0.      ,  0.      ,\n",
       "          0.      ,  0.      ,  0.      ,  0.      ,  0.      ,  0.      ,\n",
       "          0.      ,  0.      ,  0.      ,  0.      ,  0.      ,  0.      ,\n",
       "          0.      ,  0.      ,  0.      ,  8.431291]]),\n",
       " 'O1': array([[ 0.      ,  0.      ,  0.      ,  0.      ,  0.      ,  0.      ,\n",
       "          0.      ,  0.      ,  0.      ,  0.      ,  0.      ,  0.      ,\n",
       "          0.      ,  0.      ,  0.      ,  0.      ,  0.      ,  0.      ,\n",
       "          0.      ,  0.      ,  0.      ,  0.      ,  0.      ,  0.      ,\n",
       "          0.      ,  0.      ,  0.      ,  0.      ,  0.      ,  0.      ,\n",
       "          0.      ,  0.      ,  0.      ,  0.      ,  0.      ,  0.      ,\n",
       "          0.      ,  0.      ,  0.      ,  8.431291]]),\n",
       " 'O2': array([[ 0.      ,  0.      ,  0.      ,  0.      ,  0.      ,  0.      ,\n",
       "          0.      ,  0.      ,  0.      ,  0.      ,  0.      ,  0.      ,\n",
       "          0.      ,  0.      ,  0.      ,  0.      ,  0.      ,  0.      ,\n",
       "          0.      ,  0.      ,  0.      ,  0.      ,  0.      ,  0.      ,\n",
       "          0.      ,  0.      ,  0.      ,  0.      ,  0.      ,  0.      ,\n",
       "          0.      ,  0.      ,  0.      ,  0.      ,  0.      ,  0.      ,\n",
       "          0.      ,  0.      ,  0.      ,  8.431291]])}"
      ]
     },
     "execution_count": 37,
     "metadata": {},
     "output_type": "execute_result"
    }
   ],
   "source": [
    "overlapping_index"
   ]
  },
  {
   "cell_type": "code",
   "execution_count": null,
   "metadata": {
    "collapsed": true
   },
   "outputs": [],
   "source": []
  }
 ],
 "metadata": {
  "celltoolbar": "Raw Cell Format",
  "kernelspec": {
   "display_name": "Python 3",
   "language": "python",
   "name": "python3"
  },
  "language_info": {
   "codemirror_mode": {
    "name": "ipython",
    "version": 3
   },
   "file_extension": ".py",
   "mimetype": "text/x-python",
   "name": "python",
   "nbconvert_exporter": "python",
   "pygments_lexer": "ipython3",
   "version": "3.5.1"
  }
 },
 "nbformat": 4,
 "nbformat_minor": 0
}
