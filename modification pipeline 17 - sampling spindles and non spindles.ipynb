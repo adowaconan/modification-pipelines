{
 "cells": [
  {
   "cell_type": "code",
   "execution_count": 51,
   "metadata": {
    "collapsed": false
   },
   "outputs": [
    {
     "name": "stdout",
     "output_type": "stream",
     "text": [
      "['64chlocs.elp', 'label_extraction.npy', 'label_extraction.pkl', 'pineline 13.csv', 'pipe line 10', 'pipe line 10.csv', 'pipeline 13.pickle', 's5d2_final.edf', 's5d2_final_annotations.txt', 's6n2_final.edf', 's6n2_final_annotations.txt', 'single subject prediction.p', 'single subject.p', 'Sleep Stage Scoring Criteria.docx', 'spindle training.p', 'suj10_d1final.edf', 'suj10_d1final_annotations.txt', 'suj10_d2final.edf', 'suj10_d2final_annotations.txt', 'suj13_l2nap_day2 edited.edf', 'suj13_l2nap_day2 edited1.edf', 'suj13_l2nap_day2 edited1_annotations.txt', 'suj13_l2nap_day2 edited_annotations.txt', 'suj13_l2nap_day2 edited_C3.txt', 'suj13_l2nap_day2 edited_C4.txt', 'suj13_l2nap_day2 edited_F3.txt', 'suj13_l2nap_day2 edited_F4.txt', 'suj13_l2nap_day2 edited_O1.txt', 'suj13_l2nap_day2 edited_O2.txt', 'suj5_d1final.edf', 'suj5_d1final_annotations.txt', 'suj6_d1final.edf', 'suj6_d1final_annotations.txt', 'suj8_d1final.edf', 'suj8_d1final_annotations.txt', 'suj8_d2final.edf', 'suj8_d2final_annotations.txt', 'suj9_d1final.edf', 'suj9_d1final_annotations.txt', 'suj9_d2final.edf', 'suj9_d2final_annotations.txt', 'testing-montage-2.mtg', 'Training Data Frame', 'training data.p']\n"
     ]
    }
   ],
   "source": [
    "import eegPinelineDesign\n",
    "import numpy as np\n",
    "import random\n",
    "import mne\n",
    "import matplotlib.pyplot as plt\n",
    "%matplotlib inline\n",
    "plt.style.use('ggplot')\n",
    "import warnings\n",
    "warnings.filterwarnings(\"ignore\")\n",
    "import os\n",
    "import pandas as pd\n",
    "import re\n",
    "import json\n",
    "import scipy\n",
    "from sklearn.linear_model import LogisticRegression\n",
    "from sklearn.decomposition import PCA,FastICA\n",
    "from sklearn.pipeline import Pipeline,make_pipeline\n",
    "from sklearn.grid_search import GridSearchCV\n",
    "from sklearn.cross_validation import cross_val_score\n",
    "from scipy.fftpack import fft,ifft\n",
    "import math\n",
    "from sklearn.metrics import classification_report,accuracy_score,confusion_matrix\n",
    "from scipy.signal import spectrogram,find_peaks_cwt,butter, lfilter\n",
    "from mne.preprocessing.ica import ICA\n",
    "from sklearn.metrics import precision_recall_curve\n",
    "from sklearn.metrics import average_precision_score\n",
    "from sklearn.cross_validation import train_test_split,ShuffleSplit\n",
    "from sklearn.preprocessing import label_binarize,scale\n",
    "from sklearn.multiclass import OneVsRestClassifier\n",
    "from sklearn.svm import SVC\n",
    "from sklearn.preprocessing import label_binarize,StandardScaler\n",
    "eegPinelineDesign.change_file_directory('C:/Users/ning/Downloads/training set')\n",
    "EDFfiles, Annotationfiles = eegPinelineDesign.split_type_of_files()\n",
    "from eegPinelineDesign import CenterAtPeakOfWindow,Threshold_test,spindle_overlapping_test,used_windows_check,cut_segments"
   ]
  },
  {
   "cell_type": "code",
   "execution_count": 2,
   "metadata": {
    "collapsed": false,
    "scrolled": true
   },
   "outputs": [
    {
     "name": "stdout",
     "output_type": "stream",
     "text": [
      "18\n"
     ]
    },
    {
     "ename": "KeyboardInterrupt",
     "evalue": "",
     "output_type": "error",
     "traceback": [
      "\u001b[1;31m---------------------------------------------------------------------------\u001b[0m",
      "\u001b[1;31mKeyboardInterrupt\u001b[0m                         Traceback (most recent call last)",
      "\u001b[1;32mc:\\Anaconda3\\lib\\site-packages\\ipykernel\\kernelbase.py\u001b[0m in \u001b[0;36m_input_request\u001b[1;34m(self, prompt, ident, parent, password)\u001b[0m\n\u001b[0;32m    701\u001b[0m             \u001b[1;32mtry\u001b[0m\u001b[1;33m:\u001b[0m\u001b[1;33m\u001b[0m\u001b[0m\n\u001b[1;32m--> 702\u001b[1;33m                 \u001b[0mident\u001b[0m\u001b[1;33m,\u001b[0m \u001b[0mreply\u001b[0m \u001b[1;33m=\u001b[0m \u001b[0mself\u001b[0m\u001b[1;33m.\u001b[0m\u001b[0msession\u001b[0m\u001b[1;33m.\u001b[0m\u001b[0mrecv\u001b[0m\u001b[1;33m(\u001b[0m\u001b[0mself\u001b[0m\u001b[1;33m.\u001b[0m\u001b[0mstdin_socket\u001b[0m\u001b[1;33m,\u001b[0m \u001b[1;36m0\u001b[0m\u001b[1;33m)\u001b[0m\u001b[1;33m\u001b[0m\u001b[0m\n\u001b[0m\u001b[0;32m    703\u001b[0m             \u001b[1;32mexcept\u001b[0m \u001b[0mException\u001b[0m\u001b[1;33m:\u001b[0m\u001b[1;33m\u001b[0m\u001b[0m\n",
      "\u001b[1;32mc:\\Anaconda3\\lib\\site-packages\\jupyter_client\\session.py\u001b[0m in \u001b[0;36mrecv\u001b[1;34m(self, socket, mode, content, copy)\u001b[0m\n\u001b[0;32m    730\u001b[0m         \u001b[1;32mtry\u001b[0m\u001b[1;33m:\u001b[0m\u001b[1;33m\u001b[0m\u001b[0m\n\u001b[1;32m--> 731\u001b[1;33m             \u001b[0mmsg_list\u001b[0m \u001b[1;33m=\u001b[0m \u001b[0msocket\u001b[0m\u001b[1;33m.\u001b[0m\u001b[0mrecv_multipart\u001b[0m\u001b[1;33m(\u001b[0m\u001b[0mmode\u001b[0m\u001b[1;33m,\u001b[0m \u001b[0mcopy\u001b[0m\u001b[1;33m=\u001b[0m\u001b[0mcopy\u001b[0m\u001b[1;33m)\u001b[0m\u001b[1;33m\u001b[0m\u001b[0m\n\u001b[0m\u001b[0;32m    732\u001b[0m         \u001b[1;32mexcept\u001b[0m \u001b[0mzmq\u001b[0m\u001b[1;33m.\u001b[0m\u001b[0mZMQError\u001b[0m \u001b[1;32mas\u001b[0m \u001b[0me\u001b[0m\u001b[1;33m:\u001b[0m\u001b[1;33m\u001b[0m\u001b[0m\n",
      "\u001b[1;32mc:\\Anaconda3\\lib\\site-packages\\zmq\\sugar\\socket.py\u001b[0m in \u001b[0;36mrecv_multipart\u001b[1;34m(self, flags, copy, track)\u001b[0m\n\u001b[0;32m    357\u001b[0m         \"\"\"\n\u001b[1;32m--> 358\u001b[1;33m         \u001b[0mparts\u001b[0m \u001b[1;33m=\u001b[0m \u001b[1;33m[\u001b[0m\u001b[0mself\u001b[0m\u001b[1;33m.\u001b[0m\u001b[0mrecv\u001b[0m\u001b[1;33m(\u001b[0m\u001b[0mflags\u001b[0m\u001b[1;33m,\u001b[0m \u001b[0mcopy\u001b[0m\u001b[1;33m=\u001b[0m\u001b[0mcopy\u001b[0m\u001b[1;33m,\u001b[0m \u001b[0mtrack\u001b[0m\u001b[1;33m=\u001b[0m\u001b[0mtrack\u001b[0m\u001b[1;33m)\u001b[0m\u001b[1;33m]\u001b[0m\u001b[1;33m\u001b[0m\u001b[0m\n\u001b[0m\u001b[0;32m    359\u001b[0m         \u001b[1;31m# have first part already, only loop while more to receive\u001b[0m\u001b[1;33m\u001b[0m\u001b[1;33m\u001b[0m\u001b[0m\n",
      "\u001b[1;32mzmq/backend/cython/socket.pyx\u001b[0m in \u001b[0;36mzmq.backend.cython.socket.Socket.recv (zmq\\backend\\cython\\socket.c:6971)\u001b[1;34m()\u001b[0m\n",
      "\u001b[1;32mzmq/backend/cython/socket.pyx\u001b[0m in \u001b[0;36mzmq.backend.cython.socket.Socket.recv (zmq\\backend\\cython\\socket.c:6763)\u001b[1;34m()\u001b[0m\n",
      "\u001b[1;32mzmq/backend/cython/socket.pyx\u001b[0m in \u001b[0;36mzmq.backend.cython.socket._recv_copy (zmq\\backend\\cython\\socket.c:1931)\u001b[1;34m()\u001b[0m\n",
      "\u001b[1;32mc:\\Anaconda3\\lib\\site-packages\\zmq\\backend\\cython\\checkrc.pxd\u001b[0m in \u001b[0;36mzmq.backend.cython.checkrc._check_rc (zmq\\backend\\cython\\socket.c:7222)\u001b[1;34m()\u001b[0m\n",
      "\u001b[1;31mKeyboardInterrupt\u001b[0m: ",
      "\nDuring handling of the above exception, another exception occurred:\n",
      "\u001b[1;31mKeyboardInterrupt\u001b[0m                         Traceback (most recent call last)",
      "\u001b[1;32m<ipython-input-2-c65e61b6e3e4>\u001b[0m in \u001b[0;36m<module>\u001b[1;34m()\u001b[0m\n\u001b[0;32m      2\u001b[0m \u001b[1;33m\u001b[0m\u001b[0m\n\u001b[0;32m      3\u001b[0m \u001b[1;33m\u001b[0m\u001b[0m\n\u001b[1;32m----> 4\u001b[1;33m \u001b[0mnum\u001b[0m\u001b[1;33m=\u001b[0m\u001b[0mint\u001b[0m\u001b[1;33m(\u001b[0m\u001b[0minput\u001b[0m\u001b[1;33m(\u001b[0m\u001b[1;33m)\u001b[0m\u001b[1;33m)\u001b[0m\u001b[1;33m\u001b[0m\u001b[0m\n\u001b[0m\u001b[0;32m      5\u001b[0m \u001b[0mspindle\u001b[0m\u001b[1;33m=\u001b[0m\u001b[1;33m{\u001b[0m\u001b[1;33m}\u001b[0m\u001b[1;33m;\u001b[0m\u001b[0mnonspindle\u001b[0m\u001b[1;33m=\u001b[0m\u001b[1;33m{\u001b[0m\u001b[1;33m}\u001b[0m\u001b[1;33m;\u001b[0m\u001b[0mtime_spindle\u001b[0m\u001b[1;33m=\u001b[0m\u001b[1;33m{\u001b[0m\u001b[1;33m}\u001b[0m\u001b[1;33m;\u001b[0m\u001b[0mtime_nonspindle\u001b[0m\u001b[1;33m=\u001b[0m\u001b[1;33m{\u001b[0m\u001b[1;33m}\u001b[0m\u001b[1;33m\u001b[0m\u001b[0m\n\u001b[0;32m      6\u001b[0m \u001b[0mfile_to_read\u001b[0m\u001b[1;33m,\u001b[0m\u001b[0mfileName\u001b[0m\u001b[1;33m=\u001b[0m\u001b[0meegPinelineDesign\u001b[0m\u001b[1;33m.\u001b[0m\u001b[0mpick_sample_file\u001b[0m\u001b[1;33m(\u001b[0m\u001b[0mEDFfiles\u001b[0m\u001b[1;33m,\u001b[0m\u001b[0mn\u001b[0m\u001b[1;33m=\u001b[0m\u001b[0mnum\u001b[0m\u001b[1;33m)\u001b[0m\u001b[1;33m\u001b[0m\u001b[0m\n",
      "\u001b[1;32mc:\\Anaconda3\\lib\\site-packages\\ipykernel\\kernelbase.py\u001b[0m in \u001b[0;36mraw_input\u001b[1;34m(self, prompt)\u001b[0m\n\u001b[0;32m    675\u001b[0m             \u001b[0mself\u001b[0m\u001b[1;33m.\u001b[0m\u001b[0m_parent_ident\u001b[0m\u001b[1;33m,\u001b[0m\u001b[1;33m\u001b[0m\u001b[0m\n\u001b[0;32m    676\u001b[0m             \u001b[0mself\u001b[0m\u001b[1;33m.\u001b[0m\u001b[0m_parent_header\u001b[0m\u001b[1;33m,\u001b[0m\u001b[1;33m\u001b[0m\u001b[0m\n\u001b[1;32m--> 677\u001b[1;33m             \u001b[0mpassword\u001b[0m\u001b[1;33m=\u001b[0m\u001b[1;32mFalse\u001b[0m\u001b[1;33m,\u001b[0m\u001b[1;33m\u001b[0m\u001b[0m\n\u001b[0m\u001b[0;32m    678\u001b[0m         )\n\u001b[0;32m    679\u001b[0m \u001b[1;33m\u001b[0m\u001b[0m\n",
      "\u001b[1;32mc:\\Anaconda3\\lib\\site-packages\\ipykernel\\kernelbase.py\u001b[0m in \u001b[0;36m_input_request\u001b[1;34m(self, prompt, ident, parent, password)\u001b[0m\n\u001b[0;32m    705\u001b[0m             \u001b[1;32mexcept\u001b[0m \u001b[0mKeyboardInterrupt\u001b[0m\u001b[1;33m:\u001b[0m\u001b[1;33m\u001b[0m\u001b[0m\n\u001b[0;32m    706\u001b[0m                 \u001b[1;31m# re-raise KeyboardInterrupt, to truncate traceback\u001b[0m\u001b[1;33m\u001b[0m\u001b[1;33m\u001b[0m\u001b[0m\n\u001b[1;32m--> 707\u001b[1;33m                 \u001b[1;32mraise\u001b[0m \u001b[0mKeyboardInterrupt\u001b[0m\u001b[1;33m\u001b[0m\u001b[0m\n\u001b[0m\u001b[0;32m    708\u001b[0m             \u001b[1;32melse\u001b[0m\u001b[1;33m:\u001b[0m\u001b[1;33m\u001b[0m\u001b[0m\n\u001b[0;32m    709\u001b[0m                 \u001b[1;32mbreak\u001b[0m\u001b[1;33m\u001b[0m\u001b[0m\n",
      "\u001b[1;31mKeyboardInterrupt\u001b[0m: "
     ]
    }
   ],
   "source": [
    "from eegPinelineDesign import CenterAtPeakOfWindow,Threshold_test,spindle_overlapping_test,used_windows_check,cut_segments\n",
    "\n",
    "\n",
    "num=int(input())\n",
    "spindle={};nonspindle={};time_spindle={};time_nonspindle={}\n",
    "file_to_read,fileName=eegPinelineDesign.pick_sample_file(EDFfiles,n=num)\n",
    "channelList = ['F3','F4','C3','C4','O1','O2','ROC','LOC']\n",
    "raw = eegPinelineDesign.load_data(file_to_read,channelList,None, 100)#low pass data\n",
    "raw_alpha=eegPinelineDesign.load_data(file_to_read,channelList,8, 12)#alpha pass\n",
    "raw_spindle=eegPinelineDesign.load_data(file_to_read,channelList,11, 16)#spindle pass\n",
    "raw_muscle=eegPinelineDesign.load_data(file_to_read,channelList,30, 40)#\n",
    "annotation_to_read = [x for x in Annotationfiles if fileName in x]\n",
    "file = pd.read_csv(annotation_to_read[0])\n",
    "labelFind = re.compile('spindle',eegPinelineDesign.re.IGNORECASE)\n",
    "spindles=[]# take existed annotations\n",
    "for row in file.iterrows():\n",
    "    currentEvent = row[1][-1]\n",
    "    if labelFind.search(currentEvent):\n",
    "        spindles.append(row[1][0])# time of marker\n",
    "print('finish spindle annotation')\n",
    "\n",
    "channelList=['F3','F4','C3','C4','O1','O2']\n",
    "plt.figure(figsize=(20,20))\n",
    "used_time_windows=[]\n",
    "time_spindle[fileName]={};time_nonspindle[fileName]={}\n",
    "spindle[fileName]={};nonspindle[fileName]={}\n",
    "for channelID, names in enumerate(channelList):\n",
    "    time_spindle[fileName][names]=[];time_nonspindle[fileName][names]=[]\n",
    "    spindle[fileName][names]=[];nonspindle[fileName][names]=[]\n",
    "    print(names)\n",
    "    used_time_windows=[]\n",
    "    for items in spindles:\n",
    "        if Threshold_test(items,raw_alpha,raw_spindle,raw_muscle,channelID):\n",
    "            try:\n",
    "                centered_marker=CenterAtPeakOfWindow(items,2,raw_spindle,channelID)\n",
    "                Segment,TT = cut_segments(raw_spindle,centered_marker,channelID)\n",
    "                spindle[fileName][names].append(Segment)\n",
    "                print(fileName,names,centered_marker,'spindle')\n",
    "                #plt.plot(TT,Segment)\n",
    "                #plt.clf()\n",
    "                for max_iteration in range(1000):\n",
    "                    startPoint=6;endPoint=raw.last_samp/1000-6\n",
    "                    start,stop=raw.time_as_index([startPoint,endPoint])\n",
    "                    S,T = raw[channelID,start:stop]\n",
    "                    timePoint=np.random.choice(T,1)\n",
    "                    if (Threshold_test(timePoint,raw_alpha,raw_spindle,raw_muscle,channelID)) and (spindle_overlapping_test(spindles,timePoint,1.5)) and (used_windows_check(timePoint,used_time_windows,1.5)):\n",
    "                        Segment,_=cut_segments(raw_spindle,timePoint,channelID)\n",
    "                        nonspindle[fileName][names].append(Segment)\n",
    "                        used_time_windows.append([timePoint-1.5,timePoint+1.5])\n",
    "                        print(timePoint,'non spindle')\n",
    "                        break\n",
    "                    else:\n",
    "                        #print('no non spindle left')\n",
    "                        pass\n",
    "            except:\n",
    "                print('error')\n",
    "        else:\n",
    "            pass"
   ]
  },
  {
   "cell_type": "code",
   "execution_count": null,
   "metadata": {
    "collapsed": false
   },
   "outputs": [],
   "source": [
    "result={'spindle':spindle,'non spindle':nonspindle,'spindle time':time_spindle,'nonspindle time':time_nonspindle}\n",
    "import pickle\n",
    "with open('single subject.p','wb') as handle:\n",
    "    pickle.dump(result,handle)"
   ]
  },
  {
   "cell_type": "code",
   "execution_count": 3,
   "metadata": {
    "collapsed": true
   },
   "outputs": [],
   "source": [
    "import pickle\n",
    "with open('single subject.p','rb') as handle:\n",
    "    result=pickle.load(handle)"
   ]
  },
  {
   "cell_type": "code",
   "execution_count": 4,
   "metadata": {
    "collapsed": false
   },
   "outputs": [],
   "source": [
    "fileName=list(result['spindle'].keys())[0]"
   ]
  },
  {
   "cell_type": "code",
   "execution_count": 5,
   "metadata": {
    "collapsed": false
   },
   "outputs": [
    {
     "name": "stdout",
     "output_type": "stream",
     "text": [
      "(382, 3000) (382,)\n"
     ]
    }
   ],
   "source": [
    "channelList=['F3','F4','C3','C4','O1','O2']\n",
    "X = [];Y=[]\n",
    "for names in channelList:\n",
    "    for item in result['spindle'][fileName][names]:\n",
    "        if item.shape[1] == 3000:\n",
    "\n",
    "            X.append(item[0,:])\n",
    "            Y.append(1)\n",
    "    for item in result['non spindle'][fileName][names]:\n",
    "        if item.shape[1] == 3000:\n",
    "            X.append(item[0,:])\n",
    "            Y.append(0)\n",
    "\n",
    "X=np.array(X);Y=np.array(Y)\n",
    "print(X.shape,Y.shape)"
   ]
  },
  {
   "cell_type": "code",
   "execution_count": 6,
   "metadata": {
    "collapsed": false
   },
   "outputs": [
    {
     "name": "stdout",
     "output_type": "stream",
     "text": [
      "[1, 0, 1, 1, 0, 0, 0, 0, 1, 0, 0, 0, 1, 1, 0, 0, 1, 1, 1, 1, 0, 1, 1, 0, 0, 0, 0, 0, 0, 1, 1, 0, 1, 0, 1, 1, 0, 0, 1, 1, 0, 1, 0, 1, 1, 1, 0, 0, 0, 1, 0, 1, 0, 1, 0, 0, 0, 1, 0, 1, 1, 0, 1, 1, 0, 0, 0, 1, 1, 0, 0, 0, 0, 0, 1, 0, 0, 0, 1, 1, 1, 1, 0, 1, 1, 1, 1, 1, 1, 0, 0, 0, 1, 0, 0, 1, 0, 1, 0, 0, 1, 1, 0, 0, 1, 1, 1, 0, 0, 0, 0, 0, 0, 0, 1, 0, 0, 0, 0, 1, 1, 0, 1, 0, 0, 1, 0, 1, 1, 1, 1, 0, 0, 0, 0, 1, 1, 0, 0, 1, 0, 1, 1, 1, 0, 1, 1, 1, 1, 1, 1, 0, 1, 1, 0, 1, 1, 0, 0, 0, 0, 0, 0, 1, 0, 1, 0, 1, 1, 1, 0, 0, 1, 0, 0, 1, 1, 1, 0, 1, 1, 0, 0, 0, 0, 0, 1, 0, 0, 0, 1, 1, 1, 1, 0, 0, 1, 0, 1, 1, 0, 1, 0, 1, 0, 0, 1, 0, 1, 0, 1, 1, 1, 0, 0, 1, 0, 1, 0, 1, 1, 0, 0, 1, 0, 0, 0, 0, 0, 0, 1, 1, 1, 1, 0, 0, 0, 1, 1, 0, 0, 0, 0, 0, 1, 0, 1, 1, 1, 0, 1, 1, 0, 0, 1, 1, 1, 0, 0, 0, 0, 0, 1, 1, 1, 0, 1, 1, 0, 1, 0, 1, 1, 1, 0, 0, 1, 0, 1, 0, 1, 1, 1, 0, 0, 1, 1, 1, 1, 1, 0, 0, 1, 0, 0, 1, 1, 0, 0, 1, 1, 0, 0, 1, 0]\n"
     ]
    }
   ],
   "source": [
    "idx=np.arange(X.shape[0])\n",
    "GG=np.random.choice(tuple(idx),len(idx),replace=False)\n",
    "\n",
    "XX=[];YY=[]\n",
    "for idxx in GG:\n",
    "    XX.append(X[idxx])\n",
    "    YY.append(Y[idxx])\n",
    "\n",
    "X_train, X_test, y_train, y_test = train_test_split(XX, YY, test_size=0.20)\n",
    "\n",
    "print(y_train)"
   ]
  },
  {
   "cell_type": "code",
   "execution_count": 7,
   "metadata": {
    "collapsed": false
   },
   "outputs": [
    {
     "name": "stdout",
     "output_type": "stream",
     "text": [
      "             precision    recall  f1-score   support\n",
      "\n",
      "          0       1.00      0.44      0.61        77\n",
      "          1       0.00      0.00      0.00         0\n",
      "\n",
      "avg / total       1.00      0.44      0.61        77\n",
      "\n",
      "0.514754098361\n"
     ]
    }
   ],
   "source": [
    "clf =LogisticRegression(penalty='l2',C=1,tol=10e-9,fit_intercept=True,solver='liblinear',\n",
    "                                             max_iter=5e8,multi_class='ovr',n_jobs=-1)\n",
    "\n",
    "\n",
    "\n",
    "clf.fit(X_train,y_train)\n",
    "print(classification_report(clf.predict(X_test),y_test))\n",
    "print(clf.score(X_train,y_train))"
   ]
  },
  {
   "cell_type": "code",
   "execution_count": 8,
   "metadata": {
    "collapsed": false
   },
   "outputs": [
    {
     "name": "stdout",
     "output_type": "stream",
     "text": [
      "             precision    recall  f1-score   support\n",
      "\n",
      "          0       1.00      0.44      0.61        77\n",
      "          1       0.00      0.00      0.00         0\n",
      "\n",
      "avg / total       1.00      0.44      0.61        77\n",
      "\n",
      "0.514754098361\n"
     ]
    }
   ],
   "source": [
    "clf = SVC(C=1,kernel='rbf',tol=10e-9,max_iter=5e8)\n",
    "clf.fit(X_train,y_train)\n",
    "print(classification_report(clf.predict(X_test),y_test))\n",
    "print(clf.score(X_train,y_train))"
   ]
  },
  {
   "cell_type": "code",
   "execution_count": 9,
   "metadata": {
    "collapsed": false
   },
   "outputs": [],
   "source": [
    "pca = PCA(n_components=.99,whiten=True)\n",
    "X_pca=pca.fit_transform(X)"
   ]
  },
  {
   "cell_type": "code",
   "execution_count": 10,
   "metadata": {
    "collapsed": false
   },
   "outputs": [
    {
     "name": "stdout",
     "output_type": "stream",
     "text": [
      "             precision    recall  f1-score   support\n",
      "\n",
      "          0       0.49      0.67      0.56        30\n",
      "          1       0.72      0.55      0.63        47\n",
      "\n",
      "avg / total       0.63      0.60      0.60        77\n",
      "\n",
      "0.659016393443\n"
     ]
    }
   ],
   "source": [
    "X_train, X_test, y_train, y_test = train_test_split(X_pca, YY, test_size=0.20)\n",
    "\n",
    "clf =LogisticRegression(penalty='l2',C=1,tol=10e-9,fit_intercept=True,solver='liblinear',\n",
    "                                             max_iter=5e8,multi_class='ovr',n_jobs=-1)\n",
    "\n",
    "\n",
    "\n",
    "clf.fit(X_train,y_train)\n",
    "print(classification_report(clf.predict(X_test),y_test))\n",
    "print(clf.score(X_train,y_train))"
   ]
  },
  {
   "cell_type": "code",
   "execution_count": 11,
   "metadata": {
    "collapsed": false
   },
   "outputs": [
    {
     "name": "stdout",
     "output_type": "stream",
     "text": [
      "             precision    recall  f1-score   support\n",
      "\n",
      "          0       0.41      0.68      0.52        25\n",
      "          1       0.78      0.54      0.64        52\n",
      "\n",
      "avg / total       0.66      0.58      0.60        77\n",
      "\n",
      "0.822950819672\n"
     ]
    }
   ],
   "source": [
    "clf = SVC(C=1,kernel='rbf',tol=10e-9,max_iter=5e8)\n",
    "clf.fit(X_train,y_train)\n",
    "print(classification_report(clf.predict(X_test),y_test))\n",
    "print(clf.score(X_train,y_train))"
   ]
  },
  {
   "cell_type": "code",
   "execution_count": 12,
   "metadata": {
    "collapsed": false
   },
   "outputs": [
    {
     "name": "stdout",
     "output_type": "stream",
     "text": [
      "[137]\n",
      "1\n"
     ]
    },
    {
     "data": {
      "text/plain": [
       "[<matplotlib.lines.Line2D at 0x16ca9a5c898>]"
      ]
     },
     "execution_count": 12,
     "metadata": {},
     "output_type": "execute_result"
    },
    {
     "data": {
      "image/png": "[encoded data removed]",
      "text/plain": [
       "<matplotlib.figure.Figure at 0x16ca7cdca58>"
      ]
     },
     "metadata": {},
     "output_type": "display_data"
    }
   ],
   "source": [
    "num=np.random.randint(0,X.shape[0],size=1)\n",
    "print(num)\n",
    "t = np.linspace(0,3,X.shape[1])\n",
    "print(YY[num])\n",
    "plt.plot(t,XX[num])"
   ]
  },
  {
   "cell_type": "code",
   "execution_count": 13,
   "metadata": {
    "collapsed": false
   },
   "outputs": [],
   "source": [
    "from sklearn.preprocessing import normalize"
   ]
  },
  {
   "cell_type": "code",
   "execution_count": 14,
   "metadata": {
    "collapsed": true
   },
   "outputs": [],
   "source": [
    "normal_X = normalize(XX)"
   ]
  },
  {
   "cell_type": "code",
   "execution_count": 27,
   "metadata": {
    "collapsed": false
   },
   "outputs": [
    {
     "name": "stdout",
     "output_type": "stream",
     "text": [
      "logistic,1 fold, 80/20 train/test slipt\n",
      "             precision    recall  f1-score   support\n",
      "\n",
      "          0       0.95      1.00      0.97        36\n",
      "          1       1.00      0.95      0.97        41\n",
      "\n",
      "avg / total       0.98      0.97      0.97        77\n",
      "\n",
      "within training data set 0.954098360656\n"
     ]
    }
   ],
   "source": [
    "X_train, X_test, y_train, y_test = train_test_split(normal_X, YY, test_size=0.20)\n",
    "\n",
    "#print(y_train)\n",
    "\n",
    "clf =LogisticRegression(penalty='l2',C=.1,tol=10e-9,fit_intercept=True,solver='liblinear',\n",
    "                                             max_iter=10e7,multi_class='ovr',n_jobs=-1)\n",
    "\n",
    "\n",
    "\n",
    "clf.fit(X_train,y_train)\n",
    "print('logistic,1 fold, 80/20 train/test slipt')\n",
    "print(classification_report(clf.predict(X_test),y_test))\n",
    "print('within training data set',clf.score(X_train,y_train))"
   ]
  },
  {
   "cell_type": "code",
   "execution_count": null,
   "metadata": {
    "collapsed": false
   },
   "outputs": [],
   "source": [
    "clf =LogisticRegression(penalty='l2',C=.1,tol=10e-9,fit_intercept=True,solver='liblinear',\n",
    "                                             max_iter=10e7,multi_class='ovr',n_jobs=-1)\n",
    "scores = cross_val_score(clf, normal_X,YY,cv=10)\n",
    "#print(scores)\n",
    "print(scores.mean())"
   ]
  },
  {
   "cell_type": "code",
   "execution_count": null,
   "metadata": {
    "collapsed": false
   },
   "outputs": [],
   "source": [
    "from sklearn.cross_validation import cross_val_predict\n",
    "prediction = cross_val_predict(clf, normal_X,YY,cv=10)\n",
    "print(accuracy_score(YY,prediction))"
   ]
  },
  {
   "cell_type": "code",
   "execution_count": 17,
   "metadata": {
    "collapsed": false
   },
   "outputs": [],
   "source": [
    "a,b,c=np.linalg.svd(normal_X)"
   ]
  },
  {
   "cell_type": "code",
   "execution_count": 18,
   "metadata": {
    "collapsed": false
   },
   "outputs": [
    {
     "data": {
      "text/plain": [
       "[<matplotlib.lines.Line2D at 0x16cab730cc0>]"
      ]
     },
     "execution_count": 18,
     "metadata": {},
     "output_type": "execute_result"
    },
    {
     "data": {
      "image/png": "[encoded data removed]",
      "text/plain": [
       "<matplotlib.figure.Figure at 0x16ca9aa6dd8>"
      ]
     },
     "metadata": {},
     "output_type": "display_data"
    }
   ],
   "source": [
    "plt.figure(figsize=(20,10))\n",
    "plt.subplot(2,1,1)\n",
    "plt.plot(np.arange(len(b)),b,'o',markersize=7)\n",
    "plt.subplot(2,1,2)\n",
    "plt.plot(np.arange(len(b)),np.log(b),'o',markersize=7)"
   ]
  },
  {
   "cell_type": "code",
   "execution_count": 19,
   "metadata": {
    "collapsed": false,
    "scrolled": true
   },
   "outputs": [
    {
     "name": "stdout",
     "output_type": "stream",
     "text": [
      "Extracting edf Parameters from s6n2_final.edf...\n",
      "Setting channel info structure...\n",
      "Creating Raw.info structure...\n",
      "Reading 0 ... 2073999  =      0.000 ...  2073.999 secs...\n",
      "Ready.\n",
      "Fitting ICA to data using 8 channels. \n",
      "Please be patient, this may take some time\n",
      "Inferring max_pca_components from picks.\n",
      "Using all PCA components: 8\n",
      "    Searching for artifacts...\n",
      "    found 2 artifacts by EOG 00\n",
      "    found 1 artifact by skewness\n",
      "    found 1 artifact by kurtosis\n",
      "    found 1 artifact by variance\n",
      "Artifact indices found:\n",
      "    2, 7, 4, 4, 2\n",
      "    Removing duplicate indices...\n",
      "Ready.\n",
      "Transforming to ICA space (8 components)\n",
      "Zeroing out 3 ICA components\n",
      "Band-pass filtering from 11 - 16 Hz\n",
      "Extracting edf Parameters from s6n2_final.edf...\n",
      "Setting channel info structure...\n",
      "Creating Raw.info structure...\n",
      "Reading 0 ... 2073999  =      0.000 ...  2073.999 secs...\n",
      "Ready.\n",
      "Fitting ICA to data using 8 channels. \n",
      "Please be patient, this may take some time\n",
      "Inferring max_pca_components from picks.\n",
      "Using all PCA components: 8\n",
      "    Searching for artifacts...\n",
      "    found 2 artifacts by EOG 00\n",
      "    found 1 artifact by skewness\n",
      "    found 1 artifact by kurtosis\n",
      "    found 1 artifact by variance\n",
      "Artifact indices found:\n",
      "    2, 7, 4, 4, 2\n",
      "    Removing duplicate indices...\n",
      "Ready.\n",
      "Transforming to ICA space (8 components)\n",
      "Zeroing out 3 ICA components\n",
      "Band-pass filtering from 8 - 12 Hz\n",
      "Extracting edf Parameters from s6n2_final.edf...\n",
      "Setting channel info structure...\n",
      "Creating Raw.info structure...\n",
      "Reading 0 ... 2073999  =      0.000 ...  2073.999 secs...\n",
      "Ready.\n",
      "Fitting ICA to data using 8 channels. \n",
      "Please be patient, this may take some time\n",
      "Inferring max_pca_components from picks.\n",
      "Using all PCA components: 8\n",
      "    Searching for artifacts...\n",
      "    found 2 artifacts by EOG 00\n",
      "    found 1 artifact by skewness\n",
      "    found 1 artifact by kurtosis\n",
      "    found 1 artifact by variance\n",
      "Artifact indices found:\n",
      "    2, 7, 4, 4, 2\n",
      "    Removing duplicate indices...\n",
      "Ready.\n",
      "Transforming to ICA space (8 components)\n",
      "Zeroing out 3 ICA components\n",
      "Band-pass filtering from 11 - 16 Hz\n",
      "Extracting edf Parameters from s6n2_final.edf...\n",
      "Setting channel info structure...\n",
      "Creating Raw.info structure...\n",
      "Reading 0 ... 2073999  =      0.000 ...  2073.999 secs...\n",
      "Ready.\n",
      "Fitting ICA to data using 8 channels. \n",
      "Please be patient, this may take some time\n",
      "Inferring max_pca_components from picks.\n",
      "Using all PCA components: 8\n",
      "    Searching for artifacts...\n",
      "    found 2 artifacts by EOG 00\n",
      "    found 1 artifact by skewness\n",
      "    found 1 artifact by kurtosis\n",
      "    found 1 artifact by variance\n",
      "Artifact indices found:\n",
      "    2, 7, 4, 4, 2\n",
      "    Removing duplicate indices...\n",
      "Ready.\n",
      "Transforming to ICA space (8 components)\n",
      "Zeroing out 3 ICA components\n",
      "Band-pass filtering from 30 - 40 Hz\n"
     ]
    }
   ],
   "source": [
    "file_to_read=fileName+'.edf'\n",
    "channelList = ['F3','F4','C3','C4','O1','O2','ROC','LOC']\n",
    "raw_filter = eegPinelineDesign.load_data(file_to_read,channelList,11, 16)\n",
    "raw_alpha=eegPinelineDesign.load_data(file_to_read,channelList,8, 12)#alpha pass\n",
    "raw_spindle=eegPinelineDesign.load_data(file_to_read,channelList,11, 16)#spindle pass\n",
    "raw_muscle=eegPinelineDesign.load_data(file_to_read,channelList,30, 40)#"
   ]
  },
  {
   "cell_type": "code",
   "execution_count": 20,
   "metadata": {
    "collapsed": false
   },
   "outputs": [
    {
     "data": {
      "text/plain": [
       "<RawEDF  |  s6n2_final.edf, n_channels x n_times : 6 x 2074000 (2074.0 sec)>"
      ]
     },
     "execution_count": 20,
     "metadata": {},
     "output_type": "execute_result"
    }
   ],
   "source": [
    "channelList = ['F3','F4','C3','C4','O1','O2']\n",
    "raw_filter.pick_channels(channelList)"
   ]
  },
  {
   "cell_type": "code",
   "execution_count": 33,
   "metadata": {
    "collapsed": false,
    "scrolled": true
   },
   "outputs": [
    {
     "name": "stdout",
     "output_type": "stream",
     "text": [
      "done\n"
     ]
    }
   ],
   "source": [
    "time_label={};resolution = 0.1\n",
    "for ii,names in enumerate(channelList):\n",
    "    time_label[names]=[]\n",
    "    centerPoint = 0+5\n",
    "    while raw_filter.last_samp/1000 - centerPoint > 1.5:\n",
    "        print(centerPoint)\n",
    "        if Threshold_test(centerPoint,raw_alpha,raw_spindle,raw_muscle,ii):\n",
    "            centeredxval = CenterAtPeakOfWindow(centerPoint,2,raw_filter,ii)\n",
    "            tempSegment,timeSpan=cut_segments(raw_filter,centeredxval,ii,windowsize = 1.5)\n",
    "            predictedLabel = clf.predict(tempSegment)\n",
    "            time_label[names].append([centeredxval,predictedLabel])\n",
    "            \n",
    "        \n",
    "        centerPoint += resolution\n",
    "print('done')"
   ]
  },
  {
   "cell_type": "code",
   "execution_count": 50,
   "metadata": {
    "collapsed": false
   },
   "outputs": [
    {
     "name": "stdout",
     "output_type": "stream",
     "text": [
      "[[ 0.30279193  0.69720807]] 3000\n"
     ]
    },
    {
     "data": {
      "image/png": "[encoded data removed]",
      "text/plain": [
       "<matplotlib.figure.Figure at 0x16c813f36d8>"
      ]
     },
     "metadata": {},
     "output_type": "display_data"
    }
   ],
   "source": [
    "timepoint = 1116.5\n",
    "Threshold_test(timepoint,raw_alpha,raw_spindle,raw_muscle,0)\n",
    "tempSegment,timeSpan = cut_segments(raw_filter,timepoint,0,windowsize=1.5)\n",
    "#centeredxval = CenterAtPeakOfWindow(timepoint,2,raw_filter,0)\n",
    "#tempSegment,timeSpan = cut_segments(raw_filter,centeredxval,0,windowsize=1.5)\n",
    "plt.plot(timeSpan,normalize(tempSegment[0,:])[0,:])\n",
    "print(clf.predict_proba(normalize(tempSegment[0,:])),len(tempSegment[0,:]))"
   ]
  },
  {
   "cell_type": "code",
   "execution_count": 31,
   "metadata": {
    "collapsed": true
   },
   "outputs": [],
   "source": [
    "annotation_to_read = [x for x in Annotationfiles if fileName in x]\n",
    "file = pd.read_csv(annotation_to_read[0])\n",
    "labelFind = re.compile('spindle',eegPinelineDesign.re.IGNORECASE)\n",
    "spindles=[]# take existed annotations\n",
    "for row in file.iterrows():\n",
    "    currentEvent = row[1][-1]\n",
    "    if labelFind.search(currentEvent):\n",
    "        spindles.append(row[1][0])# time of marker"
   ]
  },
  {
   "cell_type": "code",
   "execution_count": 32,
   "metadata": {
    "collapsed": false
   },
   "outputs": [
    {
     "name": "stdout",
     "output_type": "stream",
     "text": [
      "[462.785, 478.093, 571.373, 629.202, 639.38, 657.044, 1106.309, 1116.739, 1127.701, 1134.991, 1141.804, 1161.514, 1166.309, 1169.505, 1175.533, 1176.907, 1188.514, 1235.729, 1240.86, 1260.71, 1265.393, 1273.103, 1297.019, 1302.682, 1322.253, 1342.944, 1346.309, 1353.514, 1355.533, 1357.664, 1359.935271, 1364.645, 1373.337, 1381.467, 1390.131, 1423.187, 1426.524]\n"
     ]
    }
   ],
   "source": [
    "print(spindles)"
   ]
  },
  {
   "cell_type": "code",
   "execution_count": 35,
   "metadata": {
    "collapsed": true
   },
   "outputs": [],
   "source": [
    "with open('single subject prediction.p','wb') as handle:\n",
    "    pickle.dump(time_label,handle)"
   ]
  },
  {
   "cell_type": "code",
   "execution_count": 47,
   "metadata": {
    "collapsed": false
   },
   "outputs": [
    {
     "data": {
      "text/plain": [
       "(1, 3000)"
      ]
     },
     "execution_count": 47,
     "metadata": {},
     "output_type": "execute_result"
    }
   ],
   "source": [
    "normalize(tempSegment[0,:]).shape"
   ]
  },
  {
   "cell_type": "code",
   "execution_count": 57,
   "metadata": {
    "collapsed": true
   },
   "outputs": [],
   "source": [
    "with open('single subject prediction.p','rb') as handle:\n",
    "    time_label=pickle.load(handle)"
   ]
  },
  {
   "cell_type": "code",
   "execution_count": 58,
   "metadata": {
    "collapsed": false
   },
   "outputs": [
    {
     "data": {
      "text/plain": [
       "dict_keys(['C4', 'O2', 'F4', 'O1', 'C3', 'F3'])"
      ]
     },
     "execution_count": 58,
     "metadata": {},
     "output_type": "execute_result"
    }
   ],
   "source": [
    "time_label.keys()"
   ]
  },
  {
   "cell_type": "code",
   "execution_count": 73,
   "metadata": {
    "collapsed": false
   },
   "outputs": [],
   "source": [
    "time_label_matrix = np.zeros([7,len(time_label['C4'])])"
   ]
  },
  {
   "cell_type": "code",
   "execution_count": 74,
   "metadata": {
    "collapsed": true
   },
   "outputs": [],
   "source": [
    "time_label_matrix[0,:]=np.array(time_label['C4'])[:,0]"
   ]
  },
  {
   "cell_type": "code",
   "execution_count": 76,
   "metadata": {
    "collapsed": false
   },
   "outputs": [
    {
     "ename": "ValueError",
     "evalue": "could not broadcast input array from shape (28059) into shape (31002)",
     "output_type": "error",
     "traceback": [
      "\u001b[1;31m---------------------------------------------------------------------------\u001b[0m",
      "\u001b[1;31mValueError\u001b[0m                                Traceback (most recent call last)",
      "\u001b[1;32m<ipython-input-76-e122a39090a3>\u001b[0m in \u001b[0;36m<module>\u001b[1;34m()\u001b[0m\n\u001b[0;32m      1\u001b[0m \u001b[1;32mfor\u001b[0m \u001b[0mii\u001b[0m\u001b[1;33m,\u001b[0m\u001b[0mnames\u001b[0m \u001b[1;32min\u001b[0m \u001b[0menumerate\u001b[0m\u001b[1;33m(\u001b[0m\u001b[0mchannelList\u001b[0m\u001b[1;33m)\u001b[0m\u001b[1;33m:\u001b[0m\u001b[1;33m\u001b[0m\u001b[0m\n\u001b[1;32m----> 2\u001b[1;33m     \u001b[0mtime_label_matrix\u001b[0m\u001b[1;33m[\u001b[0m\u001b[0mii\u001b[0m\u001b[1;33m+\u001b[0m\u001b[1;36m1\u001b[0m\u001b[1;33m,\u001b[0m\u001b[1;33m:\u001b[0m\u001b[1;33m]\u001b[0m\u001b[1;33m=\u001b[0m\u001b[0mnp\u001b[0m\u001b[1;33m.\u001b[0m\u001b[0marray\u001b[0m\u001b[1;33m(\u001b[0m\u001b[0mtime_label\u001b[0m\u001b[1;33m[\u001b[0m\u001b[0mnames\u001b[0m\u001b[1;33m]\u001b[0m\u001b[1;33m)\u001b[0m\u001b[1;33m[\u001b[0m\u001b[1;33m:\u001b[0m\u001b[1;33m,\u001b[0m\u001b[1;36m1\u001b[0m\u001b[1;33m]\u001b[0m\u001b[1;33m\u001b[0m\u001b[0m\n\u001b[0m",
      "\u001b[1;31mValueError\u001b[0m: could not broadcast input array from shape (28059) into shape (31002)"
     ]
    }
   ],
   "source": [
    "for ii,names in enumerate(channelList):\n",
    "    time_label_matrix[ii+1,:]=np.array(time_label[names])[:,1]"
   ]
  },
  {
   "cell_type": "code",
   "execution_count": null,
   "metadata": {
    "collapsed": true
   },
   "outputs": [],
   "source": []
  }
 ],
 "metadata": {
  "kernelspec": {
   "display_name": "Python 3",
   "language": "python",
   "name": "python3"
  },
  "language_info": {
   "codemirror_mode": {
    "name": "ipython",
    "version": 3
   },
   "file_extension": ".py",
   "mimetype": "text/x-python",
   "name": "python",
   "nbconvert_exporter": "python",
   "pygments_lexer": "ipython3",
   "version": "3.5.1"
  }
 },
 "nbformat": 4,
 "nbformat_minor": 0
}
