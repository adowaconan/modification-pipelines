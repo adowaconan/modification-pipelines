{
 "cells": [
  {
   "cell_type": "code",
   "execution_count": 1,
   "metadata": {
    "collapsed": true
   },
   "outputs": [],
   "source": [
    "import numpy as np\n",
    "from sklearn.datasets import load_digits\n",
    "digits = load_digits()"
   ]
  },
  {
   "cell_type": "code",
   "execution_count": 6,
   "metadata": {
    "collapsed": false,
    "scrolled": true
   },
   "outputs": [
    {
     "name": "stdout",
     "output_type": "stream",
     "text": [
      "Iteration 0\tError: 43097.239781\n",
      "Iteration 2500\tError: 36643.000000\n",
      "Iteration 5000\tError: 36643.000000\n"
     ]
    },
    {
     "name": "stderr",
     "output_type": "stream",
     "text": [
      "C:\\Anaconda3\\lib\\site-packages\\ipykernel\\__main__.py:6: RuntimeWarning: overflow encountered in exp\n"
     ]
    },
    {
     "ename": "KeyboardInterrupt",
     "evalue": "",
     "output_type": "error",
     "traceback": [
      "\u001b[1;31m---------------------------------------------------------------------------\u001b[0m",
      "\u001b[1;31mKeyboardInterrupt\u001b[0m                         Traceback (most recent call last)",
      "\u001b[1;32m<ipython-input-6-0bfe20973145>\u001b[0m in \u001b[0;36m<module>\u001b[1;34m()\u001b[0m\n\u001b[0;32m    173\u001b[0m     \u001b[0mlnErr\u001b[0m \u001b[1;33m=\u001b[0m \u001b[1;36m1e-5\u001b[0m\u001b[1;33m\u001b[0m\u001b[0m\n\u001b[0;32m    174\u001b[0m     \u001b[1;32mfor\u001b[0m \u001b[0mi\u001b[0m \u001b[1;32min\u001b[0m \u001b[0mrange\u001b[0m\u001b[1;33m(\u001b[0m\u001b[0mlnMax\u001b[0m\u001b[1;33m+\u001b[0m\u001b[1;36m1\u001b[0m\u001b[1;33m)\u001b[0m\u001b[1;33m:\u001b[0m\u001b[1;33m\u001b[0m\u001b[0m\n\u001b[1;32m--> 175\u001b[1;33m         \u001b[0merr\u001b[0m \u001b[1;33m=\u001b[0m \u001b[0mbpn\u001b[0m\u001b[1;33m.\u001b[0m\u001b[0mTrainEpoch\u001b[0m\u001b[1;33m(\u001b[0m\u001b[0mlvInput\u001b[0m\u001b[1;33m,\u001b[0m \u001b[0mlvTarget\u001b[0m\u001b[1;33m,\u001b[0m\u001b[0mmomentum\u001b[0m\u001b[1;33m=\u001b[0m\u001b[1;36m0.1\u001b[0m\u001b[1;33m)\u001b[0m\u001b[1;33m\u001b[0m\u001b[0m\n\u001b[0m\u001b[0;32m    176\u001b[0m         \u001b[1;32mif\u001b[0m \u001b[0mi\u001b[0m \u001b[1;33m%\u001b[0m \u001b[1;36m2500\u001b[0m \u001b[1;33m==\u001b[0m \u001b[1;36m0\u001b[0m\u001b[1;33m:\u001b[0m\u001b[1;33m\u001b[0m\u001b[0m\n\u001b[0;32m    177\u001b[0m             \u001b[0mprint\u001b[0m\u001b[1;33m(\u001b[0m\u001b[1;34m\"Iteration {a}\\tError: {b:0.6f}\"\u001b[0m\u001b[1;33m.\u001b[0m\u001b[0mformat\u001b[0m\u001b[1;33m(\u001b[0m\u001b[0ma\u001b[0m\u001b[1;33m=\u001b[0m\u001b[0mi\u001b[0m\u001b[1;33m,\u001b[0m \u001b[0mb\u001b[0m\u001b[1;33m=\u001b[0m\u001b[0merr\u001b[0m\u001b[1;33m)\u001b[0m\u001b[1;33m)\u001b[0m\u001b[1;33m\u001b[0m\u001b[0m\n",
      "\u001b[1;32m<ipython-input-6-0bfe20973145>\u001b[0m in \u001b[0;36mTrainEpoch\u001b[1;34m(self, input, target, trainingRate, momentum)\u001b[0m\n\u001b[0;32m    117\u001b[0m \u001b[1;33m\u001b[0m\u001b[0m\n\u001b[0;32m    118\u001b[0m         \u001b[1;31m# First run the network\u001b[0m\u001b[1;33m\u001b[0m\u001b[1;33m\u001b[0m\u001b[0m\n\u001b[1;32m--> 119\u001b[1;33m         \u001b[0mself\u001b[0m\u001b[1;33m.\u001b[0m\u001b[0mRun\u001b[0m\u001b[1;33m(\u001b[0m\u001b[0minput\u001b[0m\u001b[1;33m)\u001b[0m\u001b[1;33m\u001b[0m\u001b[0m\n\u001b[0m\u001b[0;32m    120\u001b[0m \u001b[1;33m\u001b[0m\u001b[0m\n\u001b[0;32m    121\u001b[0m         \u001b[1;31m# Calculate our deltas\u001b[0m\u001b[1;33m\u001b[0m\u001b[1;33m\u001b[0m\u001b[0m\n",
      "\u001b[1;32m<ipython-input-6-0bfe20973145>\u001b[0m in \u001b[0;36mRun\u001b[1;34m(self, input)\u001b[0m\n\u001b[0;32m    104\u001b[0m \u001b[1;33m\u001b[0m\u001b[0m\n\u001b[0;32m    105\u001b[0m             \u001b[0mself\u001b[0m\u001b[1;33m.\u001b[0m\u001b[0m_layerInput\u001b[0m\u001b[1;33m.\u001b[0m\u001b[0mappend\u001b[0m\u001b[1;33m(\u001b[0m\u001b[0mlayerInput\u001b[0m\u001b[1;33m)\u001b[0m\u001b[1;33m\u001b[0m\u001b[0m\n\u001b[1;32m--> 106\u001b[1;33m             \u001b[0mself\u001b[0m\u001b[1;33m.\u001b[0m\u001b[0m_layerOutput\u001b[0m\u001b[1;33m.\u001b[0m\u001b[0mappend\u001b[0m\u001b[1;33m(\u001b[0m\u001b[0mself\u001b[0m\u001b[1;33m.\u001b[0m\u001b[0mtFuncs\u001b[0m\u001b[1;33m[\u001b[0m\u001b[0mindex\u001b[0m\u001b[1;33m]\u001b[0m\u001b[1;33m(\u001b[0m\u001b[0mlayerInput\u001b[0m\u001b[1;33m)\u001b[0m\u001b[1;33m)\u001b[0m\u001b[1;33m\u001b[0m\u001b[0m\n\u001b[0m\u001b[0;32m    107\u001b[0m         \u001b[1;32mreturn\u001b[0m \u001b[0mself\u001b[0m\u001b[1;33m.\u001b[0m\u001b[0m_layerOutput\u001b[0m\u001b[1;33m[\u001b[0m\u001b[1;33m-\u001b[0m\u001b[1;36m1\u001b[0m\u001b[1;33m]\u001b[0m\u001b[1;33m.\u001b[0m\u001b[0mT\u001b[0m\u001b[1;33m\u001b[0m\u001b[0m\n\u001b[0;32m    108\u001b[0m \u001b[1;33m\u001b[0m\u001b[0m\n",
      "\u001b[1;32m<ipython-input-6-0bfe20973145>\u001b[0m in \u001b[0;36msgm\u001b[1;34m(x, Derivative)\u001b[0m\n\u001b[0;32m      4\u001b[0m \u001b[1;32mdef\u001b[0m \u001b[0msgm\u001b[0m\u001b[1;33m(\u001b[0m\u001b[0mx\u001b[0m\u001b[1;33m,\u001b[0m\u001b[0mDerivative\u001b[0m \u001b[1;33m=\u001b[0m \u001b[1;32mFalse\u001b[0m\u001b[1;33m)\u001b[0m\u001b[1;33m:\u001b[0m\u001b[1;33m\u001b[0m\u001b[0m\n\u001b[0;32m      5\u001b[0m     \u001b[1;32mif\u001b[0m \u001b[1;32mnot\u001b[0m \u001b[0mDerivative\u001b[0m\u001b[1;33m:\u001b[0m\u001b[1;33m\u001b[0m\u001b[0m\n\u001b[1;32m----> 6\u001b[1;33m         \u001b[1;32mreturn\u001b[0m \u001b[1;36m1.0\u001b[0m \u001b[1;33m/\u001b[0m \u001b[1;33m(\u001b[0m\u001b[1;36m1.0\u001b[0m\u001b[1;33m+\u001b[0m\u001b[0mnp\u001b[0m\u001b[1;33m.\u001b[0m\u001b[0mexp\u001b[0m\u001b[1;33m(\u001b[0m\u001b[1;33m-\u001b[0m\u001b[0mx\u001b[0m\u001b[1;33m)\u001b[0m\u001b[1;33m)\u001b[0m\u001b[1;33m\u001b[0m\u001b[0m\n\u001b[0m\u001b[0;32m      7\u001b[0m     \u001b[1;32melse\u001b[0m\u001b[1;33m:\u001b[0m\u001b[1;33m\u001b[0m\u001b[0m\n\u001b[0;32m      8\u001b[0m         \u001b[0mout\u001b[0m \u001b[1;33m=\u001b[0m \u001b[0msgm\u001b[0m\u001b[1;33m(\u001b[0m\u001b[0mx\u001b[0m\u001b[1;33m)\u001b[0m\u001b[1;33m\u001b[0m\u001b[0m\n",
      "\u001b[1;31mKeyboardInterrupt\u001b[0m: "
     ]
    }
   ],
   "source": [
    "#\n",
    "# transfer funtion\n",
    "#\n",
    "def sgm(x,Derivative = False):\n",
    "    if not Derivative:\n",
    "        return 1.0 / (1.0+np.exp(-x))\n",
    "    else:\n",
    "        out = sgm(x)\n",
    "        return out*(1.0-out)\n",
    "    \n",
    "def linear(x,Derivative = False):\n",
    "    if not Derivative:\n",
    "        return x\n",
    "    else:\n",
    "        return 1.0\n",
    "    \n",
    "def gaussian(x, Derivative = False):\n",
    "    if not Derivative:\n",
    "        return np.exp(-x**2)\n",
    "    else:\n",
    "        return -2*x*np.exp(-x**2)\n",
    "    \n",
    "def tanh(x, Derivative = False):\n",
    "    if not Derivative:\n",
    "        return np.tanh(x)\n",
    "    else:\n",
    "        return 1 - np.tanh(x)**2\n",
    "            \n",
    "\n",
    "#\n",
    "#Class\n",
    "#\n",
    "\n",
    "\n",
    "class BackPropagationNetwork:\n",
    "    \"\"\"A back-propagation Network\"\"\"\n",
    "    \n",
    "    #\n",
    "    # Class members\n",
    "    #\n",
    "    layerCount = 0\n",
    "    shape = None\n",
    "    weights=[]\n",
    "    # Family of functions\n",
    "    tFuncs = []\n",
    "    #\n",
    "    # Class methods\n",
    "    #\n",
    "    def __init__(self, layerSize,layerFunctions = None):\n",
    "        \"\"\" Initialize the network\"\"\"\n",
    "        \n",
    "        # layer info\n",
    "        self.layerCount = len(layerSize) -1\n",
    "        self.shape = layerSize\n",
    "        \n",
    "        if layerFunctions is None:\n",
    "            lFuncs = []\n",
    "            for i in range(self.layerCount):\n",
    "                if i == self.layerCount - 1:\n",
    "                    lFuncs.append(linear)\n",
    "                else:\n",
    "                    lFuncs.append(sgm)\n",
    "        else:\n",
    "            if len(layerSize) != len(layerFunctions):\n",
    "                raise ValueError(\"Incompatible list of transfer functions.\")\n",
    "            elif layerFunctions[0] is not None:\n",
    "                raise ValueError(\"Input layer cannot have a transfer function.\")\n",
    "            else:\n",
    "                lFuncs = layerFunctions[1:]\n",
    "                \n",
    "                    \n",
    "        self.tFuncs = lFuncs\n",
    "        \n",
    "        # Data from last Run\n",
    "        self._layerInput = []\n",
    "        self._layerOutput = []\n",
    "        self._previousWeightDelta = []\n",
    "        \n",
    "        # Create the weight arrays\n",
    "        for (l1,l2) in zip(layerSize[:-1],layerSize[1:]):\n",
    "            self.weights.append(np.random.normal(scale = 0.1,size=(l2,l1+1)))\n",
    "            self._previousWeightDelta.append(np.zeros((l2,l1+1)))\n",
    "\n",
    "            \n",
    "    #\n",
    "    # Run method\n",
    "    #\n",
    "    def Run(self,input):\n",
    "        \"\"\"Run the network based on the input data\"\"\"\n",
    "        \n",
    "        lnCases = input.shape[0]\n",
    "        \n",
    "        # Clear out the previous intermediate value lists\n",
    "        self._layerInput=[]\n",
    "        self._layerOutput=[]\n",
    "        \n",
    "        # Run it!\n",
    "        for index in range(self.layerCount):\n",
    "            # Determine layer input\n",
    "            if index ==0:\n",
    "                layerInput = self.weights[0].dot(np.vstack([input.T,np.ones([1,lnCases])]))\n",
    "            else:\n",
    "                layerInput = self.weights[index].dot(np.vstack([self._layerOutput[-1],np.ones([1,lnCases])]))\n",
    "                \n",
    "            self._layerInput.append(layerInput)\n",
    "            self._layerOutput.append(self.tFuncs[index](layerInput))\n",
    "        return self._layerOutput[-1].T\n",
    "    \n",
    "    #\n",
    "    # TrainEpoch method\n",
    "    #\n",
    "    def TrainEpoch(self, input,target, trainingRate = 0.2,momentum = 0.5):\n",
    "        \"\"\"This method trains the network for one epoch\"\"\"\n",
    "        \n",
    "        delta = []\n",
    "        lnCases = input.shape[0]\n",
    "        \n",
    "        # First run the network\n",
    "        self.Run(input)\n",
    "        \n",
    "        # Calculate our deltas\n",
    "        for index in reversed(range(self.layerCount)):\n",
    "            if index == self.layerCount -1:\n",
    "                # compare to the target values\n",
    "                output_delta = self._layerOutput[index] - target.T\n",
    "                error = np.sum(output_delta**2)\n",
    "                delta.append(output_delta * self.tFuncs[index](self._layerInput[index],True))\n",
    "            else:\n",
    "                #Compare to the following layer's delta\n",
    "                delta_pullback = self.weights[index + 1].T.dot(delta[-1])\n",
    "                delta.append(delta_pullback[:-1,:] * self.tFuncs[index](self._layerInput[index],True))\n",
    "                \n",
    "            \n",
    "        # Compute weight deltas\n",
    "        for index in range(self.layerCount):\n",
    "            delta_index = self.layerCount - 1 - index\n",
    "            \n",
    "            if index == 0:\n",
    "                layerOutput = np.vstack([input.T, np.ones([1,lnCases])])\n",
    "            else:\n",
    "                layerOutput = np.vstack([self._layerOutput[index -1],np.ones([1,self._layerOutput[index-1].shape[1]])])\n",
    "                \n",
    "            curWeightDelta = np.sum(\\\n",
    "                                layerOutput[None,:,:].transpose(2,0,1) * delta[delta_index][None,:,:].transpose(2,1,0)\\\n",
    "                                ,axis = 0)\n",
    "            weightDelta = trainingRate * curWeightDelta + momentum * self._previousWeightDelta[index]\n",
    "            \n",
    "            self.weights[index] -= weightDelta\n",
    "            \n",
    "            self._previousWeightDelta[index] = weightDelta\n",
    "            \n",
    "        return error\n",
    "    \n",
    "    # Transfer functions is moved outside the class\n",
    "    \n",
    "#\n",
    "# if run as a script, create a test object\n",
    "#\n",
    "if __name__ == \"__main__\":\n",
    "    #bpn = BackPropagationNetwork((2,2,1))\n",
    "    #print(bpn.shape)\n",
    "    #print(bpn.weights)\n",
    "    \n",
    "    #lvInput = np.random.normal(loc=0,scale=1.0,size=(100,4000))\n",
    "    #np.array([[0,0,0],[1,1,1],[0,1,1],[1,0,1]])\n",
    "    #lvTarget = np.random.choice([0,1,2,3],size=lvInput.shape[0])\n",
    "    #np.array([[0.00],[0.00],[1.00],[1.00]])\n",
    "    n_samples = len(digits.images)\n",
    "    data = digits.images.reshape((n_samples, -1))\n",
    "    lvInput = data\n",
    "    lvTarget = digits.target\n",
    "    lFuncs = [None,sgm, sgm]\n",
    "    bpn = BackPropagationNetwork((lvInput.shape[1],5,1),lFuncs)\n",
    "    lnMax = 100000\n",
    "    lnErr = 1e-5\n",
    "    for i in range(lnMax+1):\n",
    "        err = bpn.TrainEpoch(lvInput, lvTarget,momentum=0.1)\n",
    "        if i % 2500 == 0:\n",
    "            print(\"Iteration {a}\\tError: {b:0.6f}\".format(a=i, b=err))\n",
    "        if err <= lnErr:\n",
    "            print(\"Desired error reached. Iter: {0}\".format(i))\n",
    "            break\n",
    "    # Display output\n",
    "    lvOutput = bpn.Run(lvInput)\n",
    "    for i in range(lvInput.shape[0]):\n",
    "        print(\"Input: {0}\\nOutput: {1}\".format(lvInput[i],lvOutput[i]))\n",
    "    #print(\"Input: {0}\\nOutput: {1}\".format(lvInput,lvOutput))"
   ]
  },
  {
   "cell_type": "code",
   "execution_count": 4,
   "metadata": {
    "collapsed": false
   },
   "outputs": [
    {
     "data": {
      "text/plain": [
       "((1797, 64), (1797,))"
      ]
     },
     "execution_count": 4,
     "metadata": {},
     "output_type": "execute_result"
    }
   ],
   "source": [
    "n_samples = len(digits.images)\n",
    "data = digits.images.reshape((n_samples, -1))\n",
    "lvInput = data\n",
    "lvTarget = digits.target\n",
    "lvInput.shape,lvTarget.shape"
   ]
  },
  {
   "cell_type": "code",
   "execution_count": 2,
   "metadata": {
    "collapsed": false
   },
   "outputs": [
    {
     "data": {
      "text/plain": [
       "dict_keys(['target', 'images', 'data', 'DESCR', 'target_names'])"
      ]
     },
     "execution_count": 2,
     "metadata": {},
     "output_type": "execute_result"
    }
   ],
   "source": [
    "digits.keys()"
   ]
  },
  {
   "cell_type": "code",
   "execution_count": null,
   "metadata": {
    "collapsed": true
   },
   "outputs": [],
   "source": []
  }
 ],
 "metadata": {
  "kernelspec": {
   "display_name": "Python 3",
   "language": "python",
   "name": "python3"
  },
  "language_info": {
   "codemirror_mode": {
    "name": "ipython",
    "version": 3
   },
   "file_extension": ".py",
   "mimetype": "text/x-python",
   "name": "python",
   "nbconvert_exporter": "python",
   "pygments_lexer": "ipython3",
   "version": "3.5.1"
  }
 },
 "nbformat": 4,
 "nbformat_minor": 0
}
