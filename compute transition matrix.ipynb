{
 "cells": [
  {
   "cell_type": "code",
   "execution_count": 5,
   "metadata": {
    "collapsed": true
   },
   "outputs": [],
   "source": [
    "import numpy as np\n",
    "from collections import Counter\n",
    "import os\n",
    "import pickle\n",
    "import re\n",
    "import pandas as pd\n",
    "import matplotlib.pyplot as plt\n",
    "%matplotlib inline\n",
    "os.chdir('C:\\\\Users\\\\ning\\\\OneDrive\\\\python works\\\\modification-pipelines')\n",
    "import eegPinelineDesign\n",
    "results = pickle.load(open('sleep annotation.p','rb'))"
   ]
  },
  {
   "cell_type": "code",
   "execution_count": 18,
   "metadata": {
    "collapsed": false
   },
   "outputs": [
    {
     "name": "stdout",
     "output_type": "stream",
     "text": [
      "transisition matrix\n",
      "\n",
      " suj29_nap_day1_edited \n",
      "\n",
      " [[ 0.92857143  0.07142857  0.          0.        ]\n",
      " [ 0.          0.95238095  0.04761905  0.        ]\n",
      " [ 0.          0.          0.98591549  0.01408451]\n",
      " [ 0.          0.          0.          1.        ]]\n",
      "0.0\n",
      "0.0\n",
      "0.0\n",
      "1.0\n",
      "0.0\n",
      "0.0\n",
      "0.985915492958\n",
      "0.0140845070423\n",
      "0.0\n",
      "0.952380952381\n",
      "0.047619047619\n",
      "0.0\n",
      "0.928571428571\n",
      "0.0714285714286\n",
      "0.0\n",
      "0.0\n"
     ]
    },
    {
     "data": {
      "image/png": "[encoded data removed]",
      "text/plain": [
       "<matplotlib.figure.Figure at 0x11afae51c50>"
      ]
     },
     "metadata": {},
     "output_type": "display_data"
    }
   ],
   "source": [
    "name = list(results.keys())[0]\n",
    "sub=results[name]\n",
    "annotation=sub['annotation']\n",
    "key=re.compile('Marker',re.IGNORECASE)\n",
    "temp=[]\n",
    "for row in enumerate(annotation.iterrows()):\n",
    "    #print(row[1][-1])\n",
    "    if key.search(row[1][-1][-1]):\n",
    "        temp.append([row[1][-1][-2],row[1][-1][-1]])\n",
    "temp = pd.DataFrame(temp,columns=['Onset','annotation'])\n",
    "\n",
    "temp['annotation']=temp.annotation.apply(eegPinelineDesign.recode_annotation)\n",
    "#ax=temp.plot(x='Onset',y='annotation',style='.-',yticks=[0,1,2,3],xticks=temp.Onset.values[::10])\n",
    "#_=ax.set(yticklabels=['w','1','2','SWS'],title=name,xlabel='time (sec)',ylabel='stage',\n",
    "#         xlim=(-2,1900))\n",
    "a=temp['annotation'].values\n",
    "state = np.vstack((a,a,a))\n",
    "state = state.T.reshape((3*len(a)))\n",
    "state = state[:-1]\n",
    "Nstate=len(np.unique(temp['annotation'].values))\n",
    "if Nstate == 4:\n",
    "    yticklabels=['SWS','2','1','w']\n",
    "else:\n",
    "    yticklabels=['2','1','w']\n",
    "tranMat = np.zeros((Nstate,Nstate))\n",
    "for (x,y), c in Counter(zip(a, a[1:])).items():\n",
    "    tranMat[x][y] = c\n",
    "tranMat = tranMat / tranMat.sum(axis=1, keepdims=True)\n",
    "print('transisition matrix\\n\\n',name,'\\n\\n', tranMat)\n",
    "ax1=plt.subplot(111)\n",
    "ax1.pcolor(np.flipud(tranMat),cmap=plt.cm.Blues)\n",
    "ax1.xaxis.tick_top()\n",
    "ax1.set(xticks=np.arange(Nstate)+0.5,yticks=np.arange(Nstate)+0.5,\n",
    "        xticklabels=['w','1','2','SWS'],yticklabels=yticklabels)\n",
    "plt.title(name,y=1.08)\n",
    "for x in range(tranMat.shape[0]):\n",
    "    for y in range(tranMat.shape[1]):\n",
    "        print(np.flipud(tranMat)[x,y])\n",
    "        ax1.annotate('%.4f'%np.fliplr(tranMat.T)[x,y],xy=(x+0.3,y+0.5))\n"
   ]
  },
  {
   "cell_type": "code",
   "execution_count": 15,
   "metadata": {
    "collapsed": false
   },
   "outputs": [
    {
     "data": {
      "text/plain": [
       "array([[ 0.92857143,  0.        ,  0.        ,  0.        ],\n",
       "       [ 0.07142857,  0.95238095,  0.        ,  0.        ],\n",
       "       [ 0.        ,  0.04761905,  0.98591549,  0.        ],\n",
       "       [ 0.        ,  0.        ,  0.01408451,  1.        ]])"
      ]
     },
     "execution_count": 15,
     "metadata": {},
     "output_type": "execute_result"
    }
   ],
   "source": [
    "tranMat = np.zeros((Nstate,Nstate))\n",
    "for (x,y), c in Counter(zip(a, a[1:])).items():\n",
    "    tranMat[x][y] = c\n",
    "tranMat = tranMat / tranMat.sum(axis=1, keepdims=True)\n",
    "tranMat.T"
   ]
  },
  {
   "cell_type": "code",
   "execution_count": 13,
   "metadata": {
    "collapsed": false
   },
   "outputs": [
    {
     "name": "stdout",
     "output_type": "stream",
     "text": [
      "0.0\n",
      "0.0\n",
      "0.0140845070423\n",
      "1.0\n",
      "0.0\n",
      "0.047619047619\n",
      "0.985915492958\n",
      "0.0\n",
      "0.0714285714286\n",
      "0.952380952381\n",
      "0.0\n",
      "0.0\n",
      "0.928571428571\n",
      "0.0\n",
      "0.0\n",
      "0.0\n"
     ]
    }
   ],
   "source": [
    "for x in range(tranMat.shape[0]):\n",
    "    for y in range(tranMat.shape[1]):\n",
    "        print(np.flipud(tranMat.T)[x,y])"
   ]
  },
  {
   "cell_type": "code",
   "execution_count": 37,
   "metadata": {
    "collapsed": false
   },
   "outputs": [
    {
     "name": "stdout",
     "output_type": "stream",
     "text": [
      "emissin matrix\n",
      "\n",
      " suj29_nap_day1_edited \n",
      "\n",
      " [[ 0.31746032  0.23809524  0.25396825  0.07936508  0.          0.          0.\n",
      "   0.11111111]\n",
      " [ 0.27230047  0.38967136  0.21126761  0.02816901  0.00469484  0.          0.\n",
      "   0.09389671]\n",
      " [ 0.02439024  0.26829268  0.46341463  0.19512195  0.04878049  0.          0.\n",
      "   0.        ]\n",
      " [ 0.02380952  0.11904762  0.23809524  0.30952381  0.26190476  0.02380952\n",
      "   0.02380952  0.        ]]\n"
     ]
    },
    {
     "data": {
      "image/png": "[encoded data removed]",
      "text/plain": [
       "<matplotlib.figure.Figure at 0x11afb317400>"
      ]
     },
     "metadata": {},
     "output_type": "display_data"
    }
   ],
   "source": [
    "Ncat=8\n",
    "Obs = results[name]['result']['my ASI']\n",
    "Obs = pd.DataFrame({'Obs':pd.cut(Obs,Ncat,labels=False)})\n",
    "#ax=Obs.plot(style='.-',yticks=np.arange(Ncat))\n",
    "#_=ax.set(title=name,yticklabels=np.arange(Ncat)+1)\n",
    "EmissionMat = np.zeros((Nstate,Ncat))\n",
    "for (x,y),c in Counter(zip(state,Obs['Obs'].values)).items():\n",
    "    EmissionMat[x-1][y-1] = c\n",
    "EmissionMat = EmissionMat / EmissionMat.sum(axis=1, keepdims=True)\n",
    "print('emissin matrix\\n\\n',name,'\\n\\n',EmissionMat)\n",
    "ax2=plt.subplot(111)\n",
    "ax2.pcolor(EmissionMat,cmap=plt.cm.Blues)\n",
    "ax2.xaxis.tick_top()\n",
    "ax2.set(yticks=np.arange(Nstate)+0.5,xticks=np.arange(Ncat)+0.5,\n",
    "        yticklabels=yticklabels,xticklabels=np.arange(Ncat)+1)\n",
    "for x in range(EmissionMat.shape[0]):\n",
    "    for y in range(EmissionMat.shape[1]):\n",
    "        ax2.annotate('%.4f'%np.flipud(EmissionMat)[x,y],xy=(y+0.3,x+0.5))"
   ]
  },
  {
   "cell_type": "code",
   "execution_count": 33,
   "metadata": {
    "collapsed": false
   },
   "outputs": [
    {
     "name": "stdout",
     "output_type": "stream",
     "text": [
      "[[ 0.31746032  0.23809524  0.25396825  0.07936508  0.          0.          0.\n",
      "   0.11111111]\n",
      " [ 0.27230047  0.38967136  0.21126761  0.02816901  0.00469484  0.          0.\n",
      "   0.09389671]\n",
      " [ 0.02439024  0.26829268  0.46341463  0.19512195  0.04878049  0.          0.\n",
      "   0.        ]\n",
      " [ 0.02380952  0.11904762  0.23809524  0.30952381  0.26190476  0.02380952\n",
      "   0.02380952  0.        ]]\n"
     ]
    }
   ],
   "source": [
    "print(EmissionMat)"
   ]
  },
  {
   "cell_type": "code",
   "execution_count": 36,
   "metadata": {
    "collapsed": false
   },
   "outputs": [
    {
     "name": "stdout",
     "output_type": "stream",
     "text": [
      "0.0238095238095\n",
      "0.119047619048\n",
      "0.238095238095\n",
      "0.309523809524\n",
      "0.261904761905\n",
      "0.0238095238095\n",
      "0.0238095238095\n",
      "0.0\n",
      "0.0243902439024\n",
      "0.268292682927\n",
      "0.463414634146\n",
      "0.19512195122\n",
      "0.0487804878049\n",
      "0.0\n",
      "0.0\n",
      "0.0\n",
      "0.272300469484\n",
      "0.389671361502\n",
      "0.211267605634\n",
      "0.0281690140845\n",
      "0.00469483568075\n",
      "0.0\n",
      "0.0\n",
      "0.093896713615\n",
      "0.31746031746\n",
      "0.238095238095\n",
      "0.253968253968\n",
      "0.0793650793651\n",
      "0.0\n",
      "0.0\n",
      "0.0\n",
      "0.111111111111\n"
     ]
    }
   ],
   "source": [
    "for x in range(EmissionMat.shape[0]):\n",
    "    for y in range(EmissionMat.shape[1]):\n",
    "        print(np.flipud(EmissionMat)[x,y])"
   ]
  },
  {
   "cell_type": "code",
   "execution_count": null,
   "metadata": {
    "collapsed": true
   },
   "outputs": [],
   "source": []
  }
 ],
 "metadata": {
  "kernelspec": {
   "display_name": "Python [Root]",
   "language": "python",
   "name": "Python [Root]"
  },
  "language_info": {
   "codemirror_mode": {
    "name": "ipython",
    "version": 3
   },
   "file_extension": ".py",
   "mimetype": "text/x-python",
   "name": "python",
   "nbconvert_exporter": "python",
   "pygments_lexer": "ipython3",
   "version": "3.5.1"
  }
 },
 "nbformat": 4,
 "nbformat_minor": 0
}
