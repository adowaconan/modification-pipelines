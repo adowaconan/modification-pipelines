{
 "cells": [
  {
   "cell_type": "code",
   "execution_count": 1,
   "metadata": {
    "collapsed": true
   },
   "outputs": [],
   "source": [
    "import pickle\n",
    "import matplotlib.pyplot as plt\n",
    "%matplotlib inline\n",
    "import matplotlib\n",
    "SIZE = 16\n",
    "MEDIUM_SIZE = 18\n",
    "BIGGER_SIZE = 20\n",
    "\n",
    "plt.rc('font', size=SIZE)                # controls default text sizes\n",
    "plt.rc('axes', titlesize=SIZE)           # fontsize of the axes title\n",
    "plt.rc('axes', labelsize=SIZE)    # fontsize of the x and y labels\n",
    "plt.rc('xtick', labelsize=SIZE)          # fontsize of the tick labels\n",
    "plt.rc('ytick', labelsize=SIZE)          # fontsize of the tick labels\n",
    "plt.rc('legend', fontsize=SIZE)          # legend fontsize\n",
    "plt.rc('figure', titlesize=SIZE)  # fontsize of the figure title"
   ]
  },
  {
   "cell_type": "code",
   "execution_count": 20,
   "metadata": {
    "collapsed": false
   },
   "outputs": [],
   "source": [
    "with open('over_threshold.p','rb') as h:\n",
    "    over_threshold = pickle.load(h)"
   ]
  },
  {
   "cell_type": "code",
   "execution_count": 21,
   "metadata": {
    "collapsed": false
   },
   "outputs": [],
   "source": [
    "import numpy as np\n",
    "thresholds = np.sort(list(over_threshold['without'].keys()))"
   ]
  },
  {
   "cell_type": "code",
   "execution_count": 41,
   "metadata": {
    "collapsed": true
   },
   "outputs": [],
   "source": [
    "import random\n",
    "from sklearn.model_selection import KFold"
   ]
  },
  {
   "cell_type": "code",
   "execution_count": 42,
   "metadata": {
    "collapsed": false,
    "scrolled": true
   },
   "outputs": [],
   "source": [
    "random.seed(12345)\n",
    "for threshold in thresholds:\n",
    "    temp_data = over_threshold['without'][threshold]\n",
    "    #print(threshold)\n",
    "    manu_scores = [];auto_scores = []\n",
    "    for sub,data in temp_data.items():\n",
    "        manu,auto,time_intervals = data\n",
    "        manu_scores.append(manu)\n",
    "        auto_scores.append(auto)\n",
    "        \n",
    "    # shuffle\n",
    "    manu_scores = np.concatenate(manu_scores)\n",
    "    auto_scores = np.concatenate(auto_scores)\n",
    "    shuffle_index = np.arange(auto_scores.shape[0])\n",
    "    \n",
    "    manu_scores = manu_scores[shuffle_index]\n",
    "    auto_scores = auto_scores[shuffle_index]\n",
    "    \n",
    "    kf = KFold(n_splits=10,random_state=12345,shuffle=True)\n",
    "    for auto_index, manu_index in kf.split(auto_scores):\n",
    "        temp_manu = manu_scores[manu_index]\n",
    "        temp_auto = auto_scores[auto_index]\n",
    "        \n",
    "        "
   ]
  },
  {
   "cell_type": "code",
   "execution_count": 43,
   "metadata": {
    "collapsed": false
   },
   "outputs": [
    {
     "data": {
      "text/plain": [
       "(array([ 0.,  0.,  0., ...,  0.,  0.,  0.]),\n",
       " array([ 0.,  0.,  0., ...,  0.,  0.,  1.]))"
      ]
     },
     "execution_count": 43,
     "metadata": {},
     "output_type": "execute_result"
    }
   ],
   "source": [
    "temp_manu, temp_auto"
   ]
  },
  {
   "cell_type": "code",
   "execution_count": null,
   "metadata": {
    "collapsed": true
   },
   "outputs": [],
   "source": []
  }
 ],
 "metadata": {
  "kernelspec": {
   "display_name": "Python [Root]",
   "language": "python",
   "name": "Python [Root]"
  },
  "language_info": {
   "codemirror_mode": {
    "name": "ipython",
    "version": 3
   },
   "file_extension": ".py",
   "mimetype": "text/x-python",
   "name": "python",
   "nbconvert_exporter": "python",
   "pygments_lexer": "ipython3",
   "version": "3.5.1"
  }
 },
 "nbformat": 4,
 "nbformat_minor": 0
}
