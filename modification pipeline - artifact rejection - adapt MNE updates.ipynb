{
 "cells": [
  {
   "cell_type": "code",
   "execution_count": 3,
   "metadata": {
    "collapsed": false
   },
   "outputs": [],
   "source": [
    "import mne\n",
    "import os\n",
    "import numpy as np\n",
    "%matplotlib inline\n",
    "import matplotlib.pyplot as plt\n"
   ]
  },
  {
   "cell_type": "code",
   "execution_count": 35,
   "metadata": {
    "collapsed": false
   },
   "outputs": [],
   "source": [
    "def load_data(file_to_read,low_frequency=.1,high_frequency=50,eegReject=80,\n",
    "              eogReject=160,n_ch=-2):\n",
    "    \"\"\" not just load the data, but also remove artifact by using mne.ICA\n",
    "        Make sure 'LOC' or 'ROC' channels are in the channel list, because they\n",
    "        are used to detect muscle and eye blink movements\"\"\"\n",
    "        \n",
    "        \n",
    "    \"\"\"\n",
    "    file_to_read: file name with 'vhdr'\n",
    "    low_frequency: high pass cutoff point\n",
    "    high_frequency: low pass cutoff point\n",
    "    eegReject: change in amplitude in microvoltage of eeg channels\n",
    "    eogReject: change in amplitude in microvoltage of eog channels\n",
    "    n_ch: index of channel list, use '-2' for excluding AUX and stimuli channels\n",
    "    \"\"\"\n",
    "    c=200\n",
    "    raw = mne.io.read_raw_brainvision(file_to_read,scale=1e5,preload=True)\n",
    "    if 'LOc' in raw.ch_names:\n",
    "        \n",
    "        #raw.resample(500,npad='auto')\n",
    "        #chan_list=['F3','F4','C3','C4','O1','O2','ROc','LOc']\n",
    "        raw.set_channel_types({'LOc':'eog','ROc':'eog'})\n",
    "        chan_list=raw.ch_names[:n_ch]#exclude AUX and stim channel\n",
    "        if 'LOc' not in chan_list:\n",
    "            chan_list.append('LOc')\n",
    "        if 'ROc' not in chan_list:\n",
    "            chan_list.append('ROc')\n",
    "\n",
    "        raw.pick_channels(chan_list)\n",
    "        picks=mne.pick_types(raw.info,meg=False,eeg=True,eog=False,stim=False)\n",
    "        raw.filter(None,c,l_trans_bandwidth=0.01,\n",
    "                   h_trans_bandwidth=0.5,filter_length=30,picks=picks)\n",
    "        noise_cov=mne.compute_raw_covariance(raw,picks=picks)# re-referencing to average\n",
    "        raw.notch_filter(np.arange(60,241,60), picks=picks)\n",
    "        reject = dict(eeg=eegReject,eog=eogReject)\n",
    "\n",
    "        ica = mne.preprocessing.ICA(n_components=0.9,n_pca_components =.9,\n",
    "                                    max_iter=3000,method='extended-infomax',\n",
    "                                    noise_cov=noise_cov, random_state=0)\n",
    "        projs, raw.info['projs'] = raw.info['projs'], []\n",
    "        ica.fit(raw,picks=picks,start=0,stop=raw.last_samp,decim=2,reject=reject,tstep=2.)\n",
    "        raw.info['projs'] = projs\n",
    "        ica.detect_artifacts(raw,eog_ch=['LOc','ROc'],\n",
    "                             eog_criterion=0.4,skew_criterion=2,kurt_criterion=2,var_criterion=2)\n",
    "        try:                     \n",
    "            a,b=ica.find_bads_eog(raw)\n",
    "            ica.exclude += a\n",
    "        except:\n",
    "            pass\n",
    "\n",
    "\n",
    "\n",
    "    clean_raw = ica.apply(raw,exclude=ica.exclude)\n",
    "    if low_frequency is not None and high_frequency is not None:\n",
    "        clean_raw.filter(low_frequency,high_frequency,l_trans_bandwidth=0.01,\n",
    "                   h_trans_bandwidth='auto',filter_length=30,picks=picks)\n",
    "    elif low_frequency is not None or high_frequency is not None:\n",
    "        try:\n",
    "            clean_raw.filter(low_frequency,200,l_trans_bandwidth=0.01,\n",
    "                   h_trans_bandwidth='auto',filter_length=30,picks=picks)\n",
    "        except:\n",
    "            clean_raw.filter(1,high_frequency,l_trans_bandwidth=0.01,\n",
    "                   h_trans_bandwidth='auto',filter_length=30,picks=picks)\n",
    "    else:\n",
    "        clean_raw = clean_raw\n",
    "    #clean_raw.plot_psd(fmax=50)\n",
    "    return clean_raw"
   ]
  },
  {
   "cell_type": "code",
   "execution_count": 36,
   "metadata": {
    "collapsed": true
   },
   "outputs": [],
   "source": [
    "os.chdir('C:\\\\Users\\\\ning\\\\Downloads\\\\training set')"
   ]
  },
  {
   "cell_type": "code",
   "execution_count": 37,
   "metadata": {
    "collapsed": false,
    "scrolled": true
   },
   "outputs": [
    {
     "name": "stdout",
     "output_type": "stream",
     "text": [
      "Extracting parameters from suj20_l2nap_day2.vhdr...\n",
      "Setting channel info structure...\n",
      "Reading 0 ... 1807249  =      0.000 ...  1807.249 secs...\n",
      "Filtering a subset of channels. The highpass and lowpass values in the measurement info will not be updated.\n",
      "Low-pass filtering at 2e+02 Hz\n",
      "Attenuation at stop frequency 200.5Hz is only 13.4dB. Increase filter_length for higher attenuation.\n"
     ]
    },
    {
     "name": "stderr",
     "output_type": "stream",
     "text": [
      "c:\\Anaconda2\\lib\\site-packages\\ipykernel\\__main__.py:32: RuntimeWarning: Attenuation at stop frequency 200.5Hz is only 13.4dB. Increase filter_length for higher attenuation.\n"
     ]
    },
    {
     "name": "stdout",
     "output_type": "stream",
     "text": [
      "Using up to 9036 segments\n",
      "Number of samples used : 1807200\n",
      "[done]\n",
      "Fitting ICA to data using 61 channels. \n",
      "Please be patient, this may take some time\n",
      "Inferring max_pca_components from picks.\n",
      "    Rejecting  epoch based on EEG : [u'O1', u'CP3']\n",
      "Artifact detected in [7000, 8000]\n",
      "    Rejecting  epoch based on EEG : [u'TP10']\n",
      "Artifact detected in [38000, 39000]\n",
      "    Rejecting  epoch based on EEG : [u'TP10', u'PO3']\n",
      "Artifact detected in [40000, 41000]\n",
      "    Rejecting  epoch based on EEG : [u'PO3']\n",
      "Artifact detected in [41000, 42000]\n",
      "    Rejecting  epoch based on EEG : [u'PO3']\n",
      "Artifact detected in [46000, 47000]\n",
      "    Rejecting  epoch based on EEG : [u'PO3']\n",
      "Artifact detected in [76000, 77000]\n",
      "    Rejecting  epoch based on EEG : [u'O1', u'Oz', u'O2', u'PO3', u'POz', u'PO4', u'PO8']\n",
      "Artifact detected in [304000, 305000]\n",
      "    Rejecting  epoch based on EEG : [u'PO3']\n",
      "Artifact detected in [305000, 306000]\n",
      "    Rejecting  epoch based on EEG : [u'O1', u'PO3', u'POz']\n",
      "Artifact detected in [306000, 307000]\n",
      "    Rejecting  epoch based on EEG : [u'CP2']\n",
      "Artifact detected in [472000, 473000]\n",
      "    Rejecting  epoch based on EEG : [u'CP2']\n",
      "Artifact detected in [488000, 489000]\n",
      "    Rejecting  epoch based on EEG : [u'PO3']\n",
      "Artifact detected in [508000, 509000]\n",
      "    Rejecting  epoch based on EEG : [u'CP2']\n",
      "Artifact detected in [817000, 818000]\n",
      "    Rejecting  epoch based on EEG : [u'CP2']\n",
      "Artifact detected in [819000, 820000]\n",
      "    Rejecting  epoch based on EEG : [u'O1', u'PO3']\n",
      "Artifact detected in [820000, 821000]\n",
      "    Rejecting  epoch based on EEG : [u'PO3']\n",
      "Artifact detected in [821000, 822000]\n",
      "    Rejecting  epoch based on EEG : [u'CP2']\n",
      "Artifact detected in [835000, 836000]\n",
      "estimated rank (eeg): 61\n",
      "Setting small EEG eigenvalues to zero.\n",
      "Not doing PCA for EEG.\n",
      "No average EEG reference present in info[\"projs\"], covariance may be adversely affected. Consider recomputing covariance using a raw file with an average eeg reference projector added.\n"
     ]
    },
    {
     "name": "stderr",
     "output_type": "stream",
     "text": [
      "c:\\Anaconda2\\lib\\site-packages\\ipykernel\\__main__.py:41: RuntimeWarning: No average EEG reference present in info[\"projs\"], covariance may be adversely affected. Consider recomputing covariance using a raw file with an average eeg reference projector added.\n"
     ]
    },
    {
     "name": "stdout",
     "output_type": "stream",
     "text": [
      "Selection by explained variance: 51 components\n",
      "computing Extended Infomax ICA\n"
     ]
    },
    {
     "ename": "KeyboardInterrupt",
     "evalue": "",
     "output_type": "error",
     "traceback": [
      "\u001b[1;31m---------------------------------------------------------------------------\u001b[0m",
      "\u001b[1;31mKeyboardInterrupt\u001b[0m                         Traceback (most recent call last)",
      "\u001b[1;32m<ipython-input-37-7c4d3e234333>\u001b[0m in \u001b[0;36m<module>\u001b[1;34m()\u001b[0m\n\u001b[1;32m----> 1\u001b[1;33m \u001b[0mraw\u001b[0m \u001b[1;33m=\u001b[0m \u001b[0mload_data\u001b[0m\u001b[1;33m(\u001b[0m\u001b[1;34m'suj20_l2nap_day2.vhdr'\u001b[0m\u001b[1;33m)\u001b[0m\u001b[1;33m\u001b[0m\u001b[0m\n\u001b[0m\u001b[0;32m      2\u001b[0m \u001b[1;31m#raw.filter(1,50,l_trans_bandwidth=0.5,)\u001b[0m\u001b[1;33m\u001b[0m\u001b[1;33m\u001b[0m\u001b[0m\n",
      "\u001b[1;32m<ipython-input-35-3b66849b24bf>\u001b[0m in \u001b[0;36mload_data\u001b[1;34m(file_to_read, low_frequency, high_frequency, eegReject, eogReject, n_ch)\u001b[0m\n\u001b[0;32m     39\u001b[0m                                     noise_cov=noise_cov, random_state=0)\n\u001b[0;32m     40\u001b[0m         \u001b[0mprojs\u001b[0m\u001b[1;33m,\u001b[0m \u001b[0mraw\u001b[0m\u001b[1;33m.\u001b[0m\u001b[0minfo\u001b[0m\u001b[1;33m[\u001b[0m\u001b[1;34m'projs'\u001b[0m\u001b[1;33m]\u001b[0m \u001b[1;33m=\u001b[0m \u001b[0mraw\u001b[0m\u001b[1;33m.\u001b[0m\u001b[0minfo\u001b[0m\u001b[1;33m[\u001b[0m\u001b[1;34m'projs'\u001b[0m\u001b[1;33m]\u001b[0m\u001b[1;33m,\u001b[0m \u001b[1;33m[\u001b[0m\u001b[1;33m]\u001b[0m\u001b[1;33m\u001b[0m\u001b[0m\n\u001b[1;32m---> 41\u001b[1;33m         \u001b[0mica\u001b[0m\u001b[1;33m.\u001b[0m\u001b[0mfit\u001b[0m\u001b[1;33m(\u001b[0m\u001b[0mraw\u001b[0m\u001b[1;33m,\u001b[0m\u001b[0mpicks\u001b[0m\u001b[1;33m=\u001b[0m\u001b[0mpicks\u001b[0m\u001b[1;33m,\u001b[0m\u001b[0mstart\u001b[0m\u001b[1;33m=\u001b[0m\u001b[1;36m0\u001b[0m\u001b[1;33m,\u001b[0m\u001b[0mstop\u001b[0m\u001b[1;33m=\u001b[0m\u001b[0mraw\u001b[0m\u001b[1;33m.\u001b[0m\u001b[0mlast_samp\u001b[0m\u001b[1;33m,\u001b[0m\u001b[0mdecim\u001b[0m\u001b[1;33m=\u001b[0m\u001b[1;36m2\u001b[0m\u001b[1;33m,\u001b[0m\u001b[0mreject\u001b[0m\u001b[1;33m=\u001b[0m\u001b[0mreject\u001b[0m\u001b[1;33m,\u001b[0m\u001b[0mtstep\u001b[0m\u001b[1;33m=\u001b[0m\u001b[1;36m2.\u001b[0m\u001b[1;33m)\u001b[0m\u001b[1;33m\u001b[0m\u001b[0m\n\u001b[0m\u001b[0;32m     42\u001b[0m         \u001b[0mraw\u001b[0m\u001b[1;33m.\u001b[0m\u001b[0minfo\u001b[0m\u001b[1;33m[\u001b[0m\u001b[1;34m'projs'\u001b[0m\u001b[1;33m]\u001b[0m \u001b[1;33m=\u001b[0m \u001b[0mprojs\u001b[0m\u001b[1;33m\u001b[0m\u001b[0m\n\u001b[0;32m     43\u001b[0m         ica.detect_artifacts(raw,eog_ch=['LOc','ROc'],\n",
      "\u001b[1;32mc:\\Anaconda2\\lib\\site-packages\\mne\\preprocessing\\ica.pyc\u001b[0m in \u001b[0;36mfit\u001b[1;34m(self, inst, picks, start, stop, decim, reject, flat, tstep, verbose)\u001b[0m\n",
      "\u001b[1;32mc:\\Anaconda2\\lib\\site-packages\\mne\\utils.pyc\u001b[0m in \u001b[0;36mverbose\u001b[1;34m(function, *args, **kwargs)\u001b[0m\n\u001b[0;32m    626\u001b[0m         \u001b[1;32mwith\u001b[0m \u001b[0muse_log_level\u001b[0m\u001b[1;33m(\u001b[0m\u001b[0mverbose_level\u001b[0m\u001b[1;33m)\u001b[0m\u001b[1;33m:\u001b[0m\u001b[1;33m\u001b[0m\u001b[0m\n\u001b[0;32m    627\u001b[0m             \u001b[1;32mreturn\u001b[0m \u001b[0mfunction\u001b[0m\u001b[1;33m(\u001b[0m\u001b[1;33m*\u001b[0m\u001b[0margs\u001b[0m\u001b[1;33m,\u001b[0m \u001b[1;33m**\u001b[0m\u001b[0mkwargs\u001b[0m\u001b[1;33m)\u001b[0m\u001b[1;33m\u001b[0m\u001b[0m\n\u001b[1;32m--> 628\u001b[1;33m     \u001b[1;32mreturn\u001b[0m \u001b[0mfunction\u001b[0m\u001b[1;33m(\u001b[0m\u001b[1;33m*\u001b[0m\u001b[0margs\u001b[0m\u001b[1;33m,\u001b[0m \u001b[1;33m**\u001b[0m\u001b[0mkwargs\u001b[0m\u001b[1;33m)\u001b[0m\u001b[1;33m\u001b[0m\u001b[0m\n\u001b[0m\u001b[0;32m    629\u001b[0m \u001b[1;33m\u001b[0m\u001b[0m\n\u001b[0;32m    630\u001b[0m \u001b[1;33m\u001b[0m\u001b[0m\n",
      "\u001b[1;32mc:\\Anaconda2\\lib\\site-packages\\mne\\preprocessing\\ica.pyc\u001b[0m in \u001b[0;36mfit\u001b[1;34m(self, inst, picks, start, stop, decim, reject, flat, tstep, verbose)\u001b[0m\n\u001b[0;32m    329\u001b[0m         \u001b[1;32mif\u001b[0m \u001b[0misinstance\u001b[0m\u001b[1;33m(\u001b[0m\u001b[0minst\u001b[0m\u001b[1;33m,\u001b[0m \u001b[0m_BaseRaw\u001b[0m\u001b[1;33m)\u001b[0m\u001b[1;33m:\u001b[0m\u001b[1;33m\u001b[0m\u001b[0m\n\u001b[0;32m    330\u001b[0m             self._fit_raw(inst, picks, start, stop, decim, reject, flat,\n\u001b[1;32m--> 331\u001b[1;33m                           tstep, verbose)\n\u001b[0m\u001b[0;32m    332\u001b[0m         \u001b[1;32melif\u001b[0m \u001b[0misinstance\u001b[0m\u001b[1;33m(\u001b[0m\u001b[0minst\u001b[0m\u001b[1;33m,\u001b[0m \u001b[0m_BaseEpochs\u001b[0m\u001b[1;33m)\u001b[0m\u001b[1;33m:\u001b[0m\u001b[1;33m\u001b[0m\u001b[0m\n\u001b[0;32m    333\u001b[0m             \u001b[0mself\u001b[0m\u001b[1;33m.\u001b[0m\u001b[0m_fit_epochs\u001b[0m\u001b[1;33m(\u001b[0m\u001b[0minst\u001b[0m\u001b[1;33m,\u001b[0m \u001b[0mpicks\u001b[0m\u001b[1;33m,\u001b[0m \u001b[0mdecim\u001b[0m\u001b[1;33m,\u001b[0m \u001b[0mverbose\u001b[0m\u001b[1;33m)\u001b[0m\u001b[1;33m\u001b[0m\u001b[0m\n",
      "\u001b[1;32mc:\\Anaconda2\\lib\\site-packages\\mne\\preprocessing\\ica.pyc\u001b[0m in \u001b[0;36m_fit_raw\u001b[1;34m(self, raw, picks, start, stop, decim, reject, flat, tstep, verbose)\u001b[0m\n\u001b[0;32m    389\u001b[0m         \u001b[0mdata\u001b[0m\u001b[1;33m,\u001b[0m \u001b[0mself\u001b[0m\u001b[1;33m.\u001b[0m\u001b[0m_pre_whitener\u001b[0m \u001b[1;33m=\u001b[0m \u001b[0mself\u001b[0m\u001b[1;33m.\u001b[0m\u001b[0m_pre_whiten\u001b[0m\u001b[1;33m(\u001b[0m\u001b[0mdata\u001b[0m\u001b[1;33m,\u001b[0m \u001b[0mraw\u001b[0m\u001b[1;33m.\u001b[0m\u001b[0minfo\u001b[0m\u001b[1;33m,\u001b[0m \u001b[0mpicks\u001b[0m\u001b[1;33m)\u001b[0m\u001b[1;33m\u001b[0m\u001b[0m\n\u001b[0;32m    390\u001b[0m \u001b[1;33m\u001b[0m\u001b[0m\n\u001b[1;32m--> 391\u001b[1;33m         \u001b[0mself\u001b[0m\u001b[1;33m.\u001b[0m\u001b[0m_fit\u001b[0m\u001b[1;33m(\u001b[0m\u001b[0mdata\u001b[0m\u001b[1;33m,\u001b[0m \u001b[0mself\u001b[0m\u001b[1;33m.\u001b[0m\u001b[0mmax_pca_components\u001b[0m\u001b[1;33m,\u001b[0m \u001b[1;34m'raw'\u001b[0m\u001b[1;33m)\u001b[0m\u001b[1;33m\u001b[0m\u001b[0m\n\u001b[0m\u001b[0;32m    392\u001b[0m \u001b[1;33m\u001b[0m\u001b[0m\n\u001b[0;32m    393\u001b[0m         \u001b[1;32mreturn\u001b[0m \u001b[0mself\u001b[0m\u001b[1;33m\u001b[0m\u001b[0m\n",
      "\u001b[1;32mc:\\Anaconda2\\lib\\site-packages\\mne\\preprocessing\\ica.pyc\u001b[0m in \u001b[0;36m_fit\u001b[1;34m(self, data, max_pca_components, fit_type)\u001b[0m\n\u001b[0;32m    531\u001b[0m             self.unmixing_matrix_ = infomax(data[:, sel],\n\u001b[0;32m    532\u001b[0m                                             \u001b[0mrandom_state\u001b[0m\u001b[1;33m=\u001b[0m\u001b[0mrandom_state\u001b[0m\u001b[1;33m,\u001b[0m\u001b[1;33m\u001b[0m\u001b[0m\n\u001b[1;32m--> 533\u001b[1;33m                                             **self.fit_params)\n\u001b[0m\u001b[0;32m    534\u001b[0m         \u001b[0mself\u001b[0m\u001b[1;33m.\u001b[0m\u001b[0munmixing_matrix_\u001b[0m \u001b[1;33m/=\u001b[0m \u001b[0mnp\u001b[0m\u001b[1;33m.\u001b[0m\u001b[0msqrt\u001b[0m\u001b[1;33m(\u001b[0m\u001b[0mexp_var\u001b[0m\u001b[1;33m[\u001b[0m\u001b[0msel\u001b[0m\u001b[1;33m]\u001b[0m\u001b[1;33m)\u001b[0m\u001b[1;33m[\u001b[0m\u001b[0mNone\u001b[0m\u001b[1;33m,\u001b[0m \u001b[1;33m:\u001b[0m\u001b[1;33m]\u001b[0m\u001b[1;33m\u001b[0m\u001b[0m\n\u001b[0;32m    535\u001b[0m         \u001b[0mself\u001b[0m\u001b[1;33m.\u001b[0m\u001b[0mmixing_matrix_\u001b[0m \u001b[1;33m=\u001b[0m \u001b[0mlinalg\u001b[0m\u001b[1;33m.\u001b[0m\u001b[0mpinv\u001b[0m\u001b[1;33m(\u001b[0m\u001b[0mself\u001b[0m\u001b[1;33m.\u001b[0m\u001b[0munmixing_matrix_\u001b[0m\u001b[1;33m)\u001b[0m\u001b[1;33m\u001b[0m\u001b[0m\n",
      "\u001b[1;32mc:\\Anaconda2\\lib\\site-packages\\mne\\preprocessing\\infomax_.pyc\u001b[0m in \u001b[0;36minfomax\u001b[1;34m(data, weights, l_rate, block, w_change, anneal_deg, anneal_step, extended, n_subgauss, kurt_size, ext_blocks, max_iter, random_state, blowup, blowup_fac, n_small_angle, use_bias, verbose)\u001b[0m\n",
      "\u001b[1;32mc:\\Anaconda2\\lib\\site-packages\\mne\\utils.pyc\u001b[0m in \u001b[0;36mverbose\u001b[1;34m(function, *args, **kwargs)\u001b[0m\n\u001b[0;32m    626\u001b[0m         \u001b[1;32mwith\u001b[0m \u001b[0muse_log_level\u001b[0m\u001b[1;33m(\u001b[0m\u001b[0mverbose_level\u001b[0m\u001b[1;33m)\u001b[0m\u001b[1;33m:\u001b[0m\u001b[1;33m\u001b[0m\u001b[0m\n\u001b[0;32m    627\u001b[0m             \u001b[1;32mreturn\u001b[0m \u001b[0mfunction\u001b[0m\u001b[1;33m(\u001b[0m\u001b[1;33m*\u001b[0m\u001b[0margs\u001b[0m\u001b[1;33m,\u001b[0m \u001b[1;33m**\u001b[0m\u001b[0mkwargs\u001b[0m\u001b[1;33m)\u001b[0m\u001b[1;33m\u001b[0m\u001b[0m\n\u001b[1;32m--> 628\u001b[1;33m     \u001b[1;32mreturn\u001b[0m \u001b[0mfunction\u001b[0m\u001b[1;33m(\u001b[0m\u001b[1;33m*\u001b[0m\u001b[0margs\u001b[0m\u001b[1;33m,\u001b[0m \u001b[1;33m**\u001b[0m\u001b[0mkwargs\u001b[0m\u001b[1;33m)\u001b[0m\u001b[1;33m\u001b[0m\u001b[0m\n\u001b[0m\u001b[0;32m    629\u001b[0m \u001b[1;33m\u001b[0m\u001b[0m\n\u001b[0;32m    630\u001b[0m \u001b[1;33m\u001b[0m\u001b[0m\n",
      "\u001b[1;32mc:\\Anaconda2\\lib\\site-packages\\mne\\preprocessing\\infomax_.pyc\u001b[0m in \u001b[0;36minfomax\u001b[1;34m(data, weights, l_rate, block, w_change, anneal_deg, anneal_step, extended, n_subgauss, kurt_size, ext_blocks, max_iter, random_state, blowup, blowup_fac, n_small_angle, use_bias, verbose)\u001b[0m\n\u001b[0;32m    219\u001b[0m \u001b[1;33m\u001b[0m\u001b[0m\n\u001b[0;32m    220\u001b[0m                     \u001b[1;31m# estimate kurtosis\u001b[0m\u001b[1;33m\u001b[0m\u001b[1;33m\u001b[0m\u001b[0m\n\u001b[1;32m--> 221\u001b[1;33m                     \u001b[0mkurt\u001b[0m \u001b[1;33m=\u001b[0m \u001b[0mkurtosis\u001b[0m\u001b[1;33m(\u001b[0m\u001b[0mtpartact\u001b[0m\u001b[1;33m,\u001b[0m \u001b[0maxis\u001b[0m\u001b[1;33m=\u001b[0m\u001b[1;36m1\u001b[0m\u001b[1;33m,\u001b[0m \u001b[0mfisher\u001b[0m\u001b[1;33m=\u001b[0m\u001b[0mTrue\u001b[0m\u001b[1;33m)\u001b[0m\u001b[1;33m\u001b[0m\u001b[0m\n\u001b[0m\u001b[0;32m    222\u001b[0m \u001b[1;33m\u001b[0m\u001b[0m\n\u001b[0;32m    223\u001b[0m                     \u001b[1;32mif\u001b[0m \u001b[0mextmomentum\u001b[0m \u001b[1;33m!=\u001b[0m \u001b[1;36m0\u001b[0m\u001b[1;33m:\u001b[0m\u001b[1;33m\u001b[0m\u001b[0m\n",
      "\u001b[1;32mc:\\Anaconda2\\lib\\site-packages\\scipy\\stats\\stats.pyc\u001b[0m in \u001b[0;36mkurtosis\u001b[1;34m(a, axis, fisher, bias, nan_policy)\u001b[0m\n\u001b[0;32m   1310\u001b[0m \u001b[1;33m\u001b[0m\u001b[0m\n\u001b[0;32m   1311\u001b[0m     \u001b[0mn\u001b[0m \u001b[1;33m=\u001b[0m \u001b[0ma\u001b[0m\u001b[1;33m.\u001b[0m\u001b[0mshape\u001b[0m\u001b[1;33m[\u001b[0m\u001b[0maxis\u001b[0m\u001b[1;33m]\u001b[0m\u001b[1;33m\u001b[0m\u001b[0m\n\u001b[1;32m-> 1312\u001b[1;33m     \u001b[0mm2\u001b[0m \u001b[1;33m=\u001b[0m \u001b[0mmoment\u001b[0m\u001b[1;33m(\u001b[0m\u001b[0ma\u001b[0m\u001b[1;33m,\u001b[0m \u001b[1;36m2\u001b[0m\u001b[1;33m,\u001b[0m \u001b[0maxis\u001b[0m\u001b[1;33m)\u001b[0m\u001b[1;33m\u001b[0m\u001b[0m\n\u001b[0m\u001b[0;32m   1313\u001b[0m     \u001b[0mm4\u001b[0m \u001b[1;33m=\u001b[0m \u001b[0mmoment\u001b[0m\u001b[1;33m(\u001b[0m\u001b[0ma\u001b[0m\u001b[1;33m,\u001b[0m \u001b[1;36m4\u001b[0m\u001b[1;33m,\u001b[0m \u001b[0maxis\u001b[0m\u001b[1;33m)\u001b[0m\u001b[1;33m\u001b[0m\u001b[0m\n\u001b[0;32m   1314\u001b[0m     \u001b[0mzero\u001b[0m \u001b[1;33m=\u001b[0m \u001b[1;33m(\u001b[0m\u001b[0mm2\u001b[0m \u001b[1;33m==\u001b[0m \u001b[1;36m0\u001b[0m\u001b[1;33m)\u001b[0m\u001b[1;33m\u001b[0m\u001b[0m\n",
      "\u001b[1;32mc:\\Anaconda2\\lib\\site-packages\\scipy\\stats\\stats.pyc\u001b[0m in \u001b[0;36mmoment\u001b[1;34m(a, moment, axis, nan_policy)\u001b[0m\n\u001b[0;32m   1098\u001b[0m         \u001b[1;32mreturn\u001b[0m \u001b[0mnp\u001b[0m\u001b[1;33m.\u001b[0m\u001b[0marray\u001b[0m\u001b[1;33m(\u001b[0m\u001b[0mmmnt\u001b[0m\u001b[1;33m)\u001b[0m\u001b[1;33m\u001b[0m\u001b[0m\n\u001b[0;32m   1099\u001b[0m     \u001b[1;32melse\u001b[0m\u001b[1;33m:\u001b[0m\u001b[1;33m\u001b[0m\u001b[0m\n\u001b[1;32m-> 1100\u001b[1;33m         \u001b[1;32mreturn\u001b[0m \u001b[0m_moment\u001b[0m\u001b[1;33m(\u001b[0m\u001b[0ma\u001b[0m\u001b[1;33m,\u001b[0m \u001b[0mmoment\u001b[0m\u001b[1;33m,\u001b[0m \u001b[0maxis\u001b[0m\u001b[1;33m)\u001b[0m\u001b[1;33m\u001b[0m\u001b[0m\n\u001b[0m\u001b[0;32m   1101\u001b[0m \u001b[1;33m\u001b[0m\u001b[0m\n\u001b[0;32m   1102\u001b[0m \u001b[1;32mdef\u001b[0m \u001b[0m_moment\u001b[0m\u001b[1;33m(\u001b[0m\u001b[0ma\u001b[0m\u001b[1;33m,\u001b[0m \u001b[0mmoment\u001b[0m\u001b[1;33m,\u001b[0m \u001b[0maxis\u001b[0m\u001b[1;33m)\u001b[0m\u001b[1;33m:\u001b[0m\u001b[1;33m\u001b[0m\u001b[0m\n",
      "\u001b[1;32mc:\\Anaconda2\\lib\\site-packages\\scipy\\stats\\stats.pyc\u001b[0m in \u001b[0;36m_moment\u001b[1;34m(a, moment, axis)\u001b[0m\n\u001b[0;32m   1137\u001b[0m \u001b[1;33m\u001b[0m\u001b[0m\n\u001b[0;32m   1138\u001b[0m         \u001b[1;31m# Starting point for exponentiation by squares\u001b[0m\u001b[1;33m\u001b[0m\u001b[1;33m\u001b[0m\u001b[0m\n\u001b[1;32m-> 1139\u001b[1;33m         \u001b[0ma_zero_mean\u001b[0m \u001b[1;33m=\u001b[0m \u001b[0ma\u001b[0m \u001b[1;33m-\u001b[0m \u001b[0mnp\u001b[0m\u001b[1;33m.\u001b[0m\u001b[0mexpand_dims\u001b[0m\u001b[1;33m(\u001b[0m\u001b[0mnp\u001b[0m\u001b[1;33m.\u001b[0m\u001b[0mmean\u001b[0m\u001b[1;33m(\u001b[0m\u001b[0ma\u001b[0m\u001b[1;33m,\u001b[0m \u001b[0maxis\u001b[0m\u001b[1;33m)\u001b[0m\u001b[1;33m,\u001b[0m \u001b[0maxis\u001b[0m\u001b[1;33m)\u001b[0m\u001b[1;33m\u001b[0m\u001b[0m\n\u001b[0m\u001b[0;32m   1140\u001b[0m         \u001b[1;32mif\u001b[0m \u001b[0mn_list\u001b[0m\u001b[1;33m[\u001b[0m\u001b[1;33m-\u001b[0m\u001b[1;36m1\u001b[0m\u001b[1;33m]\u001b[0m \u001b[1;33m==\u001b[0m \u001b[1;36m1\u001b[0m\u001b[1;33m:\u001b[0m\u001b[1;33m\u001b[0m\u001b[0m\n\u001b[0;32m   1141\u001b[0m             \u001b[0ms\u001b[0m \u001b[1;33m=\u001b[0m \u001b[0ma_zero_mean\u001b[0m\u001b[1;33m.\u001b[0m\u001b[0mcopy\u001b[0m\u001b[1;33m(\u001b[0m\u001b[1;33m)\u001b[0m\u001b[1;33m\u001b[0m\u001b[0m\n",
      "\u001b[1;31mKeyboardInterrupt\u001b[0m: "
     ]
    }
   ],
   "source": [
    "raw = load_data('suj20_l2nap_day2.vhdr')\n",
    "#raw.filter(1,50,l_trans_bandwidth=0.5,)"
   ]
  },
  {
   "cell_type": "code",
   "execution_count": 32,
   "metadata": {
    "collapsed": false
   },
   "outputs": [
    {
     "name": "stdout",
     "output_type": "stream",
     "text": [
      "Extracting parameters from suj20_l2nap_day2.vhdr...\n",
      "Setting channel info structure...\n",
      "Reading 0 ... 1807249  =      0.000 ...  1807.249 secs...\n",
      "Band-pass filtering from 1 - 2e+02 Hz\n"
     ]
    },
    {
     "data": {
      "text/plain": [
       "[<matplotlib.lines.Line2D at 0x3c3b7160>]"
      ]
     },
     "execution_count": 32,
     "metadata": {},
     "output_type": "execute_result"
    },
    {
     "data": {
      "image/png": "[encoded data removed]",
      "text/plain": [
       "<matplotlib.figure.Figure at 0x1d1e4710>"
      ]
     },
     "metadata": {},
     "output_type": "display_data"
    }
   ],
   "source": [
    "raw = mne.io.read_raw_brainvision('suj20_l2nap_day2.vhdr',preload=True,scale=1e5)\n",
    "raw.filter(1,200)\n",
    "s,t = raw[0,:]\n",
    "plt.plot(t,s[0,:])"
   ]
  },
  {
   "cell_type": "markdown",
   "metadata": {
    "collapsed": false
   },
   "source": [
    "print(raw.ch_names)\n",
    "raw.set_channel_types({'LOc':'eog','ROc':'eog'})\n",
    "picks=mne.pick_types(raw.info,meg=False,eeg=True,eog=False,stim=False)\n",
    "noise_cov=mne.compute_raw_covariance(raw,picks=picks)\n",
    "raw.notch_filter(np.arange(60,241,60), picks=picks)"
   ]
  },
  {
   "cell_type": "code",
   "execution_count": null,
   "metadata": {
    "collapsed": false
   },
   "outputs": [],
   "source": [
    "eog_events = mne.preprocessing.find_eog_events(raw,l_freq=1,h_freq=50,)\n",
    "n_blinks = len(eog_events)\n",
    "# Center to cover the whole blink with full duration of 0.5s:\n",
    "onset = eog_events[:, 0] / raw.info['sfreq'] - 0.25\n",
    "duration = np.repeat(0.5, n_blinks)\n",
    "raw.annotations = mne.Annotations(onset, duration, ['bad blink'] * n_blinks,\n",
    "                                  orig_time=raw.info['meas_date'])\n",
    "raw.plot(events=eog_events)  # To see the annotated segments."
   ]
  },
  {
   "cell_type": "code",
   "execution_count": null,
   "metadata": {
    "collapsed": true
   },
   "outputs": [],
   "source": [
    "from mne.preprocessing import ICA\n",
    "from mne.preprocessing import create_eog_epochs, create_ecg_epochs"
   ]
  },
  {
   "cell_type": "code",
   "execution_count": null,
   "metadata": {
    "collapsed": true
   },
   "outputs": [],
   "source": []
  }
 ],
 "metadata": {
  "anaconda-cloud": {},
  "kernelspec": {
   "display_name": "Python [Root]",
   "language": "python",
   "name": "Python [Root]"
  },
  "language_info": {
   "codemirror_mode": {
    "name": "ipython",
    "version": 2
   },
   "file_extension": ".py",
   "mimetype": "text/x-python",
   "name": "python",
   "nbconvert_exporter": "python",
   "pygments_lexer": "ipython2",
   "version": "2.7.12"
  }
 },
 "nbformat": 4,
 "nbformat_minor": 0
}
